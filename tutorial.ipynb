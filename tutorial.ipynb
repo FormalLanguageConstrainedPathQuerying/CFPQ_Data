{
 "cells": [
  {
   "cell_type": "markdown",
   "id": "d4422c73",
   "metadata": {},
   "source": [
    "## Tutorial\n",
    "\n",
    "Release\n",
    "\n",
    ":   4.0.1\n",
    "\n",
    "Date\n",
    "\n",
    ":   Nov 30, 2022\n",
    "\n",
    "This guide can help you start working with CFPQ_Data.\n",
    "\n",
    "**You can download this tutorial as a Jupyter Notebook from the link at the end of the page.**\n",
    "\n",
    "### Import\n",
    "\n",
    "First you need to import the package."
   ]
  },
  {
   "cell_type": "code",
   "execution_count": null,
   "id": "c50968cb",
   "metadata": {},
   "outputs": [],
   "source": [
    "import cfpq_data"
   ]
  },
  {
   "cell_type": "markdown",
   "id": "6995a9e2",
   "metadata": {},
   "source": [
    "# Load graph\n",
    "\n",
    "After the package is imported, we can load the graphs.\n",
    "\n",
    "## Load graph archive from Dataset\n",
    "\n",
    "We can load the archive with the graph using function `download`."
   ]
  },
  {
   "cell_type": "code",
   "execution_count": null,
   "id": "5e200113",
   "metadata": {},
   "outputs": [],
   "source": [
    "bzip_path = cfpq_data.download(\"bzip\")"
   ]
  },
  {
   "cell_type": "markdown",
   "id": "82673172",
   "metadata": {},
   "source": [
    "# Load graph by path\n",
    "\n",
    "We can load the graph along the specified path using function `graph_from_csv`."
   ]
  },
  {
   "cell_type": "code",
   "execution_count": null,
   "id": "972bb665",
   "metadata": {},
   "outputs": [],
   "source": [
    "bzip = cfpq_data.graph_from_csv(bzip_path)"
   ]
  },
  {
   "cell_type": "markdown",
   "id": "c26e80f9",
   "metadata": {},
   "source": [
    "Create graph\n",
    "\n",
    "We can also create a synthetic graph using one of the generators in module Graph generators.\n",
    "\n",
    "# Create a one cycle graph\n",
    "\n",
    "For example, let's create a one cycle graph, with 5 nodes, the edges of which are marked with the letter `a`."
   ]
  },
  {
   "cell_type": "code",
   "execution_count": null,
   "id": "880d436e",
   "metadata": {},
   "outputs": [],
   "source": [
    "cycle = cfpq_data.labeled_cycle_graph(5, label=\"a\")"
   ]
  },
  {
   "cell_type": "markdown",
   "id": "8992c8e4",
   "metadata": {},
   "source": [
    "Change edges\n",
    "\n",
    "We can change the specified graph labels by using function `change_edges`\n",
    "from Graph utilities."
   ]
  },
  {
   "cell_type": "code",
   "execution_count": null,
   "id": "033e31a2",
   "metadata": {},
   "outputs": [],
   "source": [
    "new_cycle = cfpq_data.change_edges(cycle, {\"a\": \"b\"})"
   ]
  },
  {
   "cell_type": "markdown",
   "id": "996c629b",
   "metadata": {},
   "source": [
    "Now the labels `a` have changed to `b`.\n",
    "\n",
    "# Add reverse edges\n",
    "\n",
    "In addition, we can add reverse edges to the graph by using function `add_reverse_edges`\n",
    "from Graph utilities. This is extremely useful if graph analysis is formulated using such reverse edges."
   ]
  },
  {
   "cell_type": "code",
   "execution_count": null,
   "id": "cd5ca28f",
   "metadata": {},
   "outputs": [],
   "source": [
    "new_cycle_with_reversed = cfpq_data.add_reverse_edges(new_cycle)"
   ]
  },
  {
   "cell_type": "markdown",
   "id": "89ae84c5",
   "metadata": {},
   "source": [
    "Now, for each edge with label `a` this graph contains the reversed edge with label `a_r`.\n",
    "\n",
    "# Load grammar\n",
    "\n",
    "Also, we can load the grammars generated from grammar templates that are described on the Grammars page.\n",
    "\n",
    "## Load grammars archive from Dataset\n",
    "\n",
    "We can load the archive with the grammars for the specified template using function `download_grammars`."
   ]
  },
  {
   "cell_type": "code",
   "execution_count": null,
   "id": "7426a76a",
   "metadata": {},
   "outputs": [],
   "source": [
    "c_alias_path = cfpq_data.download_grammars(\"c_alias\")"
   ]
  },
  {
   "cell_type": "markdown",
   "id": "bcbbf5bd",
   "metadata": {},
   "source": [
    "# Load grammars archive for specified graph\n",
    "\n",
    "For some grammar templates we also can load the archive with the grammars for specific graphs."
   ]
  },
  {
   "cell_type": "code",
   "execution_count": null,
   "id": "452a7fac",
   "metadata": {},
   "outputs": [],
   "source": [
    "java_pt_avrora_path = cfpq_data.download_grammars(\"java_points_to\", graph_name=\"avrora\")"
   ]
  },
  {
   "cell_type": "markdown",
   "id": "9b04aba1",
   "metadata": {},
   "source": [
    "Regular grammars\n",
    "\n",
    "Currently, we have one representation of regular grammars:\n",
    "\n",
    "1. [Regular expression](https://en.wikipedia.org/wiki/Regular_expression#Formal_definition)\n",
    "\n",
    "# Create a regular expression\n",
    "\n",
    "For example, a regular expression can be created by using function `regex_from_text`\n",
    "from Reading and writing grammars."
   ]
  },
  {
   "cell_type": "code",
   "execution_count": null,
   "id": "58a6e662",
   "metadata": {},
   "outputs": [],
   "source": [
    "regex = cfpq_data.regex_from_text(\"a (bc|d*)\")"
   ]
  },
  {
   "cell_type": "markdown",
   "id": "69e21078",
   "metadata": {},
   "source": [
    "# Load regular expression by path\n",
    "\n",
    "We can load the regular expression along the specified path using function `regex_from_txt`."
   ]
  },
  {
   "cell_type": "code",
   "execution_count": null,
   "id": "9a58d90d",
   "metadata": {},
   "outputs": [],
   "source": [
    "path = cfpq_data.regex_to_txt(regex, \"test.txt\")\n",
    "regex_by_path = cfpq_data.regex_from_txt(path)"
   ]
  },
  {
   "cell_type": "markdown",
   "id": "b068709a",
   "metadata": {},
   "source": [
    "Сontext-free grammars\n",
    "\n",
    "Currently, we have three representations of context-free grammars (CFGs):\n",
    "\n",
    "1. [Classic](https://en.wikipedia.org/wiki/Context-free_grammar#Formal_definitions)\n",
    "\n",
    "1. [Chomsky Normal Form](https://en.wikipedia.org/wiki/Chomsky_normal_form)\n",
    "\n",
    "1. [Recursive State Machine](https://link.springer.com/chapter/10.1007/978-3-030-54832-2_6#Sec2)\n",
    "\n",
    "# Create a classic context-free grammar\n",
    "\n",
    "A classic context-free grammar can be created by using function `cfg_from_text`\n",
    "from Reading and writing grammars."
   ]
  },
  {
   "cell_type": "code",
   "execution_count": null,
   "id": "bf52f4a5",
   "metadata": {},
   "outputs": [],
   "source": [
    "cfg = cfpq_data.cfg_from_text(\"S -> a S b S | a b\")"
   ]
  },
  {
   "cell_type": "markdown",
   "id": "40786b20",
   "metadata": {},
   "source": [
    "# Load context-free grammar by path\n",
    "\n",
    "We can load the classic context-free grammar along the specified path using function `cfg_from_txt`."
   ]
  },
  {
   "cell_type": "code",
   "execution_count": null,
   "id": "01b50628",
   "metadata": {},
   "outputs": [],
   "source": [
    "path = cfpq_data.cfg_to_txt(cfg, \"test.txt\")\n",
    "cfg_by_path = cfpq_data.cfg_from_txt(path)"
   ]
  },
  {
   "cell_type": "markdown",
   "id": "1cb43c01",
   "metadata": {},
   "source": [
    "Generate grammar\n",
    "\n",
    "We can also generate a grammar for specified template using one of the generators in module Grammar generators.\n",
    "\n",
    "# Generate a Dyck grammar\n",
    "\n",
    "For example, let's generate a Dyck grammar of the balanced strings with `a` as an opening parenthesis, `b` as a closing parenthesis, and without the empty string."
   ]
  },
  {
   "cell_type": "code",
   "execution_count": null,
   "id": "ca1afd9f",
   "metadata": {},
   "outputs": [],
   "source": [
    "dyck_cfg = cfpq_data.dyck_grammar([(\"a\", \"b\")], eps=False)"
   ]
  },
  {
   "cell_type": "markdown",
   "id": "6cdfff80",
   "metadata": {},
   "source": [
    "# Generate a Java Points-to grammar\n",
    "\n",
    "Also, let's generate a Java Points-to grammar for the field-sensitive analysis of Java programs with field names `f0` and `f1`."
   ]
  },
  {
   "cell_type": "code",
   "execution_count": null,
   "id": "c3686603",
   "metadata": {},
   "outputs": [],
   "source": [
    "java_pt_cfg = cfpq_data.java_points_to_grammar([\"f0\", \"f1\"])"
   ]
  },
  {
   "cell_type": "markdown",
   "id": "9342552a",
   "metadata": {},
   "source": [
    "Benchmarks\n",
    "\n",
    "In addition, one of the prepared benchmarks that contains graphs, queries, other input data, and results for\n",
    "a particular formal-language-constrained path querying problem can be downloaded.\n",
    "\n",
    "Currently, we provide the following benchmarks documented on the Benchmarks page:\n",
    "\n",
    "1. MS_Reachability\n",
    "\n",
    "# Load benchmark archive\n",
    "\n",
    "You can load the archive with the benchmark using function `download_benchmark`."
   ]
  },
  {
   "cell_type": "code",
   "execution_count": null,
   "id": "dbcb9e8d",
   "metadata": {},
   "outputs": [],
   "source": [
    "ms_reachability_path = cfpq_data.download_benchmark(\"MS_Reachability\")"
   ]
  },
  {
   "cell_type": "markdown",
   "id": "82ef9504",
   "metadata": {},
   "source": [
    "# MS_Reachability benchmark\n",
    "\n",
    "MS_Reachability benchmark can be used for the experimental study of the algorithms that solve the multiple-source\n",
    "formal-language-constrained reachability problem. This benchmark is described on the MS_Reachability page.\n",
    "\n",
    "For this benchmark we provide some useful functions from\n",
    "Graph utilities.\n",
    "For example, the set of source vertices can be saved to the TXT file or it can be loaded from benchmark by using\n",
    "functions `multiple_source_from_txt` and\n",
    "`multiple_source_to_txt`."
   ]
  },
  {
   "cell_type": "code",
   "execution_count": null,
   "id": "70510207",
   "metadata": {},
   "outputs": [],
   "source": [
    "s = {1, 2, 5, 10}\n",
    "path = cfpq_data.multiple_source_to_txt(s, \"test.txt\")\n",
    "source_vertices = cfpq_data.multiple_source_from_txt(path)"
   ]
  }
 ],
 "metadata": {},
 "nbformat": 4,
 "nbformat_minor": 5
}
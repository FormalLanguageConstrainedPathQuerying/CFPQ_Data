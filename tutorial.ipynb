{
 "cells": [
  {
   "cell_type": "markdown",
   "id": "fafbf9b9",
   "metadata": {},
   "source": [
    "## Tutorial\n",
    "\n",
    "Release\n",
    "\n",
    ":   2.0.0\n",
    "\n",
    "Date\n",
    "\n",
    ":   Nov 07, 2021\n",
    "\n",
    "This guide can help you start working with CFPQ_Data.\n",
    "\n",
    "**You can download this tutorial as a Jupyter Notebook from the link at the end of the page.**\n",
    "\n",
    "### Import\n",
    "\n",
    "First you need to import the package."
   ]
  },
  {
   "cell_type": "code",
   "execution_count": null,
   "id": "ff732d3f",
   "metadata": {},
   "outputs": [],
   "source": [
    "import cfpq_data"
   ]
  },
  {
   "cell_type": "markdown",
   "id": "284500da",
   "metadata": {},
   "source": [
    "# Load graph\n",
    "\n",
    "After the package is imported, we can load the graphs.\n",
    "\n",
    "## Load graph archive from Dataset\n",
    "\n",
    "We can load the archive with the graph using function `download`."
   ]
  },
  {
   "cell_type": "code",
   "execution_count": null,
   "id": "41ac2cc2",
   "metadata": {},
   "outputs": [],
   "source": [
    "bzip_path = cfpq_data.download(\"bzip\")"
   ]
  },
  {
   "cell_type": "markdown",
   "id": "b400409c",
   "metadata": {},
   "source": [
    "# Load graph by path\n",
    "\n",
    "We can load the graph along the specified path using function `graph_from_csv`."
   ]
  },
  {
   "cell_type": "code",
   "execution_count": null,
   "id": "831b05bb",
   "metadata": {},
   "outputs": [],
   "source": [
    "bzip = cfpq_data.graph_from_csv(bzip_path)"
   ]
  },
  {
   "cell_type": "markdown",
   "id": "60982620",
   "metadata": {},
   "source": [
    "Create graph\n",
    "\n",
    "We can also create a synthetic graph using one of the generators in module Graph generators.\n",
    "\n",
    "# Create a one cycle graph\n",
    "\n",
    "For example, let's create a one cycle graph, with 5 nodes, the edges of which are marked with the letter `a`."
   ]
  },
  {
   "cell_type": "code",
   "execution_count": null,
   "id": "d1ecdf4b",
   "metadata": {},
   "outputs": [],
   "source": [
    "cycle = cfpq_data.labeled_cycle_graph(5, label=\"a\")"
   ]
  },
  {
   "cell_type": "markdown",
   "id": "af85349f",
   "metadata": {},
   "source": [
    "Change edges\n",
    "\n",
    "We can change the specified graph labels by using function `change_edges`\n",
    "from Graph utilities."
   ]
  },
  {
   "cell_type": "code",
   "execution_count": null,
   "id": "c7a9d59c",
   "metadata": {},
   "outputs": [],
   "source": [
    "new_cycle = cfpq_data.change_edges(cycle, {\"a\": \"b\"})"
   ]
  },
  {
   "cell_type": "markdown",
   "id": "a48c9fda",
   "metadata": {},
   "source": [
    "Now the labels `a` have changed to `b`.\n",
    "\n",
    "# Grammars\n",
    "\n",
    "You can create your own context-free grammar (CFG) or use a predefined one.\n",
    "Now we have three representations of CFG documented on the Grammars page:\n",
    "\n",
    "1. [Classic](https://en.wikipedia.org/wiki/Context-free_grammar#Formal_definitions)\n",
    "\n",
    "1. [Chomsky Normal Form](https://en.wikipedia.org/wiki/Chomsky_normal_form)\n",
    "\n",
    "1. [Recursive State Machine](https://link.springer.com/chapter/10.1007/978-3-030-54832-2_6#Sec2)\n",
    "\n",
    "## Create a context-free grammar\n",
    "\n",
    "You can create context-free grammar by using function `cfg_from_text`\n",
    "from Reading and writing grammars."
   ]
  },
  {
   "cell_type": "code",
   "execution_count": null,
   "id": "41395d33",
   "metadata": {},
   "outputs": [],
   "source": [
    "cfg = cfpq_data.cfg_from_text(\"S -> a S b S | a b\")"
   ]
  }
 ],
 "metadata": {},
 "nbformat": 4,
 "nbformat_minor": 5
}
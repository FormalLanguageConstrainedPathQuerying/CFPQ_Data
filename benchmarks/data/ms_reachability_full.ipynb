{
 "cells": [
  {
   "cell_type": "markdown",
   "id": "5d4061db",
   "metadata": {},
   "source": [
    "## MS_Reachability\n",
    "\n",
    "### Info\n",
    "\n",
    "### Description\n",
    "\n",
    "This benchmark contains graphs, queries, sets of source vertices, and results for the multiple-source\n",
    "formal-language-constrained reachability problem.\n",
    "For each graph we provide the following benchmark information:\n",
    "\n",
    "* **graph** -- contains a graph and its statistics (.csv + .md)\n",
    "\n",
    "* **queries** -- contains different regular queries in the form of regular expressions\n",
    "\n",
    "* **results** -- contains files with pairs of vertices <src, dest>  where 'src' is a source vertex and 'dest' is a vertex reachable from the 'src' vertex with respect to a particular query and a set of source vertices\n",
    "\n",
    "* **src_vertices** -- contains different sets of source vertices\n",
    "\n",
    "More information about multiple-source formal-language-constrained reachability problem can be found in\n",
    "[\"Multiple-Source Context-Free Path Querying in Terms of Linear Algebra\"](https://openproceedings.org/2021/conf/edbt/p48.pdf)\n",
    "\n",
    "### Graphs Used\n",
    "\n",
    "### Query Examples\n",
    "\n",
    "$$\n",
    "\\textit{type} \\, \\textit{isDefinedBy}^{*} \\, \\textit{type}\\\\\n",
    "$$\n",
    "\n",
    "[Pyformlang Regex](https://pyformlang.readthedocs.io/en/latest/modules/regular_expression.html#pyformlang.regular_expression.Regex):\n",
    "\n",
    "```\n",
    "type isDefinedBy* type\n",
    "```\n",
    "\n",
    "\n",
    "---\n",
    "\n",
    "$$\n",
    "(\\textit{rest} \\, | \\, \\textit{label} \\, | \\, \\textit{range} \\, | \\, \\textit{type} \\, | \\, \\textit{comment}) \\, \\textit{seeAlso}^{*}\\\\\n",
    "$$\n",
    "\n",
    "[Pyformlang Regex](https://pyformlang.readthedocs.io/en/latest/modules/regular_expression.html#pyformlang.regular_expression.Regex):\n",
    "\n",
    "```\n",
    "(rest | label | range | type | comment) seeAlso*\n",
    "```\n",
    "\n",
    "### Useful utilities\n",
    "\n",
    "For this benchmark we provide some useful functions from\n",
    "Graph utilities.\n",
    "For example, the set of source vertices can be saved to the TXT file or it can be loaded from benchmark by using\n",
    "functions `multiple_source_from_txt` and\n",
    "`multiple_source_to_txt`."
   ]
  },
  {
   "cell_type": "code",
   "execution_count": 1,
   "id": "c48448ac",
   "metadata": {
    "execution": {
     "iopub.execute_input": "2022-11-30T13:49:36.595498Z",
     "iopub.status.busy": "2022-11-30T13:49:36.595236Z",
     "iopub.status.idle": "2022-11-30T13:49:36.963574Z",
     "shell.execute_reply": "2022-11-30T13:49:36.963038Z"
    }
   },
   "outputs": [
    {
     "name": "stderr",
     "output_type": "stream",
     "text": [
      "[2022-11-30 13:49:36]>INFO>Save source_vertices={1, 2, 10, 5} to dest=PosixPath('/home/runner/work/CFPQ_Data/CFPQ_Data/docs/test.txt')\n"
     ]
    },
    {
     "name": "stderr",
     "output_type": "stream",
     "text": [
      "[2022-11-30 13:49:36]>INFO>Load source_vertices={1, 2, 10, 5} from path=PosixPath('/home/runner/work/CFPQ_Data/CFPQ_Data/docs/test.txt')\n"
     ]
    }
   ],
   "source": [
    "import cfpq_data\n",
    "\n",
    "s = {1, 2, 5, 10}\n",
    "path = cfpq_data.multiple_source_to_txt(s, \"test.txt\")\n",
    "source_vertices = cfpq_data.multiple_source_from_txt(path)"
   ]
  }
 ],
 "metadata": {
  "language_info": {
   "codemirror_mode": {
    "name": "ipython",
    "version": 3
   },
   "file_extension": ".py",
   "mimetype": "text/x-python",
   "name": "python",
   "nbconvert_exporter": "python",
   "pygments_lexer": "ipython3",
   "version": "3.8.14"
  }
 },
 "nbformat": 4,
 "nbformat_minor": 5
}
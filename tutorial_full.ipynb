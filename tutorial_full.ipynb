{
 "cells": [
  {
   "cell_type": "markdown",
   "id": "9fab70f7",
   "metadata": {},
   "source": [
    "## Tutorial\n",
    "\n",
    "Release\n",
    "\n",
    ":   1.0.2\n",
    "\n",
    "Date\n",
    "\n",
    ":   Aug 30, 2021\n",
    "\n",
    "This guide can help you start working with CFPQ_Data.\n",
    "You can download this tutorial as a Jupyter Notebook from the link at the end of the page.\n",
    "\n",
    "All functions are documented on the Reference page.\n",
    "\n",
    "### Graphs\n",
    "\n",
    "You are able to get a synthetic or real-world graph with CFPQ_Data.\n",
    "\n",
    "#### Create a synthetic graph\n",
    "\n",
    "You can create many different synthetic graphs by using functions from Graph generators.\n",
    "\n",
    "For example, let's create a one cycle graph, the edges of which are marked with the letter `a`."
   ]
  },
  {
   "cell_type": "code",
   "execution_count": 1,
   "id": "dcb68849",
   "metadata": {
    "execution": {
     "iopub.execute_input": "2021-08-30T14:27:47.172180Z",
     "iopub.status.busy": "2021-08-30T14:27:47.171271Z",
     "iopub.status.idle": "2021-08-30T14:27:47.512605Z",
     "shell.execute_reply": "2021-08-30T14:27:47.513111Z"
    }
   },
   "outputs": [
    {
     "name": "stderr",
     "output_type": "stream",
     "text": [
      "\r",
      "Generation...:   0%|          | 0/5 [00:00<?, ?it/s]"
     ]
    },
    {
     "name": "stderr",
     "output_type": "stream",
     "text": [
      "\r",
      "Generation...: 100%|██████████| 5/5 [00:00<00:00, 46192.78it/s]"
     ]
    },
    {
     "name": "stderr",
     "output_type": "stream",
     "text": [
      "\n"
     ]
    }
   ],
   "source": [
    "import cfpq_data\n",
    "cycle = cfpq_data.labeled_cycle_graph(5, edge_label=\"a\")"
   ]
  },
  {
   "cell_type": "markdown",
   "id": "5a04fa13",
   "metadata": {},
   "source": [
    "# Get a real graph\n",
    "\n",
    "You can get many different real-world graphs from CFPQ_Data Dataset.\n",
    "\n",
    "And present these graphs in convenient formats by using functions from Reading and writing graphs.\n",
    "\n",
    "For example, let's get a `generations` ontology graph."
   ]
  },
  {
   "cell_type": "code",
   "execution_count": 2,
   "id": "8bb774dc",
   "metadata": {
    "execution": {
     "iopub.execute_input": "2021-08-30T14:27:47.518221Z",
     "iopub.status.busy": "2021-08-30T14:27:47.517584Z",
     "iopub.status.idle": "2021-08-30T14:27:47.996288Z",
     "shell.execute_reply": "2021-08-30T14:27:47.996916Z"
    }
   },
   "outputs": [
    {
     "name": "stderr",
     "output_type": "stream",
     "text": [
      "\r",
      "Downloading 'generations'...:   0%|          | 0.00/1.29k [00:00<?, ?B/s]"
     ]
    },
    {
     "name": "stderr",
     "output_type": "stream",
     "text": [
      "\r",
      "Downloading 'generations'...: 100%|██████████| 1.29k/1.29k [00:00<00:00, 25.0kB/s]"
     ]
    },
    {
     "name": "stderr",
     "output_type": "stream",
     "text": [
      "\n"
     ]
    },
    {
     "name": "stderr",
     "output_type": "stream",
     "text": [
      "\r",
      "Loading...:   0%|          | 0/273 [00:00<?, ?it/s]"
     ]
    },
    {
     "name": "stderr",
     "output_type": "stream",
     "text": [
      "\r",
      "Loading...: 100%|██████████| 273/273 [00:00<00:00, 126398.61it/s]"
     ]
    },
    {
     "name": "stderr",
     "output_type": "stream",
     "text": [
      "\n"
     ]
    }
   ],
   "source": [
    "generations = cfpq_data.graph_from_dataset(\"generations\")"
   ]
  },
  {
   "cell_type": "markdown",
   "id": "eb168b80",
   "metadata": {},
   "source": [
    "# Change labels\n",
    "\n",
    "You can change the specified graph labels by using function `cfpq_data.graphs.utils.change_edges()`\n",
    "from Graph utilities."
   ]
  },
  {
   "cell_type": "code",
   "execution_count": 3,
   "id": "caae0b60",
   "metadata": {
    "execution": {
     "iopub.execute_input": "2021-08-30T14:27:48.001472Z",
     "iopub.status.busy": "2021-08-30T14:27:48.000784Z",
     "iopub.status.idle": "2021-08-30T14:27:48.005284Z",
     "shell.execute_reply": "2021-08-30T14:27:48.005695Z"
    }
   },
   "outputs": [
    {
     "name": "stderr",
     "output_type": "stream",
     "text": [
      "\r",
      "Generation...:   0%|          | 0/5 [00:00<?, ?it/s]"
     ]
    },
    {
     "name": "stderr",
     "output_type": "stream",
     "text": [
      "\r",
      "Generation...: 100%|██████████| 5/5 [00:00<00:00, 58416.49it/s]"
     ]
    },
    {
     "name": "stderr",
     "output_type": "stream",
     "text": [
      "\n"
     ]
    }
   ],
   "source": [
    "new_cycle = cfpq_data.change_edges(cycle, {\"a\": \"b\"})"
   ]
  },
  {
   "cell_type": "markdown",
   "id": "e4bd35fb",
   "metadata": {},
   "source": [
    "Now the labels `a` have changed to `b`.\n",
    "\n",
    " Grammars\n",
    "\n",
    "You can create your own context-free grammar (CFG) or use a predefined one.\n",
    "Now we have three representations of CFG documented on the Grammars page:\n",
    "\n",
    "1. [Classic](https://en.wikipedia.org/wiki/Context-free_grammar#Formal_definitions)\n",
    "\n",
    "1. [Chomsky Normal Form](https://en.wikipedia.org/wiki/Chomsky_normal_form)\n",
    "\n",
    "1. [Recursive State Machine](https://link.springer.com/chapter/10.1007/978-3-030-54832-2_6#Sec2)\n",
    "\n",
    "# Create a context-free grammar\n",
    "\n",
    "You can create context-free grammar by using function `cfpq_data.grammars.readwrite.cfg.cfg_from_text()`\n",
    "from Reading and writing grammars."
   ]
  },
  {
   "cell_type": "code",
   "execution_count": 4,
   "id": "2357ed82",
   "metadata": {
    "execution": {
     "iopub.execute_input": "2021-08-30T14:27:48.009600Z",
     "iopub.status.busy": "2021-08-30T14:27:48.009077Z",
     "iopub.status.idle": "2021-08-30T14:27:48.011845Z",
     "shell.execute_reply": "2021-08-30T14:27:48.010996Z"
    }
   },
   "outputs": [],
   "source": [
    "cfg = cfpq_data.cfg_from_text(\"S -> a S b S | a b\")"
   ]
  },
  {
   "cell_type": "markdown",
   "id": "e54cdc05",
   "metadata": {},
   "source": [
    "# Use predefined context-free grammar\n",
    "\n",
    "CFPQ_Data has many predefined grammars documented on the Grammar samples page."
   ]
  },
  {
   "cell_type": "code",
   "execution_count": 5,
   "id": "6f640cb0",
   "metadata": {
    "execution": {
     "iopub.execute_input": "2021-08-30T14:27:48.021598Z",
     "iopub.status.busy": "2021-08-30T14:27:48.019331Z",
     "iopub.status.idle": "2021-08-30T14:27:48.027078Z",
     "shell.execute_reply": "2021-08-30T14:27:48.026624Z"
    }
   },
   "outputs": [
    {
     "data": {
      "text/plain": [
       "'S -> a b\\nS -> a S b\\n'"
      ]
     },
     "execution_count": 5,
     "metadata": {},
     "output_type": "execute_result"
    }
   ],
   "source": [
    "brackets = cfpq_data.brackets\n",
    "brackets.to_text()  # 'S -> a S b\\nS -> a b\\n'"
   ]
  },
  {
   "cell_type": "markdown",
   "id": "296e022d",
   "metadata": {},
   "source": [
    "# Change terminals\n",
    "\n",
    "You can change the specified grammar terminals by using\n",
    "function `cfpq_data.grammars.utils.change_terminals.change_terminals_in_cfg()`\n",
    "from Grammar utilities."
   ]
  },
  {
   "cell_type": "code",
   "execution_count": 6,
   "id": "242ae7b3",
   "metadata": {
    "execution": {
     "iopub.execute_input": "2021-08-30T14:27:48.032436Z",
     "iopub.status.busy": "2021-08-30T14:27:48.031930Z",
     "iopub.status.idle": "2021-08-30T14:27:48.036854Z",
     "shell.execute_reply": "2021-08-30T14:27:48.037321Z"
    }
   },
   "outputs": [
    {
     "data": {
      "text/plain": [
       "'S -> b S c\\nS -> b c\\n'"
      ]
     },
     "execution_count": 6,
     "metadata": {},
     "output_type": "execute_result"
    }
   ],
   "source": [
    "brackets1 = cfpq_data.change_terminals_in_cfg(brackets, {\"a\": \"b\", \"b\": \"c\"})\n",
    "brackets1.to_text()  # 'S -> b S c\\nS -> b c\\n'"
   ]
  }
 ],
 "metadata": {
  "language_info": {
   "codemirror_mode": {
    "name": "ipython",
    "version": 3
   },
   "file_extension": ".py",
   "mimetype": "text/x-python",
   "name": "python",
   "nbconvert_exporter": "python",
   "pygments_lexer": "ipython3",
   "version": "3.8.11"
  }
 },
 "nbformat": 4,
 "nbformat_minor": 5
}
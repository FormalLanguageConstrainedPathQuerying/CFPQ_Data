{
 "cells": [
  {
   "cell_type": "markdown",
   "id": "6bc7f6f4",
   "metadata": {},
   "source": [
    "## Tutorial\n",
    "\n",
    "Release\n",
    "\n",
    ":   1.0.0\n",
    "\n",
    "Date\n",
    "\n",
    ":   May 11, 2021\n",
    "\n",
    "This guide can help you start working with CFPQ_Data.\n",
    "\n",
    "We use the NetworkX [MultiDiGraph](https://networkx.org/documentation/latest/reference/classes/multidigraph.html) to represent the labeled graph.\n",
    "To familiarize yourself with this representation, see [NetworkX tutorial](https://networkx.org/documentation/latest/tutorial.html).\n",
    "\n",
    "We use the Pyformlang [CFG](https://pyformlang.readthedocs.io/en/latest/modules/context_free_grammar.html) to represent the\n",
    "context-free grammar.\n",
    "To familiarize yourself with this representation, see [Pyformlang usage](https://pyformlang.readthedocs.io/en/latest/usage.html#context-free-grammar).\n",
    "\n",
    "All functions are documented on the Reference page.\n",
    "\n",
    "### Graphs\n",
    "\n",
    "You are able to get a synthetic or real-world graph with CFPQ_Data.\n",
    "\n",
    "#### Create a synthetic graph\n",
    "\n",
    "You can create many different synthetic graphs by using functions from Graph's generators.\n",
    "\n",
    "For example, let's create a one cycle graph, the edges of which are marked with the letter `a`."
   ]
  },
  {
   "cell_type": "code",
   "execution_count": 1,
   "id": "27c11676",
   "metadata": {
    "execution": {
     "iopub.execute_input": "2021-05-11T13:26:15.975250Z",
     "iopub.status.busy": "2021-05-11T13:26:15.974422Z",
     "iopub.status.idle": "2021-05-11T13:26:16.506213Z",
     "shell.execute_reply": "2021-05-11T13:26:16.506730Z"
    }
   },
   "outputs": [],
   "source": [
    "import cfpq_data\n",
    "cycle = cfpq_data.labeled_cycle_graph(5, edge_label=\"a\")"
   ]
  },
  {
   "cell_type": "markdown",
   "id": "9d197fb3",
   "metadata": {},
   "source": [
    "# Get a real graph\n",
    "\n",
    "You can get many different real-world graphs from CFPQ_Data Dataset.\n",
    "\n",
    "And present these graphs in convenient formats by using functions from Graph's readwrite.\n",
    "\n",
    "For example, let's get a `generations` ontology graph."
   ]
  },
  {
   "cell_type": "code",
   "execution_count": 2,
   "id": "6f55f823",
   "metadata": {
    "execution": {
     "iopub.execute_input": "2021-05-11T13:26:16.511357Z",
     "iopub.status.busy": "2021-05-11T13:26:16.510735Z",
     "iopub.status.idle": "2021-05-11T13:26:17.877149Z",
     "shell.execute_reply": "2021-05-11T13:26:17.876130Z"
    }
   },
   "outputs": [],
   "source": [
    "generations = cfpq_data.graph_from_dataset(\"generations\")"
   ]
  },
  {
   "cell_type": "markdown",
   "id": "717639a0",
   "metadata": {},
   "source": [
    "# Change labels\n",
    "\n",
    "You can change the specified graph labels by using function `cfpq_data.graphs.utils.change_edges()`\n",
    "from Graph's utils."
   ]
  },
  {
   "cell_type": "code",
   "execution_count": 3,
   "id": "89925599",
   "metadata": {
    "execution": {
     "iopub.execute_input": "2021-05-11T13:26:17.882310Z",
     "iopub.status.busy": "2021-05-11T13:26:17.881689Z",
     "iopub.status.idle": "2021-05-11T13:26:17.885776Z",
     "shell.execute_reply": "2021-05-11T13:26:17.885133Z"
    }
   },
   "outputs": [],
   "source": [
    "new_cycle = cfpq_data.change_edges(cycle, {\"a\": \"b\"})"
   ]
  },
  {
   "cell_type": "markdown",
   "id": "f795ff59",
   "metadata": {},
   "source": [
    "Now the labels `a` have changed to `b`.\n",
    "\n",
    " Grammars\n",
    "\n",
    "You can create your own context-free grammar (CFG) or use a predefined one.\n",
    "We now have three representations of CFG documented on the Grammars page:\n",
    "\n",
    "1. [Classic](https://en.wikipedia.org/wiki/Context-free_grammar#Formal_definitions)\n",
    "\n",
    "1. [Chomsky Normal Form](https://en.wikipedia.org/wiki/Chomsky_normal_form)\n",
    "\n",
    "1. [Recursive State Machine](https://link.springer.com/chapter/10.1007/978-3-030-54832-2_6#Sec2)\n",
    "\n",
    "# Create a context-free grammar\n",
    "\n",
    "You can create context-free grammar by using function `cfpq_data.grammars.readwrite.cfg.cfg_from_text()`\n",
    "from Grammar's readwrite."
   ]
  },
  {
   "cell_type": "code",
   "execution_count": 4,
   "id": "0ec4162d",
   "metadata": {
    "execution": {
     "iopub.execute_input": "2021-05-11T13:26:17.890344Z",
     "iopub.status.busy": "2021-05-11T13:26:17.889543Z",
     "iopub.status.idle": "2021-05-11T13:26:17.893143Z",
     "shell.execute_reply": "2021-05-11T13:26:17.893664Z"
    }
   },
   "outputs": [],
   "source": [
    "cfg = cfpq_data.cfg_from_text(\"S -> a S b S | a b\")"
   ]
  },
  {
   "cell_type": "markdown",
   "id": "5ba51150",
   "metadata": {},
   "source": [
    "# Use predefined context-free grammar\n",
    "\n",
    "CFPQ_Data has many predefined grammars documented on the Grammar's samples page."
   ]
  },
  {
   "cell_type": "code",
   "execution_count": 5,
   "id": "2dc17100",
   "metadata": {
    "execution": {
     "iopub.execute_input": "2021-05-11T13:26:17.907637Z",
     "iopub.status.busy": "2021-05-11T13:26:17.905966Z",
     "iopub.status.idle": "2021-05-11T13:26:17.910864Z",
     "shell.execute_reply": "2021-05-11T13:26:17.910329Z"
    }
   },
   "outputs": [
    {
     "data": {
      "text/plain": [
       "'S -> a b\\nS -> a S b\\n'"
      ]
     },
     "execution_count": 1,
     "metadata": {},
     "output_type": "execute_result"
    }
   ],
   "source": [
    "brackets = cfpq_data.brackets\n",
    "brackets.to_text()  # 'S -> a S b\\nS -> a b\\n'"
   ]
  },
  {
   "cell_type": "markdown",
   "id": "098775f2",
   "metadata": {},
   "source": [
    "# Change terminals\n",
    "\n",
    "You can change the specified grammar terminals by using\n",
    "function `cfpq_data.grammars.utils.change_terminals.change_terminals_in_cfg()`\n",
    "from Grammar's utils."
   ]
  },
  {
   "cell_type": "code",
   "execution_count": 6,
   "id": "0f72a251",
   "metadata": {
    "execution": {
     "iopub.execute_input": "2021-05-11T13:26:17.919328Z",
     "iopub.status.busy": "2021-05-11T13:26:17.918229Z",
     "iopub.status.idle": "2021-05-11T13:26:17.921482Z",
     "shell.execute_reply": "2021-05-11T13:26:17.920891Z"
    }
   },
   "outputs": [
    {
     "data": {
      "text/plain": [
       "'S -> b S c\\nS -> b c\\n'"
      ]
     },
     "execution_count": 1,
     "metadata": {},
     "output_type": "execute_result"
    }
   ],
   "source": [
    "brackets1 = cfpq_data.change_terminals_in_cfg(brackets, {\"a\": \"b\", \"b\": \"c\"})\n",
    "brackets1.to_text()  # 'S -> b S c\\nS -> b c\\n'"
   ]
  }
 ],
 "metadata": {
  "language_info": {
   "codemirror_mode": {
    "name": "ipython",
    "version": 3
   },
   "file_extension": ".py",
   "mimetype": "text/x-python",
   "name": "python",
   "nbconvert_exporter": "python",
   "pygments_lexer": "ipython3",
   "version": "3.8.10"
  }
 },
 "nbformat": 4,
 "nbformat_minor": 5
}
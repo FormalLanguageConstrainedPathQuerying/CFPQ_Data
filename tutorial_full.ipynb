{
 "cells": [
  {
   "cell_type": "markdown",
   "id": "24aaa0ea",
   "metadata": {},
   "source": [
    "## Tutorial\n",
    "\n",
    "Release\n",
    "\n",
    ":   2.0.0\n",
    "\n",
    "Date\n",
    "\n",
    ":   Nov 07, 2021\n",
    "\n",
    "This guide can help you start working with CFPQ_Data.\n",
    "\n",
    "**You can download this tutorial as a Jupyter Notebook from the link at the end of the page.**\n",
    "\n",
    "### Import\n",
    "\n",
    "First you need to import the package."
   ]
  },
  {
   "cell_type": "code",
   "execution_count": 1,
   "id": "77ddc1df",
   "metadata": {
    "execution": {
     "iopub.execute_input": "2021-11-07T04:26:08.506488Z",
     "iopub.status.busy": "2021-11-07T04:26:08.505717Z",
     "iopub.status.idle": "2021-11-07T04:26:08.866663Z",
     "shell.execute_reply": "2021-11-07T04:26:08.865743Z"
    }
   },
   "outputs": [],
   "source": [
    "import cfpq_data"
   ]
  },
  {
   "cell_type": "markdown",
   "id": "6e1f060c",
   "metadata": {},
   "source": [
    "# Load graph\n",
    "\n",
    "After the package is imported, we can load the graphs.\n",
    "\n",
    "## Load graph archive from Dataset\n",
    "\n",
    "We can load the archive with the graph using function `download`."
   ]
  },
  {
   "cell_type": "code",
   "execution_count": 2,
   "id": "2ba3eb7e",
   "metadata": {
    "execution": {
     "iopub.execute_input": "2021-11-07T04:26:08.870904Z",
     "iopub.status.busy": "2021-11-07T04:26:08.870396Z",
     "iopub.status.idle": "2021-11-07T04:26:09.005024Z",
     "shell.execute_reply": "2021-11-07T04:26:09.004445Z"
    }
   },
   "outputs": [
    {
     "name": "stderr",
     "output_type": "stream",
     "text": [
      "[2021-11-07 04:26:08]>INFO>Found graph with name='bzip'\n"
     ]
    },
    {
     "name": "stderr",
     "output_type": "stream",
     "text": [
      "[2021-11-07 04:26:08]>INFO>Load archive graph_archive=PosixPath('/opt/hostedtoolcache/Python/3.8.12/x64/lib/python3.8/site-packages/cfpq_data/data/bzip.tar.gz')\n"
     ]
    },
    {
     "name": "stderr",
     "output_type": "stream",
     "text": [
      "[2021-11-07 04:26:08]>INFO>Unzip graph name='bzip' to file graph=PosixPath('/opt/hostedtoolcache/Python/3.8.12/x64/lib/python3.8/site-packages/cfpq_data/data/bzip/bzip.csv')\n"
     ]
    },
    {
     "name": "stderr",
     "output_type": "stream",
     "text": [
      "[2021-11-07 04:26:08]>INFO>Remove archive graph_archive=PosixPath('/opt/hostedtoolcache/Python/3.8.12/x64/lib/python3.8/site-packages/cfpq_data/data/bzip.tar.gz')\n"
     ]
    }
   ],
   "source": [
    "bzip_path = cfpq_data.download(\"bzip\")"
   ]
  },
  {
   "cell_type": "markdown",
   "id": "5691032a",
   "metadata": {},
   "source": [
    "# Load graph by path\n",
    "\n",
    "We can load the graph along the specified path using function `graph_from_csv`."
   ]
  },
  {
   "cell_type": "code",
   "execution_count": 3,
   "id": "fb55ed52",
   "metadata": {
    "execution": {
     "iopub.execute_input": "2021-11-07T04:26:09.014310Z",
     "iopub.status.busy": "2021-11-07T04:26:09.008758Z",
     "iopub.status.idle": "2021-11-07T04:26:09.016821Z",
     "shell.execute_reply": "2021-11-07T04:26:09.017158Z"
    }
   },
   "outputs": [
    {
     "name": "stderr",
     "output_type": "stream",
     "text": [
      "[2021-11-07 04:26:09]>INFO>Load graph=<networkx.classes.multidigraph.MultiDiGraph object at 0x7fddbc9db910> from path=PosixPath('/opt/hostedtoolcache/Python/3.8.12/x64/lib/python3.8/site-packages/cfpq_data/data/bzip/bzip.csv')\n"
     ]
    }
   ],
   "source": [
    "bzip = cfpq_data.graph_from_csv(bzip_path)"
   ]
  },
  {
   "cell_type": "markdown",
   "id": "6feaaba0",
   "metadata": {},
   "source": [
    "Create graph\n",
    "\n",
    "We can also create a synthetic graph using one of the generators in module Graph generators.\n",
    "\n",
    "# Create a one cycle graph\n",
    "\n",
    "For example, let's create a one cycle graph, with 5 nodes, the edges of which are marked with the letter `a`."
   ]
  },
  {
   "cell_type": "code",
   "execution_count": 4,
   "id": "e3c168c9",
   "metadata": {
    "execution": {
     "iopub.execute_input": "2021-11-07T04:26:09.022208Z",
     "iopub.status.busy": "2021-11-07T04:26:09.021299Z",
     "iopub.status.idle": "2021-11-07T04:26:09.024252Z",
     "shell.execute_reply": "2021-11-07T04:26:09.023889Z"
    }
   },
   "outputs": [
    {
     "name": "stderr",
     "output_type": "stream",
     "text": [
      "[2021-11-07 04:26:09]>INFO>Create a cycle graph=<networkx.classes.multidigraph.MultiDiGraph object at 0x7fdd8b606f10> with n=5, label='a'\n"
     ]
    }
   ],
   "source": [
    "cycle = cfpq_data.labeled_cycle_graph(5, label=\"a\")"
   ]
  },
  {
   "cell_type": "markdown",
   "id": "d8636f4e",
   "metadata": {},
   "source": [
    "Change edges\n",
    "\n",
    "We can change the specified graph labels by using function `change_edges`\n",
    "from Graph utilities."
   ]
  },
  {
   "cell_type": "code",
   "execution_count": 5,
   "id": "16116b18",
   "metadata": {
    "execution": {
     "iopub.execute_input": "2021-11-07T04:26:09.028553Z",
     "iopub.status.busy": "2021-11-07T04:26:09.027938Z",
     "iopub.status.idle": "2021-11-07T04:26:09.030229Z",
     "shell.execute_reply": "2021-11-07T04:26:09.030588Z"
    }
   },
   "outputs": [
    {
     "name": "stderr",
     "output_type": "stream",
     "text": [
      "[2021-11-07 04:26:09]>INFO>Change labels in graph=<networkx.classes.multidigraph.MultiDiGraph object at 0x7fdd8b606f10> with mapping={'a': 'b'} to new_graph=<networkx.classes.multidigraph.MultiDiGraph object at 0x7fdd8b703b80>\n"
     ]
    }
   ],
   "source": [
    "new_cycle = cfpq_data.change_edges(cycle, {\"a\": \"b\"})"
   ]
  },
  {
   "cell_type": "markdown",
   "id": "23467c2d",
   "metadata": {},
   "source": [
    "Now the labels `a` have changed to `b`.\n",
    "\n",
    "# Grammars\n",
    "\n",
    "You can create your own context-free grammar (CFG) or use a predefined one.\n",
    "Now we have three representations of CFG documented on the Grammars page:\n",
    "\n",
    "1. [Classic](https://en.wikipedia.org/wiki/Context-free_grammar#Formal_definitions)\n",
    "\n",
    "1. [Chomsky Normal Form](https://en.wikipedia.org/wiki/Chomsky_normal_form)\n",
    "\n",
    "1. [Recursive State Machine](https://link.springer.com/chapter/10.1007/978-3-030-54832-2_6#Sec2)\n",
    "\n",
    "## Create a context-free grammar\n",
    "\n",
    "You can create context-free grammar by using function `cfg_from_text`\n",
    "from Reading and writing grammars."
   ]
  },
  {
   "cell_type": "code",
   "execution_count": 6,
   "id": "04140d06",
   "metadata": {
    "execution": {
     "iopub.execute_input": "2021-11-07T04:26:09.034420Z",
     "iopub.status.busy": "2021-11-07T04:26:09.033927Z",
     "iopub.status.idle": "2021-11-07T04:26:09.036538Z",
     "shell.execute_reply": "2021-11-07T04:26:09.036975Z"
    }
   },
   "outputs": [
    {
     "name": "stderr",
     "output_type": "stream",
     "text": [
      "[2021-11-07 04:26:09]>INFO>Create cfg=<pyformlang.cfg.cfg.CFG object at 0x7fdd8b69ad60> from text='S -> a S b S | a b', start_symbol=Variable(S)\n"
     ]
    }
   ],
   "source": [
    "cfg = cfpq_data.cfg_from_text(\"S -> a S b S | a b\")"
   ]
  }
 ],
 "metadata": {
  "language_info": {
   "codemirror_mode": {
    "name": "ipython",
    "version": 3
   },
   "file_extension": ".py",
   "mimetype": "text/x-python",
   "name": "python",
   "nbconvert_exporter": "python",
   "pygments_lexer": "ipython3",
   "version": "3.8.12"
  }
 },
 "nbformat": 4,
 "nbformat_minor": 5
}
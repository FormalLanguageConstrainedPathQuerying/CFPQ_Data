{
 "cells": [
  {
   "cell_type": "markdown",
   "id": "e2205be7",
   "metadata": {},
   "source": [
    "## Tutorial\n",
    "\n",
    "Release\n",
    "\n",
    ":   4.0.1\n",
    "\n",
    "Date\n",
    "\n",
    ":   Nov 17, 2022\n",
    "\n",
    "This guide can help you start working with CFPQ_Data.\n",
    "\n",
    "**You can download this tutorial as a Jupyter Notebook from the link at the end of the page.**\n",
    "\n",
    "### Import\n",
    "\n",
    "First you need to import the package."
   ]
  },
  {
   "cell_type": "code",
   "execution_count": 1,
   "id": "0c9c9c42",
   "metadata": {
    "execution": {
     "iopub.execute_input": "2022-11-17T13:09:19.636804Z",
     "iopub.status.busy": "2022-11-17T13:09:19.636533Z",
     "iopub.status.idle": "2022-11-17T13:09:19.995996Z",
     "shell.execute_reply": "2022-11-17T13:09:19.995248Z"
    }
   },
   "outputs": [],
   "source": [
    "import cfpq_data"
   ]
  },
  {
   "cell_type": "markdown",
   "id": "384c4939",
   "metadata": {},
   "source": [
    "# Load graph\n",
    "\n",
    "After the package is imported, we can load the graphs.\n",
    "\n",
    "## Load graph archive from Dataset\n",
    "\n",
    "We can load the archive with the graph using function `download`."
   ]
  },
  {
   "cell_type": "code",
   "execution_count": 2,
   "id": "99cbc7d2",
   "metadata": {
    "execution": {
     "iopub.execute_input": "2022-11-17T13:09:20.000849Z",
     "iopub.status.busy": "2022-11-17T13:09:20.000280Z",
     "iopub.status.idle": "2022-11-17T13:09:20.548420Z",
     "shell.execute_reply": "2022-11-17T13:09:20.547238Z"
    }
   },
   "outputs": [
    {
     "name": "stderr",
     "output_type": "stream",
     "text": [
      "[2022-11-17 13:09:20]>INFO>Found graph with name='bzip'\n"
     ]
    },
    {
     "name": "stderr",
     "output_type": "stream",
     "text": [
      "[2022-11-17 13:09:20]>INFO>Load archive graph_archive=PosixPath('/opt/hostedtoolcache/Python/3.8.14/x64/lib/python3.8/site-packages/cfpq_data/data/bzip.tar.gz')\n"
     ]
    },
    {
     "name": "stderr",
     "output_type": "stream",
     "text": [
      "[2022-11-17 13:09:20]>INFO>Unzip graph name='bzip' to file graph=PosixPath('/opt/hostedtoolcache/Python/3.8.14/x64/lib/python3.8/site-packages/cfpq_data/data/bzip/bzip.csv')\n"
     ]
    },
    {
     "name": "stderr",
     "output_type": "stream",
     "text": [
      "[2022-11-17 13:09:20]>INFO>Remove archive graph_archive=PosixPath('/opt/hostedtoolcache/Python/3.8.14/x64/lib/python3.8/site-packages/cfpq_data/data/bzip.tar.gz')\n"
     ]
    }
   ],
   "source": [
    "bzip_path = cfpq_data.download(\"bzip\")"
   ]
  },
  {
   "cell_type": "markdown",
   "id": "a5d602ec",
   "metadata": {},
   "source": [
    "# Load graph by path\n",
    "\n",
    "We can load the graph along the specified path using function `graph_from_csv`."
   ]
  },
  {
   "cell_type": "code",
   "execution_count": 3,
   "id": "4391d1ee",
   "metadata": {
    "execution": {
     "iopub.execute_input": "2022-11-17T13:09:20.552155Z",
     "iopub.status.busy": "2022-11-17T13:09:20.551742Z",
     "iopub.status.idle": "2022-11-17T13:09:20.563823Z",
     "shell.execute_reply": "2022-11-17T13:09:20.563271Z"
    }
   },
   "outputs": [
    {
     "name": "stderr",
     "output_type": "stream",
     "text": [
      "[2022-11-17 13:09:20]>INFO>Load graph=<networkx.classes.multidigraph.MultiDiGraph object at 0x7f1dfc26a220> from path=PosixPath('/opt/hostedtoolcache/Python/3.8.14/x64/lib/python3.8/site-packages/cfpq_data/data/bzip/bzip.csv')\n"
     ]
    }
   ],
   "source": [
    "bzip = cfpq_data.graph_from_csv(bzip_path)"
   ]
  },
  {
   "cell_type": "markdown",
   "id": "fd73eaee",
   "metadata": {},
   "source": [
    "Create graph\n",
    "\n",
    "We can also create a synthetic graph using one of the generators in module Graph generators.\n",
    "\n",
    "# Create a one cycle graph\n",
    "\n",
    "For example, let's create a one cycle graph, with 5 nodes, the edges of which are marked with the letter `a`."
   ]
  },
  {
   "cell_type": "code",
   "execution_count": 4,
   "id": "27a75563",
   "metadata": {
    "execution": {
     "iopub.execute_input": "2022-11-17T13:09:20.567741Z",
     "iopub.status.busy": "2022-11-17T13:09:20.567405Z",
     "iopub.status.idle": "2022-11-17T13:09:20.573555Z",
     "shell.execute_reply": "2022-11-17T13:09:20.573017Z"
    }
   },
   "outputs": [
    {
     "name": "stderr",
     "output_type": "stream",
     "text": [
      "[2022-11-17 13:09:20]>INFO>Create a cycle graph=<networkx.classes.multidigraph.MultiDiGraph object at 0x7f1dfc26a730> with n=5, label='a'\n"
     ]
    }
   ],
   "source": [
    "cycle = cfpq_data.labeled_cycle_graph(5, label=\"a\")"
   ]
  },
  {
   "cell_type": "markdown",
   "id": "da858aeb",
   "metadata": {},
   "source": [
    "Change edges\n",
    "\n",
    "We can change the specified graph labels by using function `change_edges`\n",
    "from Graph utilities."
   ]
  },
  {
   "cell_type": "code",
   "execution_count": 5,
   "id": "59920cf6",
   "metadata": {
    "execution": {
     "iopub.execute_input": "2022-11-17T13:09:20.576733Z",
     "iopub.status.busy": "2022-11-17T13:09:20.576384Z",
     "iopub.status.idle": "2022-11-17T13:09:20.582529Z",
     "shell.execute_reply": "2022-11-17T13:09:20.581355Z"
    }
   },
   "outputs": [
    {
     "name": "stderr",
     "output_type": "stream",
     "text": [
      "[2022-11-17 13:09:20]>INFO>Change labels in graph=<networkx.classes.multidigraph.MultiDiGraph object at 0x7f1dfc26a730> with mapping={'a': 'b'} to new_graph=<networkx.classes.multidigraph.MultiDiGraph object at 0x7f1dfc1bdbe0>\n"
     ]
    }
   ],
   "source": [
    "new_cycle = cfpq_data.change_edges(cycle, {\"a\": \"b\"})"
   ]
  },
  {
   "cell_type": "markdown",
   "id": "0751942a",
   "metadata": {},
   "source": [
    "Now the labels `a` have changed to `b`.\n",
    "\n",
    "# Grammars\n",
    "\n",
    "Also, we can create our own grammar or use a predefined one.\n",
    "\n",
    "## Regular grammars\n",
    "\n",
    "Currently, we have one representation of regular grammars documented on the Grammars page:\n",
    "\n",
    "1. [Regular expression](https://en.wikipedia.org/wiki/Regular_expression#Formal_definition)\n",
    "\n",
    "## Create a regular expression\n",
    "\n",
    "A regular expression can be created by using function `regex_from_text`\n",
    "from Reading and writing grammars."
   ]
  },
  {
   "cell_type": "code",
   "execution_count": 6,
   "id": "2fda0784",
   "metadata": {
    "execution": {
     "iopub.execute_input": "2022-11-17T13:09:20.585359Z",
     "iopub.status.busy": "2022-11-17T13:09:20.585045Z",
     "iopub.status.idle": "2022-11-17T13:09:20.590681Z",
     "shell.execute_reply": "2022-11-17T13:09:20.590164Z"
    }
   },
   "outputs": [
    {
     "name": "stderr",
     "output_type": "stream",
     "text": [
      "[2022-11-17 13:09:20]>INFO>Create regex=(a.(bc|(d)*)) from text='a (bc|d*)'\n"
     ]
    }
   ],
   "source": [
    "regex = cfpq_data.regex_from_text(\"a (bc|d*)\")"
   ]
  },
  {
   "cell_type": "markdown",
   "id": "64c49c21",
   "metadata": {},
   "source": [
    "# Сontext-free grammars\n",
    "\n",
    "Currently, we have three representations of context-free grammars (CFGs) documented on the Grammars page:\n",
    "\n",
    "1. [Classic](https://en.wikipedia.org/wiki/Context-free_grammar#Formal_definitions)\n",
    "\n",
    "1. [Chomsky Normal Form](https://en.wikipedia.org/wiki/Chomsky_normal_form)\n",
    "\n",
    "1. [Recursive State Machine](https://link.springer.com/chapter/10.1007/978-3-030-54832-2_6#Sec2)\n",
    "\n",
    "# Create a context-free grammar\n",
    "\n",
    "A context-free grammar can be created by using function `cfg_from_text`\n",
    "from Reading and writing grammars."
   ]
  },
  {
   "cell_type": "code",
   "execution_count": 7,
   "id": "b3acb7f8",
   "metadata": {
    "execution": {
     "iopub.execute_input": "2022-11-17T13:09:20.593558Z",
     "iopub.status.busy": "2022-11-17T13:09:20.593214Z",
     "iopub.status.idle": "2022-11-17T13:09:20.596533Z",
     "shell.execute_reply": "2022-11-17T13:09:20.596086Z"
    }
   },
   "outputs": [
    {
     "name": "stderr",
     "output_type": "stream",
     "text": [
      "[2022-11-17 13:09:20]>INFO>Create cfg=<pyformlang.cfg.cfg.CFG object at 0x7f1e24cbf3d0> from text='S -> a S b S | a b', start_symbol=Variable(S)\n"
     ]
    }
   ],
   "source": [
    "cfg = cfpq_data.cfg_from_text(\"S -> a S b S | a b\")"
   ]
  },
  {
   "cell_type": "markdown",
   "id": "5ef37e8c",
   "metadata": {},
   "source": [
    "Benchmarks\n",
    "\n",
    "In addition, one of the prepared benchmarks that contains graphs, queries, other input data, and results for\n",
    "a particular formal-language-constrained path querying problem can be downloaded.\n",
    "\n",
    "Currently, we provide the following benchmarks documented on the Benchmarks page:\n",
    "\n",
    "1. MS_Reachability\n",
    "\n",
    "# Load benchmark archive\n",
    "\n",
    "You can load the archive with the benchmark using function `download_benchmark`."
   ]
  },
  {
   "cell_type": "code",
   "execution_count": 8,
   "id": "0ec7aa1d",
   "metadata": {
    "execution": {
     "iopub.execute_input": "2022-11-17T13:09:20.599542Z",
     "iopub.status.busy": "2022-11-17T13:09:20.599011Z",
     "iopub.status.idle": "2022-11-17T13:09:22.869864Z",
     "shell.execute_reply": "2022-11-17T13:09:22.869266Z"
    }
   },
   "outputs": [
    {
     "name": "stderr",
     "output_type": "stream",
     "text": [
      "[2022-11-17 13:09:20]>INFO>Found benchmark with name='MS_Reachability'\n"
     ]
    },
    {
     "name": "stderr",
     "output_type": "stream",
     "text": [
      "[2022-11-17 13:09:22]>INFO>Load archive benchmark_archive=PosixPath('/opt/hostedtoolcache/Python/3.8.14/x64/lib/python3.8/site-packages/cfpq_data/data/MS_Reachability.tar.gz')\n"
     ]
    },
    {
     "name": "stderr",
     "output_type": "stream",
     "text": [
      "[2022-11-17 13:09:22]>INFO>Unzip benchmark name='MS_Reachability' to directory benchmark=PosixPath('/opt/hostedtoolcache/Python/3.8.14/x64/lib/python3.8/site-packages/cfpq_data/data/MS_Reachability')\n"
     ]
    },
    {
     "name": "stderr",
     "output_type": "stream",
     "text": [
      "[2022-11-17 13:09:22]>INFO>Remove archive benchmark_archive=PosixPath('/opt/hostedtoolcache/Python/3.8.14/x64/lib/python3.8/site-packages/cfpq_data/data/MS_Reachability.tar.gz')\n"
     ]
    }
   ],
   "source": [
    "ms_reachability_path = cfpq_data.download_benchmark(\"MS_Reachability\")"
   ]
  },
  {
   "cell_type": "markdown",
   "id": "457a7e61",
   "metadata": {},
   "source": [
    "# MS_Reachability benchmark\n",
    "\n",
    "MS_Reachability benchmark can be used for the experimental study of the algorithms that solve the multiple-source\n",
    "formal-language-constrained reachability problem. This benchmark is described on the MS_Reachability page.\n",
    "\n",
    "For this benchmark we provide some useful functions from\n",
    "Graph utilities.\n",
    "For example, the set of source vertices can be saved to the TXT file or it can be loaded from benchmark by using\n",
    "functions `multiple_source_from_txt` and\n",
    "`multiple_source_to_txt`."
   ]
  },
  {
   "cell_type": "code",
   "execution_count": 9,
   "id": "c361e72f",
   "metadata": {
    "execution": {
     "iopub.execute_input": "2022-11-17T13:09:22.873114Z",
     "iopub.status.busy": "2022-11-17T13:09:22.872754Z",
     "iopub.status.idle": "2022-11-17T13:09:22.881651Z",
     "shell.execute_reply": "2022-11-17T13:09:22.881039Z"
    }
   },
   "outputs": [
    {
     "name": "stderr",
     "output_type": "stream",
     "text": [
      "[2022-11-17 13:09:22]>INFO>Save source_vertices={1, 2, 10, 5} to dest=PosixPath('/home/runner/work/CFPQ_Data/CFPQ_Data/docs/test.txt')\n"
     ]
    },
    {
     "name": "stderr",
     "output_type": "stream",
     "text": [
      "[2022-11-17 13:09:22]>INFO>Load source_vertices={1, 2, 10, 5} from path=PosixPath('/home/runner/work/CFPQ_Data/CFPQ_Data/docs/test.txt')\n"
     ]
    }
   ],
   "source": [
    "s = {1, 2, 5, 10}\n",
    "path = cfpq_data.multiple_source_to_txt(s, \"test.txt\")\n",
    "source_vertices = cfpq_data.multiple_source_from_txt(path)"
   ]
  }
 ],
 "metadata": {
  "language_info": {
   "codemirror_mode": {
    "name": "ipython",
    "version": 3
   },
   "file_extension": ".py",
   "mimetype": "text/x-python",
   "name": "python",
   "nbconvert_exporter": "python",
   "pygments_lexer": "ipython3",
   "version": "3.8.14"
  }
 },
 "nbformat": 4,
 "nbformat_minor": 5
}
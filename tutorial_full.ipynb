{
 "cells": [
  {
   "cell_type": "markdown",
   "id": "d4422c73",
   "metadata": {},
   "source": [
    "## Tutorial\n",
    "\n",
    "Release\n",
    "\n",
    ":   4.0.1\n",
    "\n",
    "Date\n",
    "\n",
    ":   Nov 30, 2022\n",
    "\n",
    "This guide can help you start working with CFPQ_Data.\n",
    "\n",
    "**You can download this tutorial as a Jupyter Notebook from the link at the end of the page.**\n",
    "\n",
    "### Import\n",
    "\n",
    "First you need to import the package."
   ]
  },
  {
   "cell_type": "code",
   "execution_count": 1,
   "id": "c50968cb",
   "metadata": {
    "execution": {
     "iopub.execute_input": "2022-11-30T13:49:38.165201Z",
     "iopub.status.busy": "2022-11-30T13:49:38.164646Z",
     "iopub.status.idle": "2022-11-30T13:49:38.529153Z",
     "shell.execute_reply": "2022-11-30T13:49:38.528495Z"
    }
   },
   "outputs": [],
   "source": [
    "import cfpq_data"
   ]
  },
  {
   "cell_type": "markdown",
   "id": "6995a9e2",
   "metadata": {},
   "source": [
    "# Load graph\n",
    "\n",
    "After the package is imported, we can load the graphs.\n",
    "\n",
    "## Load graph archive from Dataset\n",
    "\n",
    "We can load the archive with the graph using function `download`."
   ]
  },
  {
   "cell_type": "code",
   "execution_count": 2,
   "id": "5e200113",
   "metadata": {
    "execution": {
     "iopub.execute_input": "2022-11-30T13:49:38.533337Z",
     "iopub.status.busy": "2022-11-30T13:49:38.532804Z",
     "iopub.status.idle": "2022-11-30T13:49:39.057129Z",
     "shell.execute_reply": "2022-11-30T13:49:39.056533Z"
    }
   },
   "outputs": [
    {
     "name": "stderr",
     "output_type": "stream",
     "text": [
      "[2022-11-30 13:49:38]>INFO>Found graph with name='bzip'\n"
     ]
    },
    {
     "name": "stderr",
     "output_type": "stream",
     "text": [
      "[2022-11-30 13:49:39]>INFO>Load archive graph_archive=PosixPath('/opt/hostedtoolcache/Python/3.8.14/x64/lib/python3.8/site-packages/cfpq_data/data/graphs/bzip.tar.gz')\n"
     ]
    },
    {
     "name": "stderr",
     "output_type": "stream",
     "text": [
      "[2022-11-30 13:49:39]>INFO>Unzip graph name='bzip' to file graph=PosixPath('/opt/hostedtoolcache/Python/3.8.14/x64/lib/python3.8/site-packages/cfpq_data/data/graphs/bzip/bzip.csv')\n"
     ]
    },
    {
     "name": "stderr",
     "output_type": "stream",
     "text": [
      "[2022-11-30 13:49:39]>INFO>Remove archive graph_archive=PosixPath('/opt/hostedtoolcache/Python/3.8.14/x64/lib/python3.8/site-packages/cfpq_data/data/graphs/bzip.tar.gz')\n"
     ]
    }
   ],
   "source": [
    "bzip_path = cfpq_data.download(\"bzip\")"
   ]
  },
  {
   "cell_type": "markdown",
   "id": "82673172",
   "metadata": {},
   "source": [
    "# Load graph by path\n",
    "\n",
    "We can load the graph along the specified path using function `graph_from_csv`."
   ]
  },
  {
   "cell_type": "code",
   "execution_count": 3,
   "id": "972bb665",
   "metadata": {
    "execution": {
     "iopub.execute_input": "2022-11-30T13:49:39.059940Z",
     "iopub.status.busy": "2022-11-30T13:49:39.059718Z",
     "iopub.status.idle": "2022-11-30T13:49:39.071079Z",
     "shell.execute_reply": "2022-11-30T13:49:39.070442Z"
    }
   },
   "outputs": [
    {
     "name": "stderr",
     "output_type": "stream",
     "text": [
      "[2022-11-30 13:49:39]>INFO>Load graph=<networkx.classes.multidigraph.MultiDiGraph object at 0x7f1c6464b7f0> from path=PosixPath('/opt/hostedtoolcache/Python/3.8.14/x64/lib/python3.8/site-packages/cfpq_data/data/graphs/bzip/bzip.csv')\n"
     ]
    }
   ],
   "source": [
    "bzip = cfpq_data.graph_from_csv(bzip_path)"
   ]
  },
  {
   "cell_type": "markdown",
   "id": "c26e80f9",
   "metadata": {},
   "source": [
    "Create graph\n",
    "\n",
    "We can also create a synthetic graph using one of the generators in module Graph generators.\n",
    "\n",
    "# Create a one cycle graph\n",
    "\n",
    "For example, let's create a one cycle graph, with 5 nodes, the edges of which are marked with the letter `a`."
   ]
  },
  {
   "cell_type": "code",
   "execution_count": 4,
   "id": "880d436e",
   "metadata": {
    "execution": {
     "iopub.execute_input": "2022-11-30T13:49:39.074273Z",
     "iopub.status.busy": "2022-11-30T13:49:39.073720Z",
     "iopub.status.idle": "2022-11-30T13:49:39.078055Z",
     "shell.execute_reply": "2022-11-30T13:49:39.077400Z"
    }
   },
   "outputs": [
    {
     "name": "stderr",
     "output_type": "stream",
     "text": [
      "[2022-11-30 13:49:39]>INFO>Create a cycle graph=<networkx.classes.multidigraph.MultiDiGraph object at 0x7f1c6464b0d0> with n=5, label='a'\n"
     ]
    }
   ],
   "source": [
    "cycle = cfpq_data.labeled_cycle_graph(5, label=\"a\")"
   ]
  },
  {
   "cell_type": "markdown",
   "id": "8992c8e4",
   "metadata": {},
   "source": [
    "Change edges\n",
    "\n",
    "We can change the specified graph labels by using function `change_edges`\n",
    "from Graph utilities."
   ]
  },
  {
   "cell_type": "code",
   "execution_count": 5,
   "id": "033e31a2",
   "metadata": {
    "execution": {
     "iopub.execute_input": "2022-11-30T13:49:39.080997Z",
     "iopub.status.busy": "2022-11-30T13:49:39.080781Z",
     "iopub.status.idle": "2022-11-30T13:49:39.084747Z",
     "shell.execute_reply": "2022-11-30T13:49:39.084100Z"
    }
   },
   "outputs": [
    {
     "name": "stderr",
     "output_type": "stream",
     "text": [
      "[2022-11-30 13:49:39]>INFO>Change labels in graph=<networkx.classes.multidigraph.MultiDiGraph object at 0x7f1c6464b0d0> with mapping={'a': 'b'} to new_graph=<networkx.classes.multidigraph.MultiDiGraph object at 0x7f1c64637c40>\n"
     ]
    }
   ],
   "source": [
    "new_cycle = cfpq_data.change_edges(cycle, {\"a\": \"b\"})"
   ]
  },
  {
   "cell_type": "markdown",
   "id": "996c629b",
   "metadata": {},
   "source": [
    "Now the labels `a` have changed to `b`.\n",
    "\n",
    "# Add reverse edges\n",
    "\n",
    "In addition, we can add reverse edges to the graph by using function `add_reverse_edges`\n",
    "from Graph utilities. This is extremely useful if graph analysis is formulated using such reverse edges."
   ]
  },
  {
   "cell_type": "code",
   "execution_count": 6,
   "id": "cd5ca28f",
   "metadata": {
    "execution": {
     "iopub.execute_input": "2022-11-30T13:49:39.088168Z",
     "iopub.status.busy": "2022-11-30T13:49:39.087942Z",
     "iopub.status.idle": "2022-11-30T13:49:39.091992Z",
     "shell.execute_reply": "2022-11-30T13:49:39.091372Z"
    }
   },
   "outputs": [
    {
     "name": "stderr",
     "output_type": "stream",
     "text": [
      "[2022-11-30 13:49:39]>INFO>Add reverse edges in graph=<networkx.classes.multidigraph.MultiDiGraph object at 0x7f1c64637c40> with mapping=None to new_graph=<networkx.classes.multidigraph.MultiDiGraph object at 0x7f1c645dc340>\n"
     ]
    }
   ],
   "source": [
    "new_cycle_with_reversed = cfpq_data.add_reverse_edges(new_cycle)"
   ]
  },
  {
   "cell_type": "markdown",
   "id": "89ae84c5",
   "metadata": {},
   "source": [
    "Now, for each edge with label `a` this graph contains the reversed edge with label `a_r`.\n",
    "\n",
    "# Load grammar\n",
    "\n",
    "Also, we can load the grammars generated from grammar templates that are described on the Grammars page.\n",
    "\n",
    "## Load grammars archive from Dataset\n",
    "\n",
    "We can load the archive with the grammars for the specified template using function `download_grammars`."
   ]
  },
  {
   "cell_type": "code",
   "execution_count": 7,
   "id": "7426a76a",
   "metadata": {
    "execution": {
     "iopub.execute_input": "2022-11-30T13:49:39.095298Z",
     "iopub.status.busy": "2022-11-30T13:49:39.095086Z",
     "iopub.status.idle": "2022-11-30T13:49:39.614706Z",
     "shell.execute_reply": "2022-11-30T13:49:39.614044Z"
    }
   },
   "outputs": [
    {
     "name": "stderr",
     "output_type": "stream",
     "text": [
      "[2022-11-30 13:49:39]>INFO>Found grammar template='c_alias'\n"
     ]
    },
    {
     "name": "stderr",
     "output_type": "stream",
     "text": [
      "[2022-11-30 13:49:39]>INFO>Load archive grammar_archive=PosixPath('/opt/hostedtoolcache/Python/3.8.14/x64/lib/python3.8/site-packages/cfpq_data/data/grammars/c_alias.tar.gz')\n"
     ]
    },
    {
     "name": "stderr",
     "output_type": "stream",
     "text": [
      "[2022-11-30 13:49:39]>INFO>Unzip grammars with template='c_alias' for graph with graph_name=None to directory grammars=PosixPath('/opt/hostedtoolcache/Python/3.8.14/x64/lib/python3.8/site-packages/cfpq_data/data/grammars/c_alias')\n"
     ]
    },
    {
     "name": "stderr",
     "output_type": "stream",
     "text": [
      "[2022-11-30 13:49:39]>INFO>Remove archive grammar_archive=PosixPath('/opt/hostedtoolcache/Python/3.8.14/x64/lib/python3.8/site-packages/cfpq_data/data/grammars/c_alias.tar.gz')\n"
     ]
    }
   ],
   "source": [
    "c_alias_path = cfpq_data.download_grammars(\"c_alias\")"
   ]
  },
  {
   "cell_type": "markdown",
   "id": "bcbbf5bd",
   "metadata": {},
   "source": [
    "# Load grammars archive for specified graph\n",
    "\n",
    "For some grammar templates we also can load the archive with the grammars for specific graphs."
   ]
  },
  {
   "cell_type": "code",
   "execution_count": 8,
   "id": "452a7fac",
   "metadata": {
    "execution": {
     "iopub.execute_input": "2022-11-30T13:49:39.619008Z",
     "iopub.status.busy": "2022-11-30T13:49:39.617761Z",
     "iopub.status.idle": "2022-11-30T13:49:40.157944Z",
     "shell.execute_reply": "2022-11-30T13:49:40.157308Z"
    }
   },
   "outputs": [
    {
     "name": "stderr",
     "output_type": "stream",
     "text": [
      "[2022-11-30 13:49:39]>INFO>Found graph with graph_name='avrora' and grammar template='java_points_to'\n"
     ]
    },
    {
     "name": "stderr",
     "output_type": "stream",
     "text": [
      "[2022-11-30 13:49:40]>INFO>Load archive grammar_archive=PosixPath('/opt/hostedtoolcache/Python/3.8.14/x64/lib/python3.8/site-packages/cfpq_data/data/grammars/java_points_to_avrora.tar.gz')\n"
     ]
    },
    {
     "name": "stderr",
     "output_type": "stream",
     "text": [
      "[2022-11-30 13:49:40]>INFO>Unzip grammars with template='java_points_to' for graph with graph_name='avrora' to directory grammars=PosixPath('/opt/hostedtoolcache/Python/3.8.14/x64/lib/python3.8/site-packages/cfpq_data/data/grammars/java_points_to_avrora')\n"
     ]
    },
    {
     "name": "stderr",
     "output_type": "stream",
     "text": [
      "[2022-11-30 13:49:40]>INFO>Remove archive grammar_archive=PosixPath('/opt/hostedtoolcache/Python/3.8.14/x64/lib/python3.8/site-packages/cfpq_data/data/grammars/java_points_to_avrora.tar.gz')\n"
     ]
    }
   ],
   "source": [
    "java_pt_avrora_path = cfpq_data.download_grammars(\"java_points_to\", graph_name=\"avrora\")"
   ]
  },
  {
   "cell_type": "markdown",
   "id": "9b04aba1",
   "metadata": {},
   "source": [
    "Regular grammars\n",
    "\n",
    "Currently, we have one representation of regular grammars:\n",
    "\n",
    "1. [Regular expression](https://en.wikipedia.org/wiki/Regular_expression#Formal_definition)\n",
    "\n",
    "# Create a regular expression\n",
    "\n",
    "For example, a regular expression can be created by using function `regex_from_text`\n",
    "from Reading and writing grammars."
   ]
  },
  {
   "cell_type": "code",
   "execution_count": 9,
   "id": "58a6e662",
   "metadata": {
    "execution": {
     "iopub.execute_input": "2022-11-30T13:49:40.165963Z",
     "iopub.status.busy": "2022-11-30T13:49:40.165343Z",
     "iopub.status.idle": "2022-11-30T13:49:40.169694Z",
     "shell.execute_reply": "2022-11-30T13:49:40.169174Z"
    }
   },
   "outputs": [
    {
     "name": "stderr",
     "output_type": "stream",
     "text": [
      "[2022-11-30 13:49:40]>INFO>Create regex=(a.(bc|(d)*)) from text='a (bc|d*)'\n"
     ]
    }
   ],
   "source": [
    "regex = cfpq_data.regex_from_text(\"a (bc|d*)\")"
   ]
  },
  {
   "cell_type": "markdown",
   "id": "69e21078",
   "metadata": {},
   "source": [
    "# Load regular expression by path\n",
    "\n",
    "We can load the regular expression along the specified path using function `regex_from_txt`."
   ]
  },
  {
   "cell_type": "code",
   "execution_count": 10,
   "id": "9a58d90d",
   "metadata": {
    "execution": {
     "iopub.execute_input": "2022-11-30T13:49:40.173175Z",
     "iopub.status.busy": "2022-11-30T13:49:40.172677Z",
     "iopub.status.idle": "2022-11-30T13:49:40.203326Z",
     "shell.execute_reply": "2022-11-30T13:49:40.202488Z"
    }
   },
   "outputs": [
    {
     "name": "stderr",
     "output_type": "stream",
     "text": [
      "[2022-11-30 13:49:40]>INFO>Turn regex=(a.(bc|(d)*)) into text='(a (bc|(d)*))'\n"
     ]
    },
    {
     "name": "stderr",
     "output_type": "stream",
     "text": [
      "[2022-11-30 13:49:40]>INFO>Save regex=(a.(bc|(d)*)) to dest=PosixPath('/home/runner/work/CFPQ_Data/CFPQ_Data/docs/test.txt')\n"
     ]
    },
    {
     "name": "stderr",
     "output_type": "stream",
     "text": [
      "[2022-11-30 13:49:40]>INFO>Create regex=(a.(bc|(d)*)) from text='(a (bc|(d)*))'\n"
     ]
    },
    {
     "name": "stderr",
     "output_type": "stream",
     "text": [
      "[2022-11-30 13:49:40]>INFO>Create regex=(a.(bc|(d)*)) from path=PosixPath('/home/runner/work/CFPQ_Data/CFPQ_Data/docs/test.txt')\n"
     ]
    }
   ],
   "source": [
    "path = cfpq_data.regex_to_txt(regex, \"test.txt\")\n",
    "regex_by_path = cfpq_data.regex_from_txt(path)"
   ]
  },
  {
   "cell_type": "markdown",
   "id": "b068709a",
   "metadata": {},
   "source": [
    "Сontext-free grammars\n",
    "\n",
    "Currently, we have three representations of context-free grammars (CFGs):\n",
    "\n",
    "1. [Classic](https://en.wikipedia.org/wiki/Context-free_grammar#Formal_definitions)\n",
    "\n",
    "1. [Chomsky Normal Form](https://en.wikipedia.org/wiki/Chomsky_normal_form)\n",
    "\n",
    "1. [Recursive State Machine](https://link.springer.com/chapter/10.1007/978-3-030-54832-2_6#Sec2)\n",
    "\n",
    "# Create a classic context-free grammar\n",
    "\n",
    "A classic context-free grammar can be created by using function `cfg_from_text`\n",
    "from Reading and writing grammars."
   ]
  },
  {
   "cell_type": "code",
   "execution_count": 11,
   "id": "bf52f4a5",
   "metadata": {
    "execution": {
     "iopub.execute_input": "2022-11-30T13:49:40.208495Z",
     "iopub.status.busy": "2022-11-30T13:49:40.207934Z",
     "iopub.status.idle": "2022-11-30T13:49:40.211892Z",
     "shell.execute_reply": "2022-11-30T13:49:40.211395Z"
    }
   },
   "outputs": [
    {
     "name": "stderr",
     "output_type": "stream",
     "text": [
      "[2022-11-30 13:49:40]>INFO>Create cfg=<pyformlang.cfg.cfg.CFG object at 0x7f1c6464bac0> from text='S -> a S b S | a b', start_symbol=Variable(S)\n"
     ]
    }
   ],
   "source": [
    "cfg = cfpq_data.cfg_from_text(\"S -> a S b S | a b\")"
   ]
  },
  {
   "cell_type": "markdown",
   "id": "40786b20",
   "metadata": {},
   "source": [
    "# Load context-free grammar by path\n",
    "\n",
    "We can load the classic context-free grammar along the specified path using function `cfg_from_txt`."
   ]
  },
  {
   "cell_type": "code",
   "execution_count": 12,
   "id": "01b50628",
   "metadata": {
    "execution": {
     "iopub.execute_input": "2022-11-30T13:49:40.214658Z",
     "iopub.status.busy": "2022-11-30T13:49:40.214441Z",
     "iopub.status.idle": "2022-11-30T13:49:40.258721Z",
     "shell.execute_reply": "2022-11-30T13:49:40.258206Z"
    }
   },
   "outputs": [
    {
     "name": "stderr",
     "output_type": "stream",
     "text": [
      "[2022-11-30 13:49:40]>INFO>Turn cfg=<pyformlang.cfg.cfg.CFG object at 0x7f1c6464bac0> into text='S -> a S b S\\nS -> a b'\n"
     ]
    },
    {
     "name": "stderr",
     "output_type": "stream",
     "text": [
      "[2022-11-30 13:49:40]>INFO>Save cfg=<pyformlang.cfg.cfg.CFG object at 0x7f1c6464bac0> to dest=PosixPath('/home/runner/work/CFPQ_Data/CFPQ_Data/docs/test.txt')\n"
     ]
    },
    {
     "name": "stderr",
     "output_type": "stream",
     "text": [
      "[2022-11-30 13:49:40]>INFO>Create cfg=<pyformlang.cfg.cfg.CFG object at 0x7f1c8c0b9730> from text='S -> a S b S\\nS -> a b', start_symbol=Variable(S)\n"
     ]
    },
    {
     "name": "stderr",
     "output_type": "stream",
     "text": [
      "[2022-11-30 13:49:40]>INFO>Create cfg=<pyformlang.cfg.cfg.CFG object at 0x7f1c8c0b9730> from path=PosixPath('/home/runner/work/CFPQ_Data/CFPQ_Data/docs/test.txt'), start_symbol=Variable(S)\n"
     ]
    }
   ],
   "source": [
    "path = cfpq_data.cfg_to_txt(cfg, \"test.txt\")\n",
    "cfg_by_path = cfpq_data.cfg_from_txt(path)"
   ]
  },
  {
   "cell_type": "markdown",
   "id": "1cb43c01",
   "metadata": {},
   "source": [
    "Generate grammar\n",
    "\n",
    "We can also generate a grammar for specified template using one of the generators in module Grammar generators.\n",
    "\n",
    "# Generate a Dyck grammar\n",
    "\n",
    "For example, let's generate a Dyck grammar of the balanced strings with `a` as an opening parenthesis, `b` as a closing parenthesis, and without the empty string."
   ]
  },
  {
   "cell_type": "code",
   "execution_count": 13,
   "id": "ca1afd9f",
   "metadata": {
    "execution": {
     "iopub.execute_input": "2022-11-30T13:49:40.261795Z",
     "iopub.status.busy": "2022-11-30T13:49:40.261564Z",
     "iopub.status.idle": "2022-11-30T13:49:40.266965Z",
     "shell.execute_reply": "2022-11-30T13:49:40.266365Z"
    }
   },
   "outputs": [
    {
     "name": "stderr",
     "output_type": "stream",
     "text": [
      "[2022-11-30 13:49:40]>INFO>Create a Dyck cfg=<pyformlang.cfg.cfg.CFG object at 0x7f1c645dc280> with types=[('a', 'b')], eps=False\n"
     ]
    }
   ],
   "source": [
    "dyck_cfg = cfpq_data.dyck_grammar([(\"a\", \"b\")], eps=False)"
   ]
  },
  {
   "cell_type": "markdown",
   "id": "6cdfff80",
   "metadata": {},
   "source": [
    "# Generate a Java Points-to grammar\n",
    "\n",
    "Also, let's generate a Java Points-to grammar for the field-sensitive analysis of Java programs with field names `f0` and `f1`."
   ]
  },
  {
   "cell_type": "code",
   "execution_count": 14,
   "id": "c3686603",
   "metadata": {
    "execution": {
     "iopub.execute_input": "2022-11-30T13:49:40.269893Z",
     "iopub.status.busy": "2022-11-30T13:49:40.269669Z",
     "iopub.status.idle": "2022-11-30T13:49:40.273338Z",
     "shell.execute_reply": "2022-11-30T13:49:40.272811Z"
    }
   },
   "outputs": [
    {
     "name": "stderr",
     "output_type": "stream",
     "text": [
      "[2022-11-30 13:49:40]>INFO>Create a Java Points-to cfg=<pyformlang.cfg.cfg.CFG object at 0x7f1c644d4820> with fields=['f0', 'f1']\n"
     ]
    }
   ],
   "source": [
    "java_pt_cfg = cfpq_data.java_points_to_grammar([\"f0\", \"f1\"])"
   ]
  },
  {
   "cell_type": "markdown",
   "id": "9342552a",
   "metadata": {},
   "source": [
    "Benchmarks\n",
    "\n",
    "In addition, one of the prepared benchmarks that contains graphs, queries, other input data, and results for\n",
    "a particular formal-language-constrained path querying problem can be downloaded.\n",
    "\n",
    "Currently, we provide the following benchmarks documented on the Benchmarks page:\n",
    "\n",
    "1. MS_Reachability\n",
    "\n",
    "# Load benchmark archive\n",
    "\n",
    "You can load the archive with the benchmark using function `download_benchmark`."
   ]
  },
  {
   "cell_type": "code",
   "execution_count": 15,
   "id": "dbcb9e8d",
   "metadata": {
    "execution": {
     "iopub.execute_input": "2022-11-30T13:49:40.276015Z",
     "iopub.status.busy": "2022-11-30T13:49:40.275802Z",
     "iopub.status.idle": "2022-11-30T13:49:42.593632Z",
     "shell.execute_reply": "2022-11-30T13:49:42.593013Z"
    }
   },
   "outputs": [
    {
     "name": "stderr",
     "output_type": "stream",
     "text": [
      "[2022-11-30 13:49:40]>INFO>Found benchmark with name='MS_Reachability'\n"
     ]
    },
    {
     "name": "stderr",
     "output_type": "stream",
     "text": [
      "[2022-11-30 13:49:42]>INFO>Load archive benchmark_archive=PosixPath('/opt/hostedtoolcache/Python/3.8.14/x64/lib/python3.8/site-packages/cfpq_data/data/benchmarks/MS_Reachability.tar.gz')\n"
     ]
    },
    {
     "name": "stderr",
     "output_type": "stream",
     "text": [
      "[2022-11-30 13:49:42]>INFO>Unzip benchmark name='MS_Reachability' to directory benchmark=PosixPath('/opt/hostedtoolcache/Python/3.8.14/x64/lib/python3.8/site-packages/cfpq_data/data/benchmarks/MS_Reachability')\n"
     ]
    },
    {
     "name": "stderr",
     "output_type": "stream",
     "text": [
      "[2022-11-30 13:49:42]>INFO>Remove archive benchmark_archive=PosixPath('/opt/hostedtoolcache/Python/3.8.14/x64/lib/python3.8/site-packages/cfpq_data/data/benchmarks/MS_Reachability.tar.gz')\n"
     ]
    }
   ],
   "source": [
    "ms_reachability_path = cfpq_data.download_benchmark(\"MS_Reachability\")"
   ]
  },
  {
   "cell_type": "markdown",
   "id": "82ef9504",
   "metadata": {},
   "source": [
    "# MS_Reachability benchmark\n",
    "\n",
    "MS_Reachability benchmark can be used for the experimental study of the algorithms that solve the multiple-source\n",
    "formal-language-constrained reachability problem. This benchmark is described on the MS_Reachability page.\n",
    "\n",
    "For this benchmark we provide some useful functions from\n",
    "Graph utilities.\n",
    "For example, the set of source vertices can be saved to the TXT file or it can be loaded from benchmark by using\n",
    "functions `multiple_source_from_txt` and\n",
    "`multiple_source_to_txt`."
   ]
  },
  {
   "cell_type": "code",
   "execution_count": 16,
   "id": "70510207",
   "metadata": {
    "execution": {
     "iopub.execute_input": "2022-11-30T13:49:42.596571Z",
     "iopub.status.busy": "2022-11-30T13:49:42.596347Z",
     "iopub.status.idle": "2022-11-30T13:49:42.604162Z",
     "shell.execute_reply": "2022-11-30T13:49:42.603562Z"
    }
   },
   "outputs": [
    {
     "name": "stderr",
     "output_type": "stream",
     "text": [
      "[2022-11-30 13:49:42]>INFO>Save source_vertices={1, 2, 10, 5} to dest=PosixPath('/home/runner/work/CFPQ_Data/CFPQ_Data/docs/test.txt')\n"
     ]
    },
    {
     "name": "stderr",
     "output_type": "stream",
     "text": [
      "[2022-11-30 13:49:42]>INFO>Load source_vertices={1, 2, 10, 5} from path=PosixPath('/home/runner/work/CFPQ_Data/CFPQ_Data/docs/test.txt')\n"
     ]
    }
   ],
   "source": [
    "s = {1, 2, 5, 10}\n",
    "path = cfpq_data.multiple_source_to_txt(s, \"test.txt\")\n",
    "source_vertices = cfpq_data.multiple_source_from_txt(path)"
   ]
  }
 ],
 "metadata": {
  "language_info": {
   "codemirror_mode": {
    "name": "ipython",
    "version": 3
   },
   "file_extension": ".py",
   "mimetype": "text/x-python",
   "name": "python",
   "nbconvert_exporter": "python",
   "pygments_lexer": "ipython3",
   "version": "3.8.14"
  }
 },
 "nbformat": 4,
 "nbformat_minor": 5
}
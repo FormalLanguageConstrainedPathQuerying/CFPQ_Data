{
 "cells": [
  {
   "cell_type": "markdown",
   "id": "ce6d96c4",
   "metadata": {},
   "source": [
    "## Tutorial\n",
    "\n",
    "Release\n",
    "\n",
    ":   4.0.2\n",
    "\n",
    "Date\n",
    "\n",
    ":   Dec 08, 2022\n",
    "\n",
    "This guide can help you start working with CFPQ_Data.\n",
    "\n",
    "**You can download this tutorial as a Jupyter Notebook from the link at the end of the page.**\n",
    "\n",
    "### Import\n",
    "\n",
    "First you need to import the package."
   ]
  },
  {
   "cell_type": "code",
   "execution_count": 1,
   "id": "bf88b569",
   "metadata": {
    "execution": {
     "iopub.execute_input": "2022-12-08T11:39:31.727796Z",
     "iopub.status.busy": "2022-12-08T11:39:31.727545Z",
     "iopub.status.idle": "2022-12-08T11:39:32.081796Z",
     "shell.execute_reply": "2022-12-08T11:39:32.081117Z"
    }
   },
   "outputs": [],
   "source": [
    "import cfpq_data"
   ]
  },
  {
   "cell_type": "markdown",
   "id": "db916c41",
   "metadata": {},
   "source": [
    "# Load graph\n",
    "\n",
    "After the package is imported, we can load the graphs.\n",
    "\n",
    "## Load graph archive from Dataset\n",
    "\n",
    "We can load the archive with the graph using function `download`."
   ]
  },
  {
   "cell_type": "code",
   "execution_count": 2,
   "id": "ebf41690",
   "metadata": {
    "execution": {
     "iopub.execute_input": "2022-12-08T11:39:32.085885Z",
     "iopub.status.busy": "2022-12-08T11:39:32.085390Z",
     "iopub.status.idle": "2022-12-08T11:39:32.611363Z",
     "shell.execute_reply": "2022-12-08T11:39:32.610720Z"
    }
   },
   "outputs": [
    {
     "name": "stderr",
     "output_type": "stream",
     "text": [
      "[2022-12-08 11:39:32]>INFO>Found graph with name='bzip'\n"
     ]
    },
    {
     "name": "stderr",
     "output_type": "stream",
     "text": [
      "[2022-12-08 11:39:32]>INFO>Load archive graph_archive=PosixPath('/opt/hostedtoolcache/Python/3.8.15/x64/lib/python3.8/site-packages/cfpq_data/data/graphs/bzip.tar.gz')\n"
     ]
    },
    {
     "name": "stderr",
     "output_type": "stream",
     "text": [
      "[2022-12-08 11:39:32]>INFO>Unzip graph name='bzip' to file graph=PosixPath('/opt/hostedtoolcache/Python/3.8.15/x64/lib/python3.8/site-packages/cfpq_data/data/graphs/bzip/bzip.csv')\n"
     ]
    },
    {
     "name": "stderr",
     "output_type": "stream",
     "text": [
      "[2022-12-08 11:39:32]>INFO>Remove archive graph_archive=PosixPath('/opt/hostedtoolcache/Python/3.8.15/x64/lib/python3.8/site-packages/cfpq_data/data/graphs/bzip.tar.gz')\n"
     ]
    }
   ],
   "source": [
    "bzip_path = cfpq_data.download(\"bzip\")"
   ]
  },
  {
   "cell_type": "markdown",
   "id": "f6baa31d",
   "metadata": {},
   "source": [
    "# Load graph by path\n",
    "\n",
    "We can load the graph along the specified path using function `graph_from_csv`."
   ]
  },
  {
   "cell_type": "code",
   "execution_count": 3,
   "id": "2864a0a9",
   "metadata": {
    "execution": {
     "iopub.execute_input": "2022-12-08T11:39:32.614375Z",
     "iopub.status.busy": "2022-12-08T11:39:32.614013Z",
     "iopub.status.idle": "2022-12-08T11:39:32.624764Z",
     "shell.execute_reply": "2022-12-08T11:39:32.624083Z"
    }
   },
   "outputs": [
    {
     "name": "stderr",
     "output_type": "stream",
     "text": [
      "[2022-12-08 11:39:32]>INFO>Load graph=<networkx.classes.multidigraph.MultiDiGraph object at 0x7fcc401f95b0> from path=PosixPath('/opt/hostedtoolcache/Python/3.8.15/x64/lib/python3.8/site-packages/cfpq_data/data/graphs/bzip/bzip.csv')\n"
     ]
    }
   ],
   "source": [
    "bzip = cfpq_data.graph_from_csv(bzip_path)"
   ]
  },
  {
   "cell_type": "markdown",
   "id": "0cf30d74",
   "metadata": {},
   "source": [
    "Create graph\n",
    "\n",
    "We can also create a synthetic graph using one of the generators in module Graph generators.\n",
    "\n",
    "# Create a one cycle graph\n",
    "\n",
    "For example, let's create a one cycle graph, with 5 nodes, the edges of which are marked with the letter `a`."
   ]
  },
  {
   "cell_type": "code",
   "execution_count": 4,
   "id": "d61374d2",
   "metadata": {
    "execution": {
     "iopub.execute_input": "2022-12-08T11:39:32.627914Z",
     "iopub.status.busy": "2022-12-08T11:39:32.627691Z",
     "iopub.status.idle": "2022-12-08T11:39:32.631678Z",
     "shell.execute_reply": "2022-12-08T11:39:32.631039Z"
    }
   },
   "outputs": [
    {
     "name": "stderr",
     "output_type": "stream",
     "text": [
      "[2022-12-08 11:39:32]>INFO>Create a cycle graph=<networkx.classes.multidigraph.MultiDiGraph object at 0x7fcc1177b3a0> with n=5, label='a'\n"
     ]
    }
   ],
   "source": [
    "cycle = cfpq_data.labeled_cycle_graph(5, label=\"a\")"
   ]
  },
  {
   "cell_type": "markdown",
   "id": "2691a0d6",
   "metadata": {},
   "source": [
    "Change edges\n",
    "\n",
    "We can change the specified graph labels by using function `change_edges`\n",
    "from Graph utilities."
   ]
  },
  {
   "cell_type": "code",
   "execution_count": 5,
   "id": "3e276a20",
   "metadata": {
    "execution": {
     "iopub.execute_input": "2022-12-08T11:39:32.635336Z",
     "iopub.status.busy": "2022-12-08T11:39:32.635131Z",
     "iopub.status.idle": "2022-12-08T11:39:32.638884Z",
     "shell.execute_reply": "2022-12-08T11:39:32.638401Z"
    }
   },
   "outputs": [
    {
     "name": "stderr",
     "output_type": "stream",
     "text": [
      "[2022-12-08 11:39:32]>INFO>Change labels in graph=<networkx.classes.multidigraph.MultiDiGraph object at 0x7fcc1177b3a0> with mapping={'a': 'b'} to new_graph=<networkx.classes.multidigraph.MultiDiGraph object at 0x7fcc1170d520>\n"
     ]
    }
   ],
   "source": [
    "new_cycle = cfpq_data.change_edges(cycle, {\"a\": \"b\"})"
   ]
  },
  {
   "cell_type": "markdown",
   "id": "5f000d67",
   "metadata": {},
   "source": [
    "Now the labels `a` have changed to `b`.\n",
    "\n",
    "# Add reverse edges\n",
    "\n",
    "In addition, we can add reverse edges to the graph by using function `add_reverse_edges`\n",
    "from Graph utilities. This is extremely useful if graph analysis is formulated using such reverse edges."
   ]
  },
  {
   "cell_type": "code",
   "execution_count": 6,
   "id": "c6baeb5c",
   "metadata": {
    "execution": {
     "iopub.execute_input": "2022-12-08T11:39:32.642421Z",
     "iopub.status.busy": "2022-12-08T11:39:32.642008Z",
     "iopub.status.idle": "2022-12-08T11:39:32.645600Z",
     "shell.execute_reply": "2022-12-08T11:39:32.645091Z"
    }
   },
   "outputs": [
    {
     "name": "stderr",
     "output_type": "stream",
     "text": [
      "[2022-12-08 11:39:32]>INFO>Add reverse edges in graph=<networkx.classes.multidigraph.MultiDiGraph object at 0x7fcc1170d520> with mapping=None to new_graph=<networkx.classes.multidigraph.MultiDiGraph object at 0x7fcc1170d5e0>\n"
     ]
    }
   ],
   "source": [
    "new_cycle_with_reversed = cfpq_data.add_reverse_edges(new_cycle)"
   ]
  },
  {
   "cell_type": "markdown",
   "id": "0c105e22",
   "metadata": {},
   "source": [
    "Now, for each edge with label `a` this graph contains the reversed edge with label `a_r`.\n",
    "\n",
    "# Load grammar\n",
    "\n",
    "Also, we can load the grammars generated from grammar templates that are described on the Grammars page.\n",
    "\n",
    "## Load grammars archive from Dataset\n",
    "\n",
    "We can load the archive with the grammars for the specified template using function `download_grammars`."
   ]
  },
  {
   "cell_type": "code",
   "execution_count": 7,
   "id": "c85731df",
   "metadata": {
    "execution": {
     "iopub.execute_input": "2022-12-08T11:39:32.648345Z",
     "iopub.status.busy": "2022-12-08T11:39:32.648129Z",
     "iopub.status.idle": "2022-12-08T11:39:33.161572Z",
     "shell.execute_reply": "2022-12-08T11:39:33.161023Z"
    }
   },
   "outputs": [
    {
     "name": "stderr",
     "output_type": "stream",
     "text": [
      "[2022-12-08 11:39:32]>INFO>Found grammar template='c_alias'\n"
     ]
    },
    {
     "name": "stderr",
     "output_type": "stream",
     "text": [
      "[2022-12-08 11:39:33]>INFO>Load archive grammar_archive=PosixPath('/opt/hostedtoolcache/Python/3.8.15/x64/lib/python3.8/site-packages/cfpq_data/data/grammars/c_alias.tar.gz')\n"
     ]
    },
    {
     "name": "stderr",
     "output_type": "stream",
     "text": [
      "[2022-12-08 11:39:33]>INFO>Unzip grammars with template='c_alias' for graph with graph_name=None to directory grammars=PosixPath('/opt/hostedtoolcache/Python/3.8.15/x64/lib/python3.8/site-packages/cfpq_data/data/grammars/c_alias')\n"
     ]
    },
    {
     "name": "stderr",
     "output_type": "stream",
     "text": [
      "[2022-12-08 11:39:33]>INFO>Remove archive grammar_archive=PosixPath('/opt/hostedtoolcache/Python/3.8.15/x64/lib/python3.8/site-packages/cfpq_data/data/grammars/c_alias.tar.gz')\n"
     ]
    }
   ],
   "source": [
    "c_alias_path = cfpq_data.download_grammars(\"c_alias\")"
   ]
  },
  {
   "cell_type": "markdown",
   "id": "da91db48",
   "metadata": {},
   "source": [
    "# Load grammars archive for specified graph\n",
    "\n",
    "For some grammar templates we also can load the archive with the grammars for specific graphs."
   ]
  },
  {
   "cell_type": "code",
   "execution_count": 8,
   "id": "a8d8df5d",
   "metadata": {
    "execution": {
     "iopub.execute_input": "2022-12-08T11:39:33.164486Z",
     "iopub.status.busy": "2022-12-08T11:39:33.164263Z",
     "iopub.status.idle": "2022-12-08T11:39:33.726545Z",
     "shell.execute_reply": "2022-12-08T11:39:33.725913Z"
    }
   },
   "outputs": [
    {
     "name": "stderr",
     "output_type": "stream",
     "text": [
      "[2022-12-08 11:39:33]>INFO>Found graph with graph_name='avrora' and grammar template='java_points_to'\n"
     ]
    },
    {
     "name": "stderr",
     "output_type": "stream",
     "text": [
      "[2022-12-08 11:39:33]>INFO>Load archive grammar_archive=PosixPath('/opt/hostedtoolcache/Python/3.8.15/x64/lib/python3.8/site-packages/cfpq_data/data/grammars/java_points_to_avrora.tar.gz')\n"
     ]
    },
    {
     "name": "stderr",
     "output_type": "stream",
     "text": [
      "[2022-12-08 11:39:33]>INFO>Unzip grammars with template='java_points_to' for graph with graph_name='avrora' to directory grammars=PosixPath('/opt/hostedtoolcache/Python/3.8.15/x64/lib/python3.8/site-packages/cfpq_data/data/grammars/java_points_to_avrora')\n"
     ]
    },
    {
     "name": "stderr",
     "output_type": "stream",
     "text": [
      "[2022-12-08 11:39:33]>INFO>Remove archive grammar_archive=PosixPath('/opt/hostedtoolcache/Python/3.8.15/x64/lib/python3.8/site-packages/cfpq_data/data/grammars/java_points_to_avrora.tar.gz')\n"
     ]
    }
   ],
   "source": [
    "java_pt_avrora_path = cfpq_data.download_grammars(\"java_points_to\", graph_name=\"avrora\")"
   ]
  },
  {
   "cell_type": "markdown",
   "id": "334634c4",
   "metadata": {},
   "source": [
    "Regular grammars\n",
    "\n",
    "Currently, we have one representation of regular grammars:\n",
    "\n",
    "1. [Regular expression](https://en.wikipedia.org/wiki/Regular_expression#Formal_definition)\n",
    "\n",
    "# Create a regular expression\n",
    "\n",
    "For example, a regular expression can be created by using function `regex_from_text`\n",
    "from Reading and writing grammars."
   ]
  },
  {
   "cell_type": "code",
   "execution_count": 9,
   "id": "d893dd01",
   "metadata": {
    "execution": {
     "iopub.execute_input": "2022-12-08T11:39:33.729545Z",
     "iopub.status.busy": "2022-12-08T11:39:33.729268Z",
     "iopub.status.idle": "2022-12-08T11:39:33.735487Z",
     "shell.execute_reply": "2022-12-08T11:39:33.734907Z"
    }
   },
   "outputs": [
    {
     "name": "stderr",
     "output_type": "stream",
     "text": [
      "[2022-12-08 11:39:33]>INFO>Create regex=(a.(bc|(d)*)) from text='a (bc|d*)'\n"
     ]
    }
   ],
   "source": [
    "regex = cfpq_data.regex_from_text(\"a (bc|d*)\")"
   ]
  },
  {
   "cell_type": "markdown",
   "id": "d55151d5",
   "metadata": {},
   "source": [
    "# Load regular expression by path\n",
    "\n",
    "We can load the regular expression along the specified path using function `regex_from_txt`."
   ]
  },
  {
   "cell_type": "code",
   "execution_count": 10,
   "id": "1fdc9333",
   "metadata": {
    "execution": {
     "iopub.execute_input": "2022-12-08T11:39:33.738221Z",
     "iopub.status.busy": "2022-12-08T11:39:33.738014Z",
     "iopub.status.idle": "2022-12-08T11:39:33.747297Z",
     "shell.execute_reply": "2022-12-08T11:39:33.746680Z"
    }
   },
   "outputs": [
    {
     "name": "stderr",
     "output_type": "stream",
     "text": [
      "[2022-12-08 11:39:33]>INFO>Turn regex=(a.(bc|(d)*)) into text='(a (bc|(d)*))'\n"
     ]
    },
    {
     "name": "stderr",
     "output_type": "stream",
     "text": [
      "[2022-12-08 11:39:33]>INFO>Save regex=(a.(bc|(d)*)) to dest=PosixPath('/home/runner/work/CFPQ_Data/CFPQ_Data/docs/test.txt')\n"
     ]
    },
    {
     "name": "stderr",
     "output_type": "stream",
     "text": [
      "[2022-12-08 11:39:33]>INFO>Create regex=(a.(bc|(d)*)) from text='(a (bc|(d)*))'\n"
     ]
    },
    {
     "name": "stderr",
     "output_type": "stream",
     "text": [
      "[2022-12-08 11:39:33]>INFO>Create regex=(a.(bc|(d)*)) from path=PosixPath('/home/runner/work/CFPQ_Data/CFPQ_Data/docs/test.txt')\n"
     ]
    }
   ],
   "source": [
    "path = cfpq_data.regex_to_txt(regex, \"test.txt\")\n",
    "regex_by_path = cfpq_data.regex_from_txt(path)"
   ]
  },
  {
   "cell_type": "markdown",
   "id": "f79ff521",
   "metadata": {},
   "source": [
    "Сontext-free grammars\n",
    "\n",
    "Currently, we have three representations of context-free grammars (CFGs):\n",
    "\n",
    "1. [Classic](https://en.wikipedia.org/wiki/Context-free_grammar#Formal_definitions)\n",
    "\n",
    "1. [Chomsky Normal Form](https://en.wikipedia.org/wiki/Chomsky_normal_form)\n",
    "\n",
    "1. [Recursive State Machine](https://link.springer.com/chapter/10.1007/978-3-030-54832-2_6#Sec2)\n",
    "\n",
    "# Create a classic context-free grammar\n",
    "\n",
    "A classic context-free grammar can be created by using function `cfg_from_text`\n",
    "from Reading and writing grammars."
   ]
  },
  {
   "cell_type": "code",
   "execution_count": 11,
   "id": "541cbf55",
   "metadata": {
    "execution": {
     "iopub.execute_input": "2022-12-08T11:39:33.750183Z",
     "iopub.status.busy": "2022-12-08T11:39:33.749848Z",
     "iopub.status.idle": "2022-12-08T11:39:33.753775Z",
     "shell.execute_reply": "2022-12-08T11:39:33.753153Z"
    }
   },
   "outputs": [
    {
     "name": "stderr",
     "output_type": "stream",
     "text": [
      "[2022-12-08 11:39:33]>INFO>Create cfg=<pyformlang.cfg.cfg.CFG object at 0x7fcc1170de20> from text='S -> a S b S | a b', start_symbol=Variable(S)\n"
     ]
    }
   ],
   "source": [
    "cfg = cfpq_data.cfg_from_text(\"S -> a S b S | a b\")"
   ]
  },
  {
   "cell_type": "markdown",
   "id": "de46a927",
   "metadata": {},
   "source": [
    "# Load context-free grammar by path\n",
    "\n",
    "We can load the classic context-free grammar along the specified path using function `cfg_from_txt`."
   ]
  },
  {
   "cell_type": "code",
   "execution_count": 12,
   "id": "17d835f8",
   "metadata": {
    "execution": {
     "iopub.execute_input": "2022-12-08T11:39:33.756999Z",
     "iopub.status.busy": "2022-12-08T11:39:33.756791Z",
     "iopub.status.idle": "2022-12-08T11:39:33.763740Z",
     "shell.execute_reply": "2022-12-08T11:39:33.763110Z"
    }
   },
   "outputs": [
    {
     "name": "stderr",
     "output_type": "stream",
     "text": [
      "[2022-12-08 11:39:33]>INFO>Turn cfg=<pyformlang.cfg.cfg.CFG object at 0x7fcc1170de20> into text='S -> a S b S\\nS -> a b'\n"
     ]
    },
    {
     "name": "stderr",
     "output_type": "stream",
     "text": [
      "[2022-12-08 11:39:33]>INFO>Save cfg=<pyformlang.cfg.cfg.CFG object at 0x7fcc1170de20> to dest=PosixPath('/home/runner/work/CFPQ_Data/CFPQ_Data/docs/test.txt')\n"
     ]
    },
    {
     "name": "stderr",
     "output_type": "stream",
     "text": [
      "[2022-12-08 11:39:33]>INFO>Create cfg=<pyformlang.cfg.cfg.CFG object at 0x7fcc401f9580> from text='S -> a S b S\\nS -> a b', start_symbol=Variable(S)\n"
     ]
    },
    {
     "name": "stderr",
     "output_type": "stream",
     "text": [
      "[2022-12-08 11:39:33]>INFO>Create cfg=<pyformlang.cfg.cfg.CFG object at 0x7fcc401f9580> from path=PosixPath('/home/runner/work/CFPQ_Data/CFPQ_Data/docs/test.txt'), start_symbol=Variable(S)\n"
     ]
    }
   ],
   "source": [
    "path = cfpq_data.cfg_to_txt(cfg, \"test.txt\")\n",
    "cfg_by_path = cfpq_data.cfg_from_txt(path)"
   ]
  },
  {
   "cell_type": "markdown",
   "id": "b5694ac9",
   "metadata": {},
   "source": [
    "Generate grammar\n",
    "\n",
    "We can also generate a grammar for specified template using one of the generators in module Grammar generators.\n",
    "\n",
    "# Generate a Dyck grammar\n",
    "\n",
    "For example, let's generate a Dyck grammar of the balanced strings with `a` as an opening parenthesis, `b` as a closing parenthesis, and without the empty string."
   ]
  },
  {
   "cell_type": "code",
   "execution_count": 13,
   "id": "6665e53f",
   "metadata": {
    "execution": {
     "iopub.execute_input": "2022-12-08T11:39:33.768620Z",
     "iopub.status.busy": "2022-12-08T11:39:33.768366Z",
     "iopub.status.idle": "2022-12-08T11:39:33.772240Z",
     "shell.execute_reply": "2022-12-08T11:39:33.771723Z"
    }
   },
   "outputs": [
    {
     "name": "stderr",
     "output_type": "stream",
     "text": [
      "[2022-12-08 11:39:33]>INFO>Create a Dyck cfg=<pyformlang.cfg.cfg.CFG object at 0x7fcc11605100> with types=[('a', 'b')], eps=False\n"
     ]
    }
   ],
   "source": [
    "dyck_cfg = cfpq_data.dyck_grammar([(\"a\", \"b\")], eps=False)"
   ]
  },
  {
   "cell_type": "markdown",
   "id": "47f044c8",
   "metadata": {},
   "source": [
    "# Generate a Java Points-to grammar\n",
    "\n",
    "Also, let's generate a Java Points-to grammar for the field-sensitive analysis of Java programs with field names `f0` and `f1`."
   ]
  },
  {
   "cell_type": "code",
   "execution_count": 14,
   "id": "cd0318b2",
   "metadata": {
    "execution": {
     "iopub.execute_input": "2022-12-08T11:39:33.774843Z",
     "iopub.status.busy": "2022-12-08T11:39:33.774628Z",
     "iopub.status.idle": "2022-12-08T11:39:33.778212Z",
     "shell.execute_reply": "2022-12-08T11:39:33.777707Z"
    }
   },
   "outputs": [
    {
     "name": "stderr",
     "output_type": "stream",
     "text": [
      "[2022-12-08 11:39:33]>INFO>Create a Java Points-to cfg=<pyformlang.cfg.cfg.CFG object at 0x7fcc11605df0> with fields=['f0', 'f1']\n"
     ]
    }
   ],
   "source": [
    "java_pt_cfg = cfpq_data.java_points_to_grammar([\"f0\", \"f1\"])"
   ]
  },
  {
   "cell_type": "markdown",
   "id": "3383ebea",
   "metadata": {},
   "source": [
    "Benchmarks\n",
    "\n",
    "In addition, one of the prepared benchmarks that contains graphs, queries, other input data, and results for\n",
    "a particular formal-language-constrained path querying problem can be downloaded.\n",
    "\n",
    "Currently, we provide the following benchmarks documented on the Benchmarks page:\n",
    "\n",
    "1. MS_Reachability\n",
    "\n",
    "# Load benchmark archive\n",
    "\n",
    "You can load the archive with the benchmark using function `download_benchmark`."
   ]
  },
  {
   "cell_type": "code",
   "execution_count": 15,
   "id": "43a5b7dd",
   "metadata": {
    "execution": {
     "iopub.execute_input": "2022-12-08T11:39:33.780835Z",
     "iopub.status.busy": "2022-12-08T11:39:33.780630Z",
     "iopub.status.idle": "2022-12-08T11:39:36.093500Z",
     "shell.execute_reply": "2022-12-08T11:39:36.092860Z"
    }
   },
   "outputs": [
    {
     "name": "stderr",
     "output_type": "stream",
     "text": [
      "[2022-12-08 11:39:33]>INFO>Found benchmark with name='MS_Reachability'\n"
     ]
    },
    {
     "name": "stderr",
     "output_type": "stream",
     "text": [
      "[2022-12-08 11:39:35]>INFO>Load archive benchmark_archive=PosixPath('/opt/hostedtoolcache/Python/3.8.15/x64/lib/python3.8/site-packages/cfpq_data/data/benchmarks/MS_Reachability.tar.gz')\n"
     ]
    },
    {
     "name": "stderr",
     "output_type": "stream",
     "text": [
      "[2022-12-08 11:39:36]>INFO>Unzip benchmark name='MS_Reachability' to directory benchmark=PosixPath('/opt/hostedtoolcache/Python/3.8.15/x64/lib/python3.8/site-packages/cfpq_data/data/benchmarks/MS_Reachability')\n"
     ]
    },
    {
     "name": "stderr",
     "output_type": "stream",
     "text": [
      "[2022-12-08 11:39:36]>INFO>Remove archive benchmark_archive=PosixPath('/opt/hostedtoolcache/Python/3.8.15/x64/lib/python3.8/site-packages/cfpq_data/data/benchmarks/MS_Reachability.tar.gz')\n"
     ]
    }
   ],
   "source": [
    "ms_reachability_path = cfpq_data.download_benchmark(\"MS_Reachability\")"
   ]
  },
  {
   "cell_type": "markdown",
   "id": "b78a837c",
   "metadata": {},
   "source": [
    "# MS_Reachability benchmark\n",
    "\n",
    "MS_Reachability benchmark can be used for the experimental study of the algorithms that solve the multiple-source\n",
    "formal-language-constrained reachability problem. This benchmark is described on the MS_Reachability page.\n",
    "\n",
    "For this benchmark we provide some useful functions from\n",
    "Graph utilities.\n",
    "For example, the set of source vertices can be saved to the TXT file or it can be loaded from benchmark by using\n",
    "functions `multiple_source_from_txt` and\n",
    "`multiple_source_to_txt`."
   ]
  },
  {
   "cell_type": "code",
   "execution_count": 16,
   "id": "88b9392d",
   "metadata": {
    "execution": {
     "iopub.execute_input": "2022-12-08T11:39:36.097345Z",
     "iopub.status.busy": "2022-12-08T11:39:36.096719Z",
     "iopub.status.idle": "2022-12-08T11:39:36.103885Z",
     "shell.execute_reply": "2022-12-08T11:39:36.103303Z"
    }
   },
   "outputs": [
    {
     "name": "stderr",
     "output_type": "stream",
     "text": [
      "[2022-12-08 11:39:36]>INFO>Save source_vertices={1, 2, 10, 5} to dest=PosixPath('/home/runner/work/CFPQ_Data/CFPQ_Data/docs/test.txt')\n"
     ]
    },
    {
     "name": "stderr",
     "output_type": "stream",
     "text": [
      "[2022-12-08 11:39:36]>INFO>Load source_vertices={1, 2, 10, 5} from path=PosixPath('/home/runner/work/CFPQ_Data/CFPQ_Data/docs/test.txt')\n"
     ]
    }
   ],
   "source": [
    "s = {1, 2, 5, 10}\n",
    "path = cfpq_data.multiple_source_to_txt(s, \"test.txt\")\n",
    "source_vertices = cfpq_data.multiple_source_from_txt(path)"
   ]
  }
 ],
 "metadata": {
  "language_info": {
   "codemirror_mode": {
    "name": "ipython",
    "version": 3
   },
   "file_extension": ".py",
   "mimetype": "text/x-python",
   "name": "python",
   "nbconvert_exporter": "python",
   "pygments_lexer": "ipython3",
   "version": "3.8.15"
  }
 },
 "nbformat": 4,
 "nbformat_minor": 5
}
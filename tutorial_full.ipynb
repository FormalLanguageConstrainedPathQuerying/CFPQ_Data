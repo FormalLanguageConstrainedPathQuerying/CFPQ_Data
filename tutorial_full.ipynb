{
 "cells": [
  {
   "cell_type": "markdown",
   "id": "cc6ff1f2",
   "metadata": {},
   "source": [
    "## Tutorial\n",
    "\n",
    "Release\n",
    "\n",
    ":   4.0.0\n",
    "\n",
    "Date\n",
    "\n",
    ":   Oct 06, 2022\n",
    "\n",
    "This guide can help you start working with CFPQ_Data.\n",
    "\n",
    "**You can download this tutorial as a Jupyter Notebook from the link at the end of the page.**\n",
    "\n",
    "### Import\n",
    "\n",
    "First you need to import the package."
   ]
  },
  {
   "cell_type": "code",
   "execution_count": 1,
   "id": "bb760d61",
   "metadata": {
    "execution": {
     "iopub.execute_input": "2022-10-06T13:50:18.088475Z",
     "iopub.status.busy": "2022-10-06T13:50:18.087905Z",
     "iopub.status.idle": "2022-10-06T13:50:18.459963Z",
     "shell.execute_reply": "2022-10-06T13:50:18.459296Z"
    }
   },
   "outputs": [],
   "source": [
    "import cfpq_data"
   ]
  },
  {
   "cell_type": "markdown",
   "id": "26d47c86",
   "metadata": {},
   "source": [
    "# Load graph\n",
    "\n",
    "After the package is imported, we can load the graphs.\n",
    "\n",
    "## Load graph archive from Dataset\n",
    "\n",
    "We can load the archive with the graph using function `download`."
   ]
  },
  {
   "cell_type": "code",
   "execution_count": 2,
   "id": "de5b4dc4",
   "metadata": {
    "execution": {
     "iopub.execute_input": "2022-10-06T13:50:18.464118Z",
     "iopub.status.busy": "2022-10-06T13:50:18.463267Z",
     "iopub.status.idle": "2022-10-06T13:50:19.008921Z",
     "shell.execute_reply": "2022-10-06T13:50:19.008071Z"
    }
   },
   "outputs": [
    {
     "name": "stderr",
     "output_type": "stream",
     "text": [
      "[2022-10-06 13:50:18]>INFO>Found graph with name='bzip'\n"
     ]
    },
    {
     "name": "stderr",
     "output_type": "stream",
     "text": [
      "[2022-10-06 13:50:19]>INFO>Load archive graph_archive=PosixPath('/opt/hostedtoolcache/Python/3.8.14/x64/lib/python3.8/site-packages/cfpq_data/data/bzip.tar.gz')\n"
     ]
    },
    {
     "name": "stderr",
     "output_type": "stream",
     "text": [
      "[2022-10-06 13:50:19]>INFO>Unzip graph name='bzip' to file graph=PosixPath('/opt/hostedtoolcache/Python/3.8.14/x64/lib/python3.8/site-packages/cfpq_data/data/bzip/bzip.csv')\n"
     ]
    },
    {
     "name": "stderr",
     "output_type": "stream",
     "text": [
      "[2022-10-06 13:50:19]>INFO>Remove archive graph_archive=PosixPath('/opt/hostedtoolcache/Python/3.8.14/x64/lib/python3.8/site-packages/cfpq_data/data/bzip.tar.gz')\n"
     ]
    }
   ],
   "source": [
    "bzip_path = cfpq_data.download(\"bzip\")"
   ]
  },
  {
   "cell_type": "markdown",
   "id": "8f45f96a",
   "metadata": {},
   "source": [
    "# Load graph by path\n",
    "\n",
    "We can load the graph along the specified path using function `graph_from_csv`."
   ]
  },
  {
   "cell_type": "code",
   "execution_count": 3,
   "id": "be9ed241",
   "metadata": {
    "execution": {
     "iopub.execute_input": "2022-10-06T13:50:19.012284Z",
     "iopub.status.busy": "2022-10-06T13:50:19.011687Z",
     "iopub.status.idle": "2022-10-06T13:50:19.023686Z",
     "shell.execute_reply": "2022-10-06T13:50:19.022994Z"
    }
   },
   "outputs": [
    {
     "name": "stderr",
     "output_type": "stream",
     "text": [
      "[2022-10-06 13:50:19]>INFO>Load graph=<networkx.classes.multidigraph.MultiDiGraph object at 0x7f31ca715a60> from path=PosixPath('/opt/hostedtoolcache/Python/3.8.14/x64/lib/python3.8/site-packages/cfpq_data/data/bzip/bzip.csv')\n"
     ]
    }
   ],
   "source": [
    "bzip = cfpq_data.graph_from_csv(bzip_path)"
   ]
  },
  {
   "cell_type": "markdown",
   "id": "7deb70a5",
   "metadata": {},
   "source": [
    "Create graph\n",
    "\n",
    "We can also create a synthetic graph using one of the generators in module Graph generators.\n",
    "\n",
    "# Create a one cycle graph\n",
    "\n",
    "For example, let's create a one cycle graph, with 5 nodes, the edges of which are marked with the letter `a`."
   ]
  },
  {
   "cell_type": "code",
   "execution_count": 4,
   "id": "fb1a4ad2",
   "metadata": {
    "execution": {
     "iopub.execute_input": "2022-10-06T13:50:19.027015Z",
     "iopub.status.busy": "2022-10-06T13:50:19.026801Z",
     "iopub.status.idle": "2022-10-06T13:50:19.031130Z",
     "shell.execute_reply": "2022-10-06T13:50:19.030372Z"
    }
   },
   "outputs": [
    {
     "name": "stderr",
     "output_type": "stream",
     "text": [
      "[2022-10-06 13:50:19]>INFO>Create a cycle graph=<networkx.classes.multidigraph.MultiDiGraph object at 0x7f31ca7151f0> with n=5, label='a'\n"
     ]
    }
   ],
   "source": [
    "cycle = cfpq_data.labeled_cycle_graph(5, label=\"a\")"
   ]
  },
  {
   "cell_type": "markdown",
   "id": "1c35c611",
   "metadata": {},
   "source": [
    "Change edges\n",
    "\n",
    "We can change the specified graph labels by using function `change_edges`\n",
    "from Graph utilities."
   ]
  },
  {
   "cell_type": "code",
   "execution_count": 5,
   "id": "6b7b79f1",
   "metadata": {
    "execution": {
     "iopub.execute_input": "2022-10-06T13:50:19.035254Z",
     "iopub.status.busy": "2022-10-06T13:50:19.034939Z",
     "iopub.status.idle": "2022-10-06T13:50:19.039786Z",
     "shell.execute_reply": "2022-10-06T13:50:19.038959Z"
    }
   },
   "outputs": [
    {
     "name": "stderr",
     "output_type": "stream",
     "text": [
      "[2022-10-06 13:50:19]>INFO>Change labels in graph=<networkx.classes.multidigraph.MultiDiGraph object at 0x7f31ca7151f0> with mapping={'a': 'b'} to new_graph=<networkx.classes.multidigraph.MultiDiGraph object at 0x7f319db8d580>\n"
     ]
    }
   ],
   "source": [
    "new_cycle = cfpq_data.change_edges(cycle, {\"a\": \"b\"})"
   ]
  },
  {
   "cell_type": "markdown",
   "id": "7575eb11",
   "metadata": {},
   "source": [
    "Now the labels `a` have changed to `b`.\n",
    "\n",
    "# Grammars\n",
    "\n",
    "Also, we can create our own grammar or use a predefined one.\n",
    "\n",
    "## Regular grammars\n",
    "\n",
    "Currently, we have one representation of regular grammars documented on the Grammars page:\n",
    "\n",
    "1. [Regular expression](https://en.wikipedia.org/wiki/Regular_expression#Formal_definition)\n",
    "\n",
    "## Create a regular expression\n",
    "\n",
    "A regular expression can be created by using function `regex_from_text`\n",
    "from Reading and writing grammars."
   ]
  },
  {
   "cell_type": "code",
   "execution_count": 6,
   "id": "c3065cb4",
   "metadata": {
    "execution": {
     "iopub.execute_input": "2022-10-06T13:50:19.043776Z",
     "iopub.status.busy": "2022-10-06T13:50:19.043569Z",
     "iopub.status.idle": "2022-10-06T13:50:19.047951Z",
     "shell.execute_reply": "2022-10-06T13:50:19.047203Z"
    }
   },
   "outputs": [
    {
     "name": "stderr",
     "output_type": "stream",
     "text": [
      "[2022-10-06 13:50:19]>INFO>Create regex=(a.(bc|(d)*)) from text='a (bc|d*)'\n"
     ]
    }
   ],
   "source": [
    "regex = cfpq_data.regex_from_text(\"a (bc|d*)\")"
   ]
  },
  {
   "cell_type": "markdown",
   "id": "9ae98f07",
   "metadata": {},
   "source": [
    "# Сontext-free grammars\n",
    "\n",
    "Currently, we have three representations of context-free grammars (CFGs) documented on the Grammars page:\n",
    "\n",
    "1. [Classic](https://en.wikipedia.org/wiki/Context-free_grammar#Formal_definitions)\n",
    "\n",
    "1. [Chomsky Normal Form](https://en.wikipedia.org/wiki/Chomsky_normal_form)\n",
    "\n",
    "1. [Recursive State Machine](https://link.springer.com/chapter/10.1007/978-3-030-54832-2_6#Sec2)\n",
    "\n",
    "# Create a context-free grammar\n",
    "\n",
    "A context-free grammar can be created by using function `cfg_from_text`\n",
    "from Reading and writing grammars."
   ]
  },
  {
   "cell_type": "code",
   "execution_count": 7,
   "id": "952d7978",
   "metadata": {
    "execution": {
     "iopub.execute_input": "2022-10-06T13:50:19.051636Z",
     "iopub.status.busy": "2022-10-06T13:50:19.051312Z",
     "iopub.status.idle": "2022-10-06T13:50:19.055507Z",
     "shell.execute_reply": "2022-10-06T13:50:19.054728Z"
    }
   },
   "outputs": [
    {
     "name": "stderr",
     "output_type": "stream",
     "text": [
      "[2022-10-06 13:50:19]>INFO>Create cfg=<pyformlang.cfg.cfg.CFG object at 0x7f31c86f1af0> from text='S -> a S b S | a b', start_symbol=Variable(S)\n"
     ]
    }
   ],
   "source": [
    "cfg = cfpq_data.cfg_from_text(\"S -> a S b S | a b\")"
   ]
  },
  {
   "cell_type": "markdown",
   "id": "a8cf8456",
   "metadata": {},
   "source": [
    "Benchmarks\n",
    "\n",
    "In addition, one of the prepared benchmarks that contains graphs, queries, other input data, and results for\n",
    "a particular formal-language-constrained path querying problem can be downloaded.\n",
    "\n",
    "Currently, we provide the following benchmarks documented on the Benchmarks page:\n",
    "\n",
    "1. MS_Reachability\n",
    "\n",
    "# Load benchmark archive\n",
    "\n",
    "You can load the archive with the benchmark using function `download_benchmark`."
   ]
  },
  {
   "cell_type": "code",
   "execution_count": 8,
   "id": "7b0b20bc",
   "metadata": {
    "execution": {
     "iopub.execute_input": "2022-10-06T13:50:19.058468Z",
     "iopub.status.busy": "2022-10-06T13:50:19.058150Z",
     "iopub.status.idle": "2022-10-06T13:50:21.393040Z",
     "shell.execute_reply": "2022-10-06T13:50:21.392410Z"
    }
   },
   "outputs": [
    {
     "name": "stderr",
     "output_type": "stream",
     "text": [
      "[2022-10-06 13:50:19]>INFO>Found benchmark with name='MS_Reachability'\n"
     ]
    },
    {
     "name": "stderr",
     "output_type": "stream",
     "text": [
      "[2022-10-06 13:50:21]>INFO>Load archive benchmark_archive=PosixPath('/opt/hostedtoolcache/Python/3.8.14/x64/lib/python3.8/site-packages/cfpq_data/data/MS_Reachability.tar.gz')\n"
     ]
    },
    {
     "name": "stderr",
     "output_type": "stream",
     "text": [
      "[2022-10-06 13:50:21]>INFO>Unzip benchmark name='MS_Reachability' to directory benchmark=PosixPath('/opt/hostedtoolcache/Python/3.8.14/x64/lib/python3.8/site-packages/cfpq_data/data/MS_Reachability')\n"
     ]
    },
    {
     "name": "stderr",
     "output_type": "stream",
     "text": [
      "[2022-10-06 13:50:21]>INFO>Remove archive benchmark_archive=PosixPath('/opt/hostedtoolcache/Python/3.8.14/x64/lib/python3.8/site-packages/cfpq_data/data/MS_Reachability.tar.gz')\n"
     ]
    }
   ],
   "source": [
    "ms_reachability_path = cfpq_data.download_benchmark(\"MS_Reachability\")"
   ]
  },
  {
   "cell_type": "markdown",
   "id": "6bda8fe9",
   "metadata": {},
   "source": [
    "# MS_Reachability benchmark\n",
    "\n",
    "MS_Reachability benchmark can be used for the experimental study of the algorithms that solve the multiple-source\n",
    "formal-language-constrained reachability problem. This benchmark is described on the MS_Reachability page.\n",
    "\n",
    "For this benchmark we provide some useful functions from\n",
    "Graph utilities.\n",
    "For example, the set of source vertices can be saved to the TXT file or it can be loaded from benchmark by using\n",
    "functions `multiple_source_from_txt` and\n",
    "`multiple_source_to_txt`."
   ]
  },
  {
   "cell_type": "code",
   "execution_count": 9,
   "id": "5dee8505",
   "metadata": {
    "execution": {
     "iopub.execute_input": "2022-10-06T13:50:21.396466Z",
     "iopub.status.busy": "2022-10-06T13:50:21.396056Z",
     "iopub.status.idle": "2022-10-06T13:50:21.403676Z",
     "shell.execute_reply": "2022-10-06T13:50:21.403068Z"
    }
   },
   "outputs": [
    {
     "name": "stderr",
     "output_type": "stream",
     "text": [
      "[2022-10-06 13:50:21]>INFO>Save source_vertices={1, 2, 10, 5} to dest=PosixPath('/home/runner/work/CFPQ_Data/CFPQ_Data/docs/test.txt')\n"
     ]
    },
    {
     "name": "stderr",
     "output_type": "stream",
     "text": [
      "[2022-10-06 13:50:21]>INFO>Load source_vertices={1, 2, 10, 5} from path=PosixPath('/home/runner/work/CFPQ_Data/CFPQ_Data/docs/test.txt')\n"
     ]
    }
   ],
   "source": [
    "s = {1, 2, 5, 10}\n",
    "path = cfpq_data.multiple_source_to_txt(s, \"test.txt\")\n",
    "source_vertices = cfpq_data.multiple_source_from_txt(path)"
   ]
  }
 ],
 "metadata": {
  "language_info": {
   "codemirror_mode": {
    "name": "ipython",
    "version": 3
   },
   "file_extension": ".py",
   "mimetype": "text/x-python",
   "name": "python",
   "nbconvert_exporter": "python",
   "pygments_lexer": "ipython3",
   "version": "3.8.14"
  }
 },
 "nbformat": 4,
 "nbformat_minor": 5
}
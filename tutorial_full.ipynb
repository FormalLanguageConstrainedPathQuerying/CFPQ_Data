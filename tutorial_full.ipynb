{
 "cells": [
  {
   "cell_type": "markdown",
   "id": "8aefd036",
   "metadata": {},
   "source": [
    "## Tutorial\n",
    "\n",
    "Release\n",
    "\n",
    ":   2.0.0\n",
    "\n",
    "Date\n",
    "\n",
    ":   Nov 09, 2021\n",
    "\n",
    "This guide can help you start working with CFPQ_Data.\n",
    "\n",
    "**You can download this tutorial as a Jupyter Notebook from the link at the end of the page.**\n",
    "\n",
    "### Import\n",
    "\n",
    "First you need to import the package."
   ]
  },
  {
   "cell_type": "code",
   "execution_count": 1,
   "id": "0c466fb9",
   "metadata": {
    "execution": {
     "iopub.execute_input": "2021-11-09T13:02:47.850913Z",
     "iopub.status.busy": "2021-11-09T13:02:47.850044Z",
     "iopub.status.idle": "2021-11-09T13:02:48.289247Z",
     "shell.execute_reply": "2021-11-09T13:02:48.288239Z"
    }
   },
   "outputs": [],
   "source": [
    "import cfpq_data"
   ]
  },
  {
   "cell_type": "markdown",
   "id": "cbc7a7cb",
   "metadata": {},
   "source": [
    "# Load graph\n",
    "\n",
    "After the package is imported, we can load the graphs.\n",
    "\n",
    "## Load graph archive from Dataset\n",
    "\n",
    "We can load the archive with the graph using function `download`."
   ]
  },
  {
   "cell_type": "code",
   "execution_count": 2,
   "id": "6e18b1d6",
   "metadata": {
    "execution": {
     "iopub.execute_input": "2021-11-09T13:02:48.293784Z",
     "iopub.status.busy": "2021-11-09T13:02:48.293222Z",
     "iopub.status.idle": "2021-11-09T13:02:48.582608Z",
     "shell.execute_reply": "2021-11-09T13:02:48.582028Z"
    }
   },
   "outputs": [
    {
     "name": "stderr",
     "output_type": "stream",
     "text": [
      "[2021-11-09 13:02:48]>INFO>Found graph with name='bzip'\n"
     ]
    },
    {
     "name": "stderr",
     "output_type": "stream",
     "text": [
      "[2021-11-09 13:02:48]>INFO>Load archive graph_archive=PosixPath('/opt/hostedtoolcache/Python/3.8.12/x64/lib/python3.8/site-packages/cfpq_data/data/bzip.tar.gz')\n"
     ]
    },
    {
     "name": "stderr",
     "output_type": "stream",
     "text": [
      "[2021-11-09 13:02:48]>INFO>Unzip graph name='bzip' to file graph=PosixPath('/opt/hostedtoolcache/Python/3.8.12/x64/lib/python3.8/site-packages/cfpq_data/data/bzip/bzip.csv')\n"
     ]
    },
    {
     "name": "stderr",
     "output_type": "stream",
     "text": [
      "[2021-11-09 13:02:48]>INFO>Remove archive graph_archive=PosixPath('/opt/hostedtoolcache/Python/3.8.12/x64/lib/python3.8/site-packages/cfpq_data/data/bzip.tar.gz')\n"
     ]
    }
   ],
   "source": [
    "bzip_path = cfpq_data.download(\"bzip\")"
   ]
  },
  {
   "cell_type": "markdown",
   "id": "81383958",
   "metadata": {},
   "source": [
    "# Load graph by path\n",
    "\n",
    "We can load the graph along the specified path using function `graph_from_csv`."
   ]
  },
  {
   "cell_type": "code",
   "execution_count": 3,
   "id": "7d629414",
   "metadata": {
    "execution": {
     "iopub.execute_input": "2021-11-09T13:02:48.593957Z",
     "iopub.status.busy": "2021-11-09T13:02:48.587219Z",
     "iopub.status.idle": "2021-11-09T13:02:48.597048Z",
     "shell.execute_reply": "2021-11-09T13:02:48.597494Z"
    }
   },
   "outputs": [
    {
     "name": "stderr",
     "output_type": "stream",
     "text": [
      "[2021-11-09 13:02:48]>INFO>Load graph=<networkx.classes.multidigraph.MultiDiGraph object at 0x7f258c59de80> from path=PosixPath('/opt/hostedtoolcache/Python/3.8.12/x64/lib/python3.8/site-packages/cfpq_data/data/bzip/bzip.csv')\n"
     ]
    }
   ],
   "source": [
    "bzip = cfpq_data.graph_from_csv(bzip_path)"
   ]
  },
  {
   "cell_type": "markdown",
   "id": "5bb89e4d",
   "metadata": {},
   "source": [
    "Create graph\n",
    "\n",
    "We can also create a synthetic graph using one of the generators in module Graph generators.\n",
    "\n",
    "# Create a one cycle graph\n",
    "\n",
    "For example, let's create a one cycle graph, with 5 nodes, the edges of which are marked with the letter `a`."
   ]
  },
  {
   "cell_type": "code",
   "execution_count": 4,
   "id": "b01828d5",
   "metadata": {
    "execution": {
     "iopub.execute_input": "2021-11-09T13:02:48.602350Z",
     "iopub.status.busy": "2021-11-09T13:02:48.601708Z",
     "iopub.status.idle": "2021-11-09T13:02:48.604147Z",
     "shell.execute_reply": "2021-11-09T13:02:48.604672Z"
    }
   },
   "outputs": [
    {
     "name": "stderr",
     "output_type": "stream",
     "text": [
      "[2021-11-09 13:02:48]>INFO>Create a cycle graph=<networkx.classes.multidigraph.MultiDiGraph object at 0x7f258c59d880> with n=5, label='a'\n"
     ]
    }
   ],
   "source": [
    "cycle = cfpq_data.labeled_cycle_graph(5, label=\"a\")"
   ]
  },
  {
   "cell_type": "markdown",
   "id": "33bc94a5",
   "metadata": {},
   "source": [
    "Change edges\n",
    "\n",
    "We can change the specified graph labels by using function `change_edges`\n",
    "from Graph utilities."
   ]
  },
  {
   "cell_type": "code",
   "execution_count": 5,
   "id": "5151fb9a",
   "metadata": {
    "execution": {
     "iopub.execute_input": "2021-11-09T13:02:48.608884Z",
     "iopub.status.busy": "2021-11-09T13:02:48.608312Z",
     "iopub.status.idle": "2021-11-09T13:02:48.613077Z",
     "shell.execute_reply": "2021-11-09T13:02:48.613811Z"
    }
   },
   "outputs": [
    {
     "name": "stderr",
     "output_type": "stream",
     "text": [
      "[2021-11-09 13:02:48]>INFO>Change labels in graph=<networkx.classes.multidigraph.MultiDiGraph object at 0x7f258c59d880> with mapping={'a': 'b'} to new_graph=<networkx.classes.multidigraph.MultiDiGraph object at 0x7f25bc8106d0>\n"
     ]
    }
   ],
   "source": [
    "new_cycle = cfpq_data.change_edges(cycle, {\"a\": \"b\"})"
   ]
  },
  {
   "cell_type": "markdown",
   "id": "5e0ea764",
   "metadata": {},
   "source": [
    "Now the labels `a` have changed to `b`.\n",
    "\n",
    "# Grammars\n",
    "\n",
    "You can create your own context-free grammar (CFG) or use a predefined one.\n",
    "Now we have three representations of CFG documented on the Grammars page:\n",
    "\n",
    "1. [Classic](https://en.wikipedia.org/wiki/Context-free_grammar#Formal_definitions)\n",
    "\n",
    "1. [Chomsky Normal Form](https://en.wikipedia.org/wiki/Chomsky_normal_form)\n",
    "\n",
    "1. [Recursive State Machine](https://link.springer.com/chapter/10.1007/978-3-030-54832-2_6#Sec2)\n",
    "\n",
    "## Create a context-free grammar\n",
    "\n",
    "You can create context-free grammar by using function `cfg_from_text`\n",
    "from Reading and writing grammars."
   ]
  },
  {
   "cell_type": "code",
   "execution_count": 6,
   "id": "ead63603",
   "metadata": {
    "execution": {
     "iopub.execute_input": "2021-11-09T13:02:48.619703Z",
     "iopub.status.busy": "2021-11-09T13:02:48.618989Z",
     "iopub.status.idle": "2021-11-09T13:02:48.624760Z",
     "shell.execute_reply": "2021-11-09T13:02:48.625226Z"
    }
   },
   "outputs": [
    {
     "name": "stderr",
     "output_type": "stream",
     "text": [
      "[2021-11-09 13:02:48]>INFO>Create cfg=<pyformlang.cfg.cfg.CFG object at 0x7f258c59d9d0> from text='S -> a S b S | a b', start_symbol=Variable(S)\n"
     ]
    }
   ],
   "source": [
    "cfg = cfpq_data.cfg_from_text(\"S -> a S b S | a b\")"
   ]
  }
 ],
 "metadata": {
  "language_info": {
   "codemirror_mode": {
    "name": "ipython",
    "version": 3
   },
   "file_extension": ".py",
   "mimetype": "text/x-python",
   "name": "python",
   "nbconvert_exporter": "python",
   "pygments_lexer": "ipython3",
   "version": "3.8.12"
  }
 },
 "nbformat": 4,
 "nbformat_minor": 5
}
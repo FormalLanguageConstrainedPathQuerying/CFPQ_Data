{
 "cells": [
  {
   "cell_type": "markdown",
   "id": "91f8fff7",
   "metadata": {},
   "source": [
    "## Tutorial\n",
    "\n",
    "Release\n",
    "\n",
    ":   1.0.2\n",
    "\n",
    "Date\n",
    "\n",
    ":   Aug 30, 2021\n",
    "\n",
    "This guide can help you start working with CFPQ_Data.\n",
    "You can download this tutorial as a Jupyter Notebook from the link at the end of the page.\n",
    "\n",
    "All functions are documented on the Reference page.\n",
    "\n",
    "### Graphs\n",
    "\n",
    "You are able to get a synthetic or real-world graph with CFPQ_Data.\n",
    "\n",
    "#### Create a synthetic graph\n",
    "\n",
    "You can create many different synthetic graphs by using functions from Graph generators.\n",
    "\n",
    "For example, let's create a one cycle graph, the edges of which are marked with the letter `a`."
   ]
  },
  {
   "cell_type": "code",
   "execution_count": 1,
   "id": "d8e8ccac",
   "metadata": {
    "execution": {
     "iopub.execute_input": "2021-08-30T13:57:18.638963Z",
     "iopub.status.busy": "2021-08-30T13:57:18.638318Z",
     "iopub.status.idle": "2021-08-30T13:57:18.926777Z",
     "shell.execute_reply": "2021-08-30T13:57:18.926285Z"
    }
   },
   "outputs": [
    {
     "name": "stderr",
     "output_type": "stream",
     "text": [
      "\r",
      "Generation...:   0%|          | 0/5 [00:00<?, ?it/s]"
     ]
    },
    {
     "name": "stderr",
     "output_type": "stream",
     "text": [
      "\r",
      "Generation...: 100%|██████████| 5/5 [00:00<00:00, 51653.99it/s]"
     ]
    },
    {
     "name": "stderr",
     "output_type": "stream",
     "text": [
      "\n"
     ]
    }
   ],
   "source": [
    "import cfpq_data\n",
    "cycle = cfpq_data.labeled_cycle_graph(5, edge_label=\"a\")"
   ]
  },
  {
   "cell_type": "markdown",
   "id": "cbad5852",
   "metadata": {},
   "source": [
    "# Get a real graph\n",
    "\n",
    "You can get many different real-world graphs from CFPQ_Data Dataset.\n",
    "\n",
    "And present these graphs in convenient formats by using functions from Reading and writing graphs.\n",
    "\n",
    "For example, let's get a `generations` ontology graph."
   ]
  },
  {
   "cell_type": "code",
   "execution_count": 2,
   "id": "3b5d9579",
   "metadata": {
    "execution": {
     "iopub.execute_input": "2021-08-30T13:57:18.930075Z",
     "iopub.status.busy": "2021-08-30T13:57:18.928838Z",
     "iopub.status.idle": "2021-08-30T13:57:19.839961Z",
     "shell.execute_reply": "2021-08-30T13:57:19.839500Z"
    }
   },
   "outputs": [
    {
     "name": "stderr",
     "output_type": "stream",
     "text": [
      "\r",
      "Downloading 'generations'...:   0%|          | 0.00/1.29k [00:00<?, ?B/s]"
     ]
    },
    {
     "name": "stderr",
     "output_type": "stream",
     "text": [
      "\r",
      "Downloading 'generations'...: 100%|██████████| 1.29k/1.29k [00:00<00:00, 11.8kB/s]"
     ]
    },
    {
     "name": "stderr",
     "output_type": "stream",
     "text": [
      "\r",
      "Downloading 'generations'...: 100%|██████████| 1.29k/1.29k [00:00<00:00, 11.6kB/s]"
     ]
    },
    {
     "name": "stderr",
     "output_type": "stream",
     "text": [
      "\n"
     ]
    },
    {
     "name": "stderr",
     "output_type": "stream",
     "text": [
      "\r",
      "Loading...:   0%|          | 0/273 [00:00<?, ?it/s]"
     ]
    },
    {
     "name": "stderr",
     "output_type": "stream",
     "text": [
      "\r",
      "Loading...: 100%|██████████| 273/273 [00:00<00:00, 144832.40it/s]"
     ]
    },
    {
     "name": "stderr",
     "output_type": "stream",
     "text": [
      "\n"
     ]
    }
   ],
   "source": [
    "generations = cfpq_data.graph_from_dataset(\"generations\")"
   ]
  },
  {
   "cell_type": "markdown",
   "id": "3f34b8d0",
   "metadata": {},
   "source": [
    "# Change labels\n",
    "\n",
    "You can change the specified graph labels by using function `cfpq_data.graphs.utils.change_edges()`\n",
    "from Graph utilities."
   ]
  },
  {
   "cell_type": "code",
   "execution_count": 3,
   "id": "0e13db69",
   "metadata": {
    "execution": {
     "iopub.execute_input": "2021-08-30T13:57:19.843777Z",
     "iopub.status.busy": "2021-08-30T13:57:19.843379Z",
     "iopub.status.idle": "2021-08-30T13:57:19.848768Z",
     "shell.execute_reply": "2021-08-30T13:57:19.849102Z"
    }
   },
   "outputs": [
    {
     "name": "stderr",
     "output_type": "stream",
     "text": [
      "\r",
      "Generation...:   0%|          | 0/5 [00:00<?, ?it/s]"
     ]
    },
    {
     "name": "stderr",
     "output_type": "stream",
     "text": [
      "\r",
      "Generation...: 100%|██████████| 5/5 [00:00<00:00, 31968.78it/s]"
     ]
    },
    {
     "name": "stderr",
     "output_type": "stream",
     "text": [
      "\n"
     ]
    }
   ],
   "source": [
    "new_cycle = cfpq_data.change_edges(cycle, {\"a\": \"b\"})"
   ]
  },
  {
   "cell_type": "markdown",
   "id": "de243ac4",
   "metadata": {},
   "source": [
    "Now the labels `a` have changed to `b`.\n",
    "\n",
    " Grammars\n",
    "\n",
    "You can create your own context-free grammar (CFG) or use a predefined one.\n",
    "Now we have three representations of CFG documented on the Grammars page:\n",
    "\n",
    "1. [Classic](https://en.wikipedia.org/wiki/Context-free_grammar#Formal_definitions)\n",
    "\n",
    "1. [Chomsky Normal Form](https://en.wikipedia.org/wiki/Chomsky_normal_form)\n",
    "\n",
    "1. [Recursive State Machine](https://link.springer.com/chapter/10.1007/978-3-030-54832-2_6#Sec2)\n",
    "\n",
    "# Create a context-free grammar\n",
    "\n",
    "You can create context-free grammar by using function `cfpq_data.grammars.readwrite.cfg.cfg_from_text()`\n",
    "from Reading and writing grammars."
   ]
  },
  {
   "cell_type": "code",
   "execution_count": 4,
   "id": "deba09a5",
   "metadata": {
    "execution": {
     "iopub.execute_input": "2021-08-30T13:57:19.852441Z",
     "iopub.status.busy": "2021-08-30T13:57:19.852046Z",
     "iopub.status.idle": "2021-08-30T13:57:19.854529Z",
     "shell.execute_reply": "2021-08-30T13:57:19.854862Z"
    }
   },
   "outputs": [],
   "source": [
    "cfg = cfpq_data.cfg_from_text(\"S -> a S b S | a b\")"
   ]
  },
  {
   "cell_type": "markdown",
   "id": "c3ca0075",
   "metadata": {},
   "source": [
    "# Use predefined context-free grammar\n",
    "\n",
    "CFPQ_Data has many predefined grammars documented on the Grammar samples page."
   ]
  },
  {
   "cell_type": "code",
   "execution_count": 5,
   "id": "8849b3b1",
   "metadata": {
    "execution": {
     "iopub.execute_input": "2021-08-30T13:57:19.863321Z",
     "iopub.status.busy": "2021-08-30T13:57:19.862916Z",
     "iopub.status.idle": "2021-08-30T13:57:19.866187Z",
     "shell.execute_reply": "2021-08-30T13:57:19.866519Z"
    }
   },
   "outputs": [
    {
     "data": {
      "text/plain": [
       "'S -> a S b\\nS -> a b\\n'"
      ]
     },
     "execution_count": 5,
     "metadata": {},
     "output_type": "execute_result"
    }
   ],
   "source": [
    "brackets = cfpq_data.brackets\n",
    "brackets.to_text()  # 'S -> a S b\\nS -> a b\\n'"
   ]
  },
  {
   "cell_type": "markdown",
   "id": "fa7d2235",
   "metadata": {},
   "source": [
    "# Change terminals\n",
    "\n",
    "You can change the specified grammar terminals by using\n",
    "function `cfpq_data.grammars.utils.change_terminals.change_terminals_in_cfg()`\n",
    "from Grammar utilities."
   ]
  },
  {
   "cell_type": "code",
   "execution_count": 6,
   "id": "2d589dbf",
   "metadata": {
    "execution": {
     "iopub.execute_input": "2021-08-30T13:57:19.871122Z",
     "iopub.status.busy": "2021-08-30T13:57:19.870704Z",
     "iopub.status.idle": "2021-08-30T13:57:19.872680Z",
     "shell.execute_reply": "2021-08-30T13:57:19.873008Z"
    }
   },
   "outputs": [
    {
     "data": {
      "text/plain": [
       "'S -> b S c\\nS -> b c\\n'"
      ]
     },
     "execution_count": 6,
     "metadata": {},
     "output_type": "execute_result"
    }
   ],
   "source": [
    "brackets1 = cfpq_data.change_terminals_in_cfg(brackets, {\"a\": \"b\", \"b\": \"c\"})\n",
    "brackets1.to_text()  # 'S -> b S c\\nS -> b c\\n'"
   ]
  }
 ],
 "metadata": {
  "language_info": {
   "codemirror_mode": {
    "name": "ipython",
    "version": 3
   },
   "file_extension": ".py",
   "mimetype": "text/x-python",
   "name": "python",
   "nbconvert_exporter": "python",
   "pygments_lexer": "ipython3",
   "version": "3.8.11"
  }
 },
 "nbformat": 4,
 "nbformat_minor": 5
}
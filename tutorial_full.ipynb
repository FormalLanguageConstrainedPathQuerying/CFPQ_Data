{
 "cells": [
  {
   "cell_type": "markdown",
   "id": "db04a543",
   "metadata": {},
   "source": [
    "## Tutorial\n",
    "\n",
    "Release\n",
    "\n",
    ":   4.0.2\n",
    "\n",
    "Date\n",
    "\n",
    ":   Feb 24, 2024\n",
    "\n",
    "This guide can help you start working with CFPQ_Data.\n",
    "\n",
    "**You can download this tutorial as a Jupyter Notebook from the link at the end of the page.**\n",
    "\n",
    "### Import\n",
    "\n",
    "First you need to import the package."
   ]
  },
  {
   "cell_type": "code",
   "execution_count": 1,
   "id": "f237b1f7",
   "metadata": {
    "execution": {
     "iopub.execute_input": "2024-02-24T15:06:10.475196Z",
     "iopub.status.busy": "2024-02-24T15:06:10.475003Z",
     "iopub.status.idle": "2024-02-24T15:06:10.900546Z",
     "shell.execute_reply": "2024-02-24T15:06:10.899872Z"
    }
   },
   "outputs": [],
   "source": [
    "import cfpq_data"
   ]
  },
  {
   "cell_type": "markdown",
   "id": "99ebda46",
   "metadata": {},
   "source": [
    "# Load graph\n",
    "\n",
    "After the package is imported, we can load the graphs.\n",
    "\n",
    "## Load graph archive from Dataset\n",
    "\n",
    "We can load the archive with the graph using function `download`."
   ]
  },
  {
   "cell_type": "code",
   "execution_count": 2,
   "id": "54ad44e3",
   "metadata": {
    "execution": {
     "iopub.execute_input": "2024-02-24T15:06:10.903683Z",
     "iopub.status.busy": "2024-02-24T15:06:10.903162Z",
     "iopub.status.idle": "2024-02-24T15:06:11.351176Z",
     "shell.execute_reply": "2024-02-24T15:06:11.350673Z"
    }
   },
   "outputs": [
    {
     "name": "stderr",
     "output_type": "stream",
     "text": [
      "[2024-02-24 15:06:10]>INFO>Found graph with name='bzip'\n"
     ]
    },
    {
     "name": "stderr",
     "output_type": "stream",
     "text": [
      "[2024-02-24 15:06:11]>INFO>Load archive graph_archive=PosixPath('/opt/hostedtoolcache/Python/3.9.18/x64/lib/python3.9/site-packages/cfpq_data/data/graphs/bzip.tar.gz')\n"
     ]
    },
    {
     "name": "stderr",
     "output_type": "stream",
     "text": [
      "[2024-02-24 15:06:11]>INFO>Unzip graph name='bzip' to file graph=PosixPath('/opt/hostedtoolcache/Python/3.9.18/x64/lib/python3.9/site-packages/cfpq_data/data/graphs/bzip/bzip.csv')\n"
     ]
    },
    {
     "name": "stderr",
     "output_type": "stream",
     "text": [
      "[2024-02-24 15:06:11]>INFO>Remove archive graph_archive=PosixPath('/opt/hostedtoolcache/Python/3.9.18/x64/lib/python3.9/site-packages/cfpq_data/data/graphs/bzip.tar.gz')\n"
     ]
    }
   ],
   "source": [
    "bzip_path = cfpq_data.download(\"bzip\")"
   ]
  },
  {
   "cell_type": "markdown",
   "id": "7bdb73ac",
   "metadata": {},
   "source": [
    "# Load graph by path\n",
    "\n",
    "We can load the graph along the specified path using function `graph_from_csv`."
   ]
  },
  {
   "cell_type": "code",
   "execution_count": 3,
   "id": "43086ee5",
   "metadata": {
    "execution": {
     "iopub.execute_input": "2024-02-24T15:06:11.353554Z",
     "iopub.status.busy": "2024-02-24T15:06:11.353356Z",
     "iopub.status.idle": "2024-02-24T15:06:11.361812Z",
     "shell.execute_reply": "2024-02-24T15:06:11.361277Z"
    }
   },
   "outputs": [
    {
     "name": "stderr",
     "output_type": "stream",
     "text": [
      "[2024-02-24 15:06:11]>INFO>Load graph=<networkx.classes.multidigraph.MultiDiGraph object at 0x7f590cf084f0> from path=PosixPath('/opt/hostedtoolcache/Python/3.9.18/x64/lib/python3.9/site-packages/cfpq_data/data/graphs/bzip/bzip.csv')\n"
     ]
    }
   ],
   "source": [
    "bzip = cfpq_data.graph_from_csv(bzip_path)"
   ]
  },
  {
   "cell_type": "markdown",
   "id": "a222ca17",
   "metadata": {},
   "source": [
    "Create graph\n",
    "\n",
    "We can also create a synthetic graph using one of the generators in module Graph generators.\n",
    "\n",
    "# Create a one cycle graph\n",
    "\n",
    "For example, let's create a one cycle graph, with 5 nodes, the edges of which are marked with the letter `a`."
   ]
  },
  {
   "cell_type": "code",
   "execution_count": 4,
   "id": "b94ce9a6",
   "metadata": {
    "execution": {
     "iopub.execute_input": "2024-02-24T15:06:11.364292Z",
     "iopub.status.busy": "2024-02-24T15:06:11.363921Z",
     "iopub.status.idle": "2024-02-24T15:06:11.367955Z",
     "shell.execute_reply": "2024-02-24T15:06:11.367426Z"
    }
   },
   "outputs": [
    {
     "name": "stderr",
     "output_type": "stream",
     "text": [
      "[2024-02-24 15:06:11]>INFO>Create a cycle graph=<networkx.classes.multidigraph.MultiDiGraph object at 0x7f594415ae80> with n=5, label='a'\n"
     ]
    }
   ],
   "source": [
    "cycle = cfpq_data.labeled_cycle_graph(5, label=\"a\")"
   ]
  },
  {
   "cell_type": "markdown",
   "id": "626da498",
   "metadata": {},
   "source": [
    "Change edges\n",
    "\n",
    "We can change the specified graph labels by using function `change_edges`\n",
    "from Graph utilities."
   ]
  },
  {
   "cell_type": "code",
   "execution_count": 5,
   "id": "c6598a0c",
   "metadata": {
    "execution": {
     "iopub.execute_input": "2024-02-24T15:06:11.370272Z",
     "iopub.status.busy": "2024-02-24T15:06:11.370083Z",
     "iopub.status.idle": "2024-02-24T15:06:11.374407Z",
     "shell.execute_reply": "2024-02-24T15:06:11.373789Z"
    }
   },
   "outputs": [
    {
     "name": "stderr",
     "output_type": "stream",
     "text": [
      "[2024-02-24 15:06:11]>INFO>Change labels in graph=<networkx.classes.multidigraph.MultiDiGraph object at 0x7f594415ae80> with mapping={'a': 'b'} to new_graph=<networkx.classes.multidigraph.MultiDiGraph object at 0x7f590cf19250>\n"
     ]
    }
   ],
   "source": [
    "new_cycle = cfpq_data.change_edges(cycle, {\"a\": \"b\"})"
   ]
  },
  {
   "cell_type": "markdown",
   "id": "6875af29",
   "metadata": {},
   "source": [
    "Now the labels `a` have changed to `b`.\n",
    "\n",
    "# Add reverse edges\n",
    "\n",
    "In addition, we can add reverse edges to the graph by using function `add_reverse_edges`\n",
    "from Graph utilities. This is extremely useful if graph analysis is formulated using such reverse edges."
   ]
  },
  {
   "cell_type": "code",
   "execution_count": 6,
   "id": "2cd00be6",
   "metadata": {
    "execution": {
     "iopub.execute_input": "2024-02-24T15:06:11.376684Z",
     "iopub.status.busy": "2024-02-24T15:06:11.376490Z",
     "iopub.status.idle": "2024-02-24T15:06:11.379964Z",
     "shell.execute_reply": "2024-02-24T15:06:11.379363Z"
    }
   },
   "outputs": [
    {
     "name": "stderr",
     "output_type": "stream",
     "text": [
      "[2024-02-24 15:06:11]>INFO>Add reverse edges in graph=<networkx.classes.multidigraph.MultiDiGraph object at 0x7f590cf19250> with mapping=None to new_graph=<networkx.classes.multidigraph.MultiDiGraph object at 0x7f5944155640>\n"
     ]
    }
   ],
   "source": [
    "new_cycle_with_reversed = cfpq_data.add_reverse_edges(new_cycle)"
   ]
  },
  {
   "cell_type": "markdown",
   "id": "1032d658",
   "metadata": {},
   "source": [
    "Now, for each edge with label `a` this graph contains the reversed edge with label `a_r`.\n",
    "\n",
    "# Load grammar\n",
    "\n",
    "Also, we can load the grammars generated from grammar templates that are described on the Grammars page.\n",
    "\n",
    "## Load grammars archive from Dataset\n",
    "\n",
    "We can load the archive with the grammars for the specified template using function `download_grammars`."
   ]
  },
  {
   "cell_type": "code",
   "execution_count": 7,
   "id": "8a473f23",
   "metadata": {
    "execution": {
     "iopub.execute_input": "2024-02-24T15:06:11.382406Z",
     "iopub.status.busy": "2024-02-24T15:06:11.382052Z",
     "iopub.status.idle": "2024-02-24T15:06:11.799860Z",
     "shell.execute_reply": "2024-02-24T15:06:11.799233Z"
    }
   },
   "outputs": [
    {
     "name": "stderr",
     "output_type": "stream",
     "text": [
      "[2024-02-24 15:06:11]>INFO>Found grammar template='c_alias'\n"
     ]
    },
    {
     "name": "stderr",
     "output_type": "stream",
     "text": [
      "[2024-02-24 15:06:11]>INFO>Load archive grammar_archive=PosixPath('/opt/hostedtoolcache/Python/3.9.18/x64/lib/python3.9/site-packages/cfpq_data/data/grammars/c_alias.tar.gz')\n"
     ]
    },
    {
     "name": "stderr",
     "output_type": "stream",
     "text": [
      "[2024-02-24 15:06:11]>INFO>Unzip grammars with template='c_alias' for graph with graph_name=None to directory grammars=PosixPath('/opt/hostedtoolcache/Python/3.9.18/x64/lib/python3.9/site-packages/cfpq_data/data/grammars/c_alias')\n"
     ]
    },
    {
     "name": "stderr",
     "output_type": "stream",
     "text": [
      "[2024-02-24 15:06:11]>INFO>Remove archive grammar_archive=PosixPath('/opt/hostedtoolcache/Python/3.9.18/x64/lib/python3.9/site-packages/cfpq_data/data/grammars/c_alias.tar.gz')\n"
     ]
    }
   ],
   "source": [
    "c_alias_path = cfpq_data.download_grammars(\"c_alias\")"
   ]
  },
  {
   "cell_type": "markdown",
   "id": "f153a9af",
   "metadata": {},
   "source": [
    "# Load grammars archive for specified graph\n",
    "\n",
    "For some grammar templates we also can load the archive with the grammars for specific graphs."
   ]
  },
  {
   "cell_type": "code",
   "execution_count": 8,
   "id": "032d5dc4",
   "metadata": {
    "execution": {
     "iopub.execute_input": "2024-02-24T15:06:11.802528Z",
     "iopub.status.busy": "2024-02-24T15:06:11.802166Z",
     "iopub.status.idle": "2024-02-24T15:06:12.258206Z",
     "shell.execute_reply": "2024-02-24T15:06:12.257593Z"
    }
   },
   "outputs": [
    {
     "name": "stderr",
     "output_type": "stream",
     "text": [
      "[2024-02-24 15:06:11]>INFO>Found graph with graph_name='avrora' and grammar template='java_points_to'\n"
     ]
    },
    {
     "name": "stderr",
     "output_type": "stream",
     "text": [
      "[2024-02-24 15:06:12]>INFO>Load archive grammar_archive=PosixPath('/opt/hostedtoolcache/Python/3.9.18/x64/lib/python3.9/site-packages/cfpq_data/data/grammars/java_points_to_avrora.tar.gz')\n"
     ]
    },
    {
     "name": "stderr",
     "output_type": "stream",
     "text": [
      "[2024-02-24 15:06:12]>INFO>Unzip grammars with template='java_points_to' for graph with graph_name='avrora' to directory grammars=PosixPath('/opt/hostedtoolcache/Python/3.9.18/x64/lib/python3.9/site-packages/cfpq_data/data/grammars/java_points_to_avrora')\n"
     ]
    },
    {
     "name": "stderr",
     "output_type": "stream",
     "text": [
      "[2024-02-24 15:06:12]>INFO>Remove archive grammar_archive=PosixPath('/opt/hostedtoolcache/Python/3.9.18/x64/lib/python3.9/site-packages/cfpq_data/data/grammars/java_points_to_avrora.tar.gz')\n"
     ]
    }
   ],
   "source": [
    "java_pt_avrora_path = cfpq_data.download_grammars(\"java_points_to\", graph_name=\"avrora\")"
   ]
  },
  {
   "cell_type": "markdown",
   "id": "2b86927f",
   "metadata": {},
   "source": [
    "Regular grammars\n",
    "\n",
    "Currently, we have one representation of regular grammars:\n",
    "\n",
    "1. [Regular expression](https://en.wikipedia.org/wiki/Regular_expression#Formal_definition)\n",
    "\n",
    "# Create a regular expression\n",
    "\n",
    "For example, a regular expression can be created by using function `regex_from_text`\n",
    "from Reading and writing grammars."
   ]
  },
  {
   "cell_type": "code",
   "execution_count": 9,
   "id": "c2f3d992",
   "metadata": {
    "execution": {
     "iopub.execute_input": "2024-02-24T15:06:12.261054Z",
     "iopub.status.busy": "2024-02-24T15:06:12.260686Z",
     "iopub.status.idle": "2024-02-24T15:06:12.264913Z",
     "shell.execute_reply": "2024-02-24T15:06:12.264344Z"
    }
   },
   "outputs": [
    {
     "name": "stderr",
     "output_type": "stream",
     "text": [
      "[2024-02-24 15:06:12]>INFO>Create regex=(a.(bc|(d)*)) from text='a (bc|d*)'\n"
     ]
    }
   ],
   "source": [
    "regex = cfpq_data.regex_from_text(\"a (bc|d*)\")"
   ]
  },
  {
   "cell_type": "markdown",
   "id": "f3fb5a76",
   "metadata": {},
   "source": [
    "# Load regular expression by path\n",
    "\n",
    "We can load the regular expression along the specified path using function `regex_from_txt`."
   ]
  },
  {
   "cell_type": "code",
   "execution_count": 10,
   "id": "cb5f1df0",
   "metadata": {
    "execution": {
     "iopub.execute_input": "2024-02-24T15:06:12.267206Z",
     "iopub.status.busy": "2024-02-24T15:06:12.266866Z",
     "iopub.status.idle": "2024-02-24T15:06:12.273023Z",
     "shell.execute_reply": "2024-02-24T15:06:12.272374Z"
    }
   },
   "outputs": [
    {
     "name": "stderr",
     "output_type": "stream",
     "text": [
      "[2024-02-24 15:06:12]>INFO>Turn regex=(a.(bc|(d)*)) into text='(a (bc|(d)*))'\n"
     ]
    },
    {
     "name": "stderr",
     "output_type": "stream",
     "text": [
      "[2024-02-24 15:06:12]>INFO>Save regex=(a.(bc|(d)*)) to dest=PosixPath('/home/runner/work/CFPQ_Data/CFPQ_Data/docs/test.txt')\n"
     ]
    },
    {
     "name": "stderr",
     "output_type": "stream",
     "text": [
      "[2024-02-24 15:06:12]>INFO>Create regex=(a.(bc|(d)*)) from text='(a (bc|(d)*))'\n"
     ]
    },
    {
     "name": "stderr",
     "output_type": "stream",
     "text": [
      "[2024-02-24 15:06:12]>INFO>Create regex=(a.(bc|(d)*)) from path=PosixPath('/home/runner/work/CFPQ_Data/CFPQ_Data/docs/test.txt')\n"
     ]
    }
   ],
   "source": [
    "path = cfpq_data.regex_to_txt(regex, \"test.txt\")\n",
    "regex_by_path = cfpq_data.regex_from_txt(path)"
   ]
  },
  {
   "cell_type": "markdown",
   "id": "daa3632c",
   "metadata": {},
   "source": [
    "Сontext-free grammars\n",
    "\n",
    "Currently, we have three representations of context-free grammars (CFGs):\n",
    "\n",
    "1. [Classic](https://en.wikipedia.org/wiki/Context-free_grammar#Formal_definitions)\n",
    "\n",
    "1. [Chomsky Normal Form](https://en.wikipedia.org/wiki/Chomsky_normal_form)\n",
    "\n",
    "1. [Recursive State Machine](https://link.springer.com/chapter/10.1007/978-3-030-54832-2_6#Sec2)\n",
    "\n",
    "# Create a classic context-free grammar\n",
    "\n",
    "A classic context-free grammar can be created by using function `cfg_from_text`\n",
    "from Reading and writing grammars."
   ]
  },
  {
   "cell_type": "code",
   "execution_count": 11,
   "id": "7fb31319",
   "metadata": {
    "execution": {
     "iopub.execute_input": "2024-02-24T15:06:12.275413Z",
     "iopub.status.busy": "2024-02-24T15:06:12.275065Z",
     "iopub.status.idle": "2024-02-24T15:06:12.278879Z",
     "shell.execute_reply": "2024-02-24T15:06:12.278353Z"
    }
   },
   "outputs": [
    {
     "name": "stderr",
     "output_type": "stream",
     "text": [
      "[2024-02-24 15:06:12]>INFO>Create cfg=<pyformlang.cfg.cfg.CFG object at 0x7f590cf197c0> from text='S -> a S b S | a b', start_symbol=Variable(S)\n"
     ]
    }
   ],
   "source": [
    "cfg = cfpq_data.cfg_from_text(\"S -> a S b S | a b\")"
   ]
  },
  {
   "cell_type": "markdown",
   "id": "24870419",
   "metadata": {},
   "source": [
    "# Load context-free grammar by path\n",
    "\n",
    "We can load the classic context-free grammar along the specified path using function `cfg_from_txt`."
   ]
  },
  {
   "cell_type": "code",
   "execution_count": 12,
   "id": "52d0db35",
   "metadata": {
    "execution": {
     "iopub.execute_input": "2024-02-24T15:06:12.281160Z",
     "iopub.status.busy": "2024-02-24T15:06:12.280970Z",
     "iopub.status.idle": "2024-02-24T15:06:12.286848Z",
     "shell.execute_reply": "2024-02-24T15:06:12.286252Z"
    }
   },
   "outputs": [
    {
     "name": "stderr",
     "output_type": "stream",
     "text": [
      "[2024-02-24 15:06:12]>INFO>Turn cfg=<pyformlang.cfg.cfg.CFG object at 0x7f590cf197c0> into text='S -> a S b S\\nS -> a b'\n"
     ]
    },
    {
     "name": "stderr",
     "output_type": "stream",
     "text": [
      "[2024-02-24 15:06:12]>INFO>Save cfg=<pyformlang.cfg.cfg.CFG object at 0x7f590cf197c0> to dest=PosixPath('/home/runner/work/CFPQ_Data/CFPQ_Data/docs/test.txt')\n"
     ]
    },
    {
     "name": "stderr",
     "output_type": "stream",
     "text": [
      "[2024-02-24 15:06:12]>INFO>Create cfg=<pyformlang.cfg.cfg.CFG object at 0x7f59441512e0> from text='S -> a S b S\\nS -> a b', start_symbol=Variable(S)\n"
     ]
    },
    {
     "name": "stderr",
     "output_type": "stream",
     "text": [
      "[2024-02-24 15:06:12]>INFO>Create cfg=<pyformlang.cfg.cfg.CFG object at 0x7f59441512e0> from path=PosixPath('/home/runner/work/CFPQ_Data/CFPQ_Data/docs/test.txt'), start_symbol=Variable(S)\n"
     ]
    }
   ],
   "source": [
    "path = cfpq_data.cfg_to_txt(cfg, \"test.txt\")\n",
    "cfg_by_path = cfpq_data.cfg_from_txt(path)"
   ]
  },
  {
   "cell_type": "markdown",
   "id": "58609d4a",
   "metadata": {},
   "source": [
    "Generate grammar\n",
    "\n",
    "We can also generate a grammar for specified template using one of the generators in module Grammar generators.\n",
    "\n",
    "# Generate a Dyck grammar\n",
    "\n",
    "For example, let's generate a Dyck grammar of the balanced strings with `a` as an opening parenthesis, `b` as a closing parenthesis, and without the empty string."
   ]
  },
  {
   "cell_type": "code",
   "execution_count": 13,
   "id": "e61b4575",
   "metadata": {
    "execution": {
     "iopub.execute_input": "2024-02-24T15:06:12.289066Z",
     "iopub.status.busy": "2024-02-24T15:06:12.288872Z",
     "iopub.status.idle": "2024-02-24T15:06:12.292522Z",
     "shell.execute_reply": "2024-02-24T15:06:12.291892Z"
    }
   },
   "outputs": [
    {
     "name": "stderr",
     "output_type": "stream",
     "text": [
      "[2024-02-24 15:06:12]>INFO>Create a Dyck cfg=<pyformlang.cfg.cfg.CFG object at 0x7f590ce35790> with types=[('a', 'b')], eps=False\n"
     ]
    }
   ],
   "source": [
    "dyck_cfg = cfpq_data.dyck_grammar([(\"a\", \"b\")], eps=False)"
   ]
  },
  {
   "cell_type": "markdown",
   "id": "324b2aec",
   "metadata": {},
   "source": [
    "# Generate a Java Points-to grammar\n",
    "\n",
    "Also, let's generate a Java Points-to grammar for the field-sensitive analysis of Java programs with field names `f0` and `f1`."
   ]
  },
  {
   "cell_type": "code",
   "execution_count": 14,
   "id": "93d5e72c",
   "metadata": {
    "execution": {
     "iopub.execute_input": "2024-02-24T15:06:12.294837Z",
     "iopub.status.busy": "2024-02-24T15:06:12.294646Z",
     "iopub.status.idle": "2024-02-24T15:06:12.298182Z",
     "shell.execute_reply": "2024-02-24T15:06:12.297577Z"
    }
   },
   "outputs": [
    {
     "name": "stderr",
     "output_type": "stream",
     "text": [
      "[2024-02-24 15:06:12]>INFO>Create a Java Points-to cfg=<pyformlang.cfg.cfg.CFG object at 0x7f590ce35d30> with fields=['f0', 'f1']\n"
     ]
    }
   ],
   "source": [
    "java_pt_cfg = cfpq_data.java_points_to_grammar([\"f0\", \"f1\"])"
   ]
  },
  {
   "cell_type": "markdown",
   "id": "5898cf6e",
   "metadata": {},
   "source": [
    "Benchmarks\n",
    "\n",
    "In addition, one of the prepared benchmarks that contains graphs, queries, other input data, and results for\n",
    "a particular formal-language-constrained path querying problem can be downloaded.\n",
    "\n",
    "Currently, we provide the following benchmarks documented on the Benchmarks page:\n",
    "\n",
    "1. MS_Reachability\n",
    "\n",
    "# Load benchmark archive\n",
    "\n",
    "You can load the archive with the benchmark using function `download_benchmark`."
   ]
  },
  {
   "cell_type": "code",
   "execution_count": 15,
   "id": "02def2ef",
   "metadata": {
    "execution": {
     "iopub.execute_input": "2024-02-24T15:06:12.300312Z",
     "iopub.status.busy": "2024-02-24T15:06:12.300122Z",
     "iopub.status.idle": "2024-02-24T15:06:14.579956Z",
     "shell.execute_reply": "2024-02-24T15:06:14.579442Z"
    }
   },
   "outputs": [
    {
     "name": "stderr",
     "output_type": "stream",
     "text": [
      "[2024-02-24 15:06:12]>INFO>Found benchmark with name='MS_Reachability'\n"
     ]
    },
    {
     "name": "stderr",
     "output_type": "stream",
     "text": [
      "[2024-02-24 15:06:14]>INFO>Load archive benchmark_archive=PosixPath('/opt/hostedtoolcache/Python/3.9.18/x64/lib/python3.9/site-packages/cfpq_data/data/benchmarks/MS_Reachability.tar.gz')\n"
     ]
    },
    {
     "name": "stderr",
     "output_type": "stream",
     "text": [
      "[2024-02-24 15:06:14]>INFO>Unzip benchmark name='MS_Reachability' to directory benchmark=PosixPath('/opt/hostedtoolcache/Python/3.9.18/x64/lib/python3.9/site-packages/cfpq_data/data/benchmarks/MS_Reachability')\n"
     ]
    },
    {
     "name": "stderr",
     "output_type": "stream",
     "text": [
      "[2024-02-24 15:06:14]>INFO>Remove archive benchmark_archive=PosixPath('/opt/hostedtoolcache/Python/3.9.18/x64/lib/python3.9/site-packages/cfpq_data/data/benchmarks/MS_Reachability.tar.gz')\n"
     ]
    }
   ],
   "source": [
    "ms_reachability_path = cfpq_data.download_benchmark(\"MS_Reachability\")"
   ]
  },
  {
   "cell_type": "markdown",
   "id": "20afed58",
   "metadata": {},
   "source": [
    "# MS_Reachability benchmark\n",
    "\n",
    "MS_Reachability benchmark can be used for the experimental study of the algorithms that solve the multiple-source\n",
    "formal-language-constrained reachability problem. This benchmark is described on the MS_Reachability page.\n",
    "\n",
    "For this benchmark we provide some useful functions from\n",
    "Graph utilities.\n",
    "For example, the set of source vertices can be saved to the TXT file or it can be loaded from benchmark by using\n",
    "functions `multiple_source_from_txt` and\n",
    "`multiple_source_to_txt`."
   ]
  },
  {
   "cell_type": "code",
   "execution_count": 16,
   "id": "6ef41c2e",
   "metadata": {
    "execution": {
     "iopub.execute_input": "2024-02-24T15:06:14.582359Z",
     "iopub.status.busy": "2024-02-24T15:06:14.582163Z",
     "iopub.status.idle": "2024-02-24T15:06:14.587761Z",
     "shell.execute_reply": "2024-02-24T15:06:14.587175Z"
    }
   },
   "outputs": [
    {
     "name": "stderr",
     "output_type": "stream",
     "text": [
      "[2024-02-24 15:06:14]>INFO>Save source_vertices={1, 2, 10, 5} to dest=PosixPath('/home/runner/work/CFPQ_Data/CFPQ_Data/docs/test.txt')\n"
     ]
    },
    {
     "name": "stderr",
     "output_type": "stream",
     "text": [
      "[2024-02-24 15:06:14]>INFO>Load source_vertices={1, 2, 10, 5} from path=PosixPath('/home/runner/work/CFPQ_Data/CFPQ_Data/docs/test.txt')\n"
     ]
    }
   ],
   "source": [
    "s = {1, 2, 5, 10}\n",
    "path = cfpq_data.multiple_source_to_txt(s, \"test.txt\")\n",
    "source_vertices = cfpq_data.multiple_source_from_txt(path)"
   ]
  }
 ],
 "metadata": {
  "language_info": {
   "codemirror_mode": {
    "name": "ipython",
    "version": 3
   },
   "file_extension": ".py",
   "mimetype": "text/x-python",
   "name": "python",
   "nbconvert_exporter": "python",
   "pygments_lexer": "ipython3",
   "version": "3.9.18"
  }
 },
 "nbformat": 4,
 "nbformat_minor": 5
}
{
 "cells": [
  {
   "cell_type": "markdown",
   "id": "13150343",
   "metadata": {},
   "source": [
    "## Tutorial\n",
    "\n",
    "Release\n",
    "\n",
    ":   4.0.1\n",
    "\n",
    "Date\n",
    "\n",
    ":   Nov 29, 2022\n",
    "\n",
    "This guide can help you start working with CFPQ_Data.\n",
    "\n",
    "**You can download this tutorial as a Jupyter Notebook from the link at the end of the page.**\n",
    "\n",
    "### Import\n",
    "\n",
    "First you need to import the package."
   ]
  },
  {
   "cell_type": "code",
   "execution_count": 1,
   "id": "be84e583",
   "metadata": {
    "execution": {
     "iopub.execute_input": "2022-11-29T09:31:22.661488Z",
     "iopub.status.busy": "2022-11-29T09:31:22.660062Z",
     "iopub.status.idle": "2022-11-29T09:31:23.023314Z",
     "shell.execute_reply": "2022-11-29T09:31:23.022589Z"
    }
   },
   "outputs": [],
   "source": [
    "import cfpq_data"
   ]
  },
  {
   "cell_type": "markdown",
   "id": "d6f260b8",
   "metadata": {},
   "source": [
    "# Load graph\n",
    "\n",
    "After the package is imported, we can load the graphs.\n",
    "\n",
    "## Load graph archive from Dataset\n",
    "\n",
    "We can load the archive with the graph using function `download`."
   ]
  },
  {
   "cell_type": "code",
   "execution_count": 2,
   "id": "c14591a2",
   "metadata": {
    "execution": {
     "iopub.execute_input": "2022-11-29T09:31:23.027852Z",
     "iopub.status.busy": "2022-11-29T09:31:23.027317Z",
     "iopub.status.idle": "2022-11-29T09:31:23.479334Z",
     "shell.execute_reply": "2022-11-29T09:31:23.478699Z"
    }
   },
   "outputs": [
    {
     "name": "stderr",
     "output_type": "stream",
     "text": [
      "[2022-11-29 09:31:23]>INFO>Found graph with name='bzip'\n"
     ]
    },
    {
     "name": "stderr",
     "output_type": "stream",
     "text": [
      "[2022-11-29 09:31:23]>INFO>Load archive graph_archive=PosixPath('/opt/hostedtoolcache/Python/3.8.14/x64/lib/python3.8/site-packages/cfpq_data/data/graphs/bzip.tar.gz')\n"
     ]
    },
    {
     "name": "stderr",
     "output_type": "stream",
     "text": [
      "[2022-11-29 09:31:23]>INFO>Unzip graph name='bzip' to file graph=PosixPath('/opt/hostedtoolcache/Python/3.8.14/x64/lib/python3.8/site-packages/cfpq_data/data/graphs/bzip/bzip.csv')\n"
     ]
    },
    {
     "name": "stderr",
     "output_type": "stream",
     "text": [
      "[2022-11-29 09:31:23]>INFO>Remove archive graph_archive=PosixPath('/opt/hostedtoolcache/Python/3.8.14/x64/lib/python3.8/site-packages/cfpq_data/data/graphs/bzip.tar.gz')\n"
     ]
    }
   ],
   "source": [
    "bzip_path = cfpq_data.download(\"bzip\")"
   ]
  },
  {
   "cell_type": "markdown",
   "id": "579d58fd",
   "metadata": {},
   "source": [
    "# Load graph by path\n",
    "\n",
    "We can load the graph along the specified path using function `graph_from_csv`."
   ]
  },
  {
   "cell_type": "code",
   "execution_count": 3,
   "id": "4c4eb7fa",
   "metadata": {
    "execution": {
     "iopub.execute_input": "2022-11-29T09:31:23.483596Z",
     "iopub.status.busy": "2022-11-29T09:31:23.483208Z",
     "iopub.status.idle": "2022-11-29T09:31:23.496713Z",
     "shell.execute_reply": "2022-11-29T09:31:23.496089Z"
    }
   },
   "outputs": [
    {
     "name": "stderr",
     "output_type": "stream",
     "text": [
      "[2022-11-29 09:31:23]>INFO>Load graph=<networkx.classes.multidigraph.MultiDiGraph object at 0x7f9f9c5dd2e0> from path=PosixPath('/opt/hostedtoolcache/Python/3.8.14/x64/lib/python3.8/site-packages/cfpq_data/data/graphs/bzip/bzip.csv')\n"
     ]
    }
   ],
   "source": [
    "bzip = cfpq_data.graph_from_csv(bzip_path)"
   ]
  },
  {
   "cell_type": "markdown",
   "id": "4db30a46",
   "metadata": {},
   "source": [
    "Create graph\n",
    "\n",
    "We can also create a synthetic graph using one of the generators in module Graph generators.\n",
    "\n",
    "# Create a one cycle graph\n",
    "\n",
    "For example, let's create a one cycle graph, with 5 nodes, the edges of which are marked with the letter `a`."
   ]
  },
  {
   "cell_type": "code",
   "execution_count": 4,
   "id": "8382d351",
   "metadata": {
    "execution": {
     "iopub.execute_input": "2022-11-29T09:31:23.500207Z",
     "iopub.status.busy": "2022-11-29T09:31:23.499785Z",
     "iopub.status.idle": "2022-11-29T09:31:23.504179Z",
     "shell.execute_reply": "2022-11-29T09:31:23.503516Z"
    }
   },
   "outputs": [
    {
     "name": "stderr",
     "output_type": "stream",
     "text": [
      "[2022-11-29 09:31:23]>INFO>Create a cycle graph=<networkx.classes.multidigraph.MultiDiGraph object at 0x7f9f74b58a90> with n=5, label='a'\n"
     ]
    }
   ],
   "source": [
    "cycle = cfpq_data.labeled_cycle_graph(5, label=\"a\")"
   ]
  },
  {
   "cell_type": "markdown",
   "id": "8e0852dc",
   "metadata": {},
   "source": [
    "Change edges\n",
    "\n",
    "We can change the specified graph labels by using function `change_edges`\n",
    "from Graph utilities."
   ]
  },
  {
   "cell_type": "code",
   "execution_count": 5,
   "id": "86c34304",
   "metadata": {
    "execution": {
     "iopub.execute_input": "2022-11-29T09:31:23.508956Z",
     "iopub.status.busy": "2022-11-29T09:31:23.508475Z",
     "iopub.status.idle": "2022-11-29T09:31:23.513218Z",
     "shell.execute_reply": "2022-11-29T09:31:23.512519Z"
    }
   },
   "outputs": [
    {
     "name": "stderr",
     "output_type": "stream",
     "text": [
      "[2022-11-29 09:31:23]>INFO>Change labels in graph=<networkx.classes.multidigraph.MultiDiGraph object at 0x7f9f74b58a90> with mapping={'a': 'b'} to new_graph=<networkx.classes.multidigraph.MultiDiGraph object at 0x7f9f74b69610>\n"
     ]
    }
   ],
   "source": [
    "new_cycle = cfpq_data.change_edges(cycle, {\"a\": \"b\"})"
   ]
  },
  {
   "cell_type": "markdown",
   "id": "1017d2d5",
   "metadata": {},
   "source": [
    "Now the labels `a` have changed to `b`.\n",
    "\n",
    "# Load grammar\n",
    "\n",
    "Also, we can load the grammars generated from grammar templates that are described on the Grammars page.\n",
    "\n",
    "## Load grammars archive from Dataset\n",
    "\n",
    "We can load the archive with the grammars for the specified template using function `download_grammars`."
   ]
  },
  {
   "cell_type": "code",
   "execution_count": 6,
   "id": "5fff904e",
   "metadata": {
    "execution": {
     "iopub.execute_input": "2022-11-29T09:31:23.517601Z",
     "iopub.status.busy": "2022-11-29T09:31:23.517196Z",
     "iopub.status.idle": "2022-11-29T09:31:23.952702Z",
     "shell.execute_reply": "2022-11-29T09:31:23.951920Z"
    }
   },
   "outputs": [
    {
     "name": "stderr",
     "output_type": "stream",
     "text": [
      "[2022-11-29 09:31:23]>INFO>Found grammar template='c_alias'\n"
     ]
    },
    {
     "name": "stderr",
     "output_type": "stream",
     "text": [
      "[2022-11-29 09:31:23]>INFO>Load archive grammar_archive=PosixPath('/opt/hostedtoolcache/Python/3.8.14/x64/lib/python3.8/site-packages/cfpq_data/data/grammars/c_alias.tar.gz')\n"
     ]
    },
    {
     "name": "stderr",
     "output_type": "stream",
     "text": [
      "[2022-11-29 09:31:23]>INFO>Unzip grammars with template='c_alias' for graph with graph_name=None to directory grammars=PosixPath('/opt/hostedtoolcache/Python/3.8.14/x64/lib/python3.8/site-packages/cfpq_data/data/grammars/c_alias')\n"
     ]
    },
    {
     "name": "stderr",
     "output_type": "stream",
     "text": [
      "[2022-11-29 09:31:23]>INFO>Remove archive grammar_archive=PosixPath('/opt/hostedtoolcache/Python/3.8.14/x64/lib/python3.8/site-packages/cfpq_data/data/grammars/c_alias.tar.gz')\n"
     ]
    }
   ],
   "source": [
    "c_alias_path = cfpq_data.download_grammars(\"c_alias\")"
   ]
  },
  {
   "cell_type": "markdown",
   "id": "edad1c94",
   "metadata": {},
   "source": [
    "# Load grammars archive for specified graph\n",
    "\n",
    "For some grammar templates we also can load the archive with the grammars for specific graphs."
   ]
  },
  {
   "cell_type": "code",
   "execution_count": 7,
   "id": "cfeef5b9",
   "metadata": {
    "execution": {
     "iopub.execute_input": "2022-11-29T09:31:23.957483Z",
     "iopub.status.busy": "2022-11-29T09:31:23.957080Z",
     "iopub.status.idle": "2022-11-29T09:31:24.411832Z",
     "shell.execute_reply": "2022-11-29T09:31:24.411124Z"
    }
   },
   "outputs": [
    {
     "name": "stderr",
     "output_type": "stream",
     "text": [
      "[2022-11-29 09:31:23]>INFO>Found graph with graph_name='avrora' and grammar template='java_points_to'\n"
     ]
    },
    {
     "name": "stderr",
     "output_type": "stream",
     "text": [
      "[2022-11-29 09:31:24]>INFO>Load archive grammar_archive=PosixPath('/opt/hostedtoolcache/Python/3.8.14/x64/lib/python3.8/site-packages/cfpq_data/data/grammars/java_points_to_avrora.tar.gz')\n"
     ]
    },
    {
     "name": "stderr",
     "output_type": "stream",
     "text": [
      "[2022-11-29 09:31:24]>INFO>Unzip grammars with template='java_points_to' for graph with graph_name='avrora' to directory grammars=PosixPath('/opt/hostedtoolcache/Python/3.8.14/x64/lib/python3.8/site-packages/cfpq_data/data/grammars/java_points_to_avrora')\n"
     ]
    },
    {
     "name": "stderr",
     "output_type": "stream",
     "text": [
      "[2022-11-29 09:31:24]>INFO>Remove archive grammar_archive=PosixPath('/opt/hostedtoolcache/Python/3.8.14/x64/lib/python3.8/site-packages/cfpq_data/data/grammars/java_points_to_avrora.tar.gz')\n"
     ]
    }
   ],
   "source": [
    "java_pt_avrora_path = cfpq_data.download_grammars(\"java_points_to\", graph_name=\"avrora\")"
   ]
  },
  {
   "cell_type": "markdown",
   "id": "5accdb83",
   "metadata": {},
   "source": [
    "Regular grammars\n",
    "\n",
    "Currently, we have one representation of regular grammars:\n",
    "\n",
    "1. [Regular expression](https://en.wikipedia.org/wiki/Regular_expression#Formal_definition)\n",
    "\n",
    "# Create a regular expression\n",
    "\n",
    "For example, a regular expression can be created by using function `regex_from_text`\n",
    "from Reading and writing grammars."
   ]
  },
  {
   "cell_type": "code",
   "execution_count": 8,
   "id": "db4b8ea1",
   "metadata": {
    "execution": {
     "iopub.execute_input": "2022-11-29T09:31:24.415577Z",
     "iopub.status.busy": "2022-11-29T09:31:24.415336Z",
     "iopub.status.idle": "2022-11-29T09:31:24.420376Z",
     "shell.execute_reply": "2022-11-29T09:31:24.419693Z"
    }
   },
   "outputs": [
    {
     "name": "stderr",
     "output_type": "stream",
     "text": [
      "[2022-11-29 09:31:24]>INFO>Create regex=(a.(bc|(d)*)) from text='a (bc|d*)'\n"
     ]
    }
   ],
   "source": [
    "regex = cfpq_data.regex_from_text(\"a (bc|d*)\")"
   ]
  },
  {
   "cell_type": "markdown",
   "id": "2c898b49",
   "metadata": {},
   "source": [
    "# Load regular expression by path\n",
    "\n",
    "We can load the regular expression along the specified path using function `regex_from_txt`."
   ]
  },
  {
   "cell_type": "code",
   "execution_count": 9,
   "id": "e26c2188",
   "metadata": {
    "execution": {
     "iopub.execute_input": "2022-11-29T09:31:24.424175Z",
     "iopub.status.busy": "2022-11-29T09:31:24.423939Z",
     "iopub.status.idle": "2022-11-29T09:31:24.430580Z",
     "shell.execute_reply": "2022-11-29T09:31:24.429916Z"
    }
   },
   "outputs": [
    {
     "name": "stderr",
     "output_type": "stream",
     "text": [
      "[2022-11-29 09:31:24]>INFO>Turn regex=(a.(bc|(d)*)) into text='(a (bc|(d)*))'\n"
     ]
    },
    {
     "name": "stderr",
     "output_type": "stream",
     "text": [
      "[2022-11-29 09:31:24]>INFO>Save regex=(a.(bc|(d)*)) to dest=PosixPath('/home/runner/work/CFPQ_Data/CFPQ_Data/docs/test.txt')\n"
     ]
    },
    {
     "name": "stderr",
     "output_type": "stream",
     "text": [
      "[2022-11-29 09:31:24]>INFO>Create regex=(a.(bc|(d)*)) from text='(a (bc|(d)*))'\n"
     ]
    },
    {
     "name": "stderr",
     "output_type": "stream",
     "text": [
      "[2022-11-29 09:31:24]>INFO>Create regex=(a.(bc|(d)*)) from path=PosixPath('/home/runner/work/CFPQ_Data/CFPQ_Data/docs/test.txt')\n"
     ]
    }
   ],
   "source": [
    "path = cfpq_data.regex_to_txt(regex, \"test.txt\")\n",
    "regex_by_path = cfpq_data.regex_from_txt(path)"
   ]
  },
  {
   "cell_type": "markdown",
   "id": "31f7e1ce",
   "metadata": {},
   "source": [
    "Сontext-free grammars\n",
    "\n",
    "Currently, we have three representations of context-free grammars (CFGs):\n",
    "\n",
    "1. [Classic](https://en.wikipedia.org/wiki/Context-free_grammar#Formal_definitions)\n",
    "\n",
    "1. [Chomsky Normal Form](https://en.wikipedia.org/wiki/Chomsky_normal_form)\n",
    "\n",
    "1. [Recursive State Machine](https://link.springer.com/chapter/10.1007/978-3-030-54832-2_6#Sec2)\n",
    "\n",
    "# Create a classic context-free grammar\n",
    "\n",
    "A classic context-free grammar can be created by using function `cfg_from_text`\n",
    "from Reading and writing grammars."
   ]
  },
  {
   "cell_type": "code",
   "execution_count": 10,
   "id": "2394e0d3",
   "metadata": {
    "execution": {
     "iopub.execute_input": "2022-11-29T09:31:24.436149Z",
     "iopub.status.busy": "2022-11-29T09:31:24.435926Z",
     "iopub.status.idle": "2022-11-29T09:31:24.439713Z",
     "shell.execute_reply": "2022-11-29T09:31:24.439154Z"
    }
   },
   "outputs": [
    {
     "name": "stderr",
     "output_type": "stream",
     "text": [
      "[2022-11-29 09:31:24]>INFO>Create cfg=<pyformlang.cfg.cfg.CFG object at 0x7f9fa1651ee0> from text='S -> a S b S | a b', start_symbol=Variable(S)\n"
     ]
    }
   ],
   "source": [
    "cfg = cfpq_data.cfg_from_text(\"S -> a S b S | a b\")"
   ]
  },
  {
   "cell_type": "markdown",
   "id": "4196533e",
   "metadata": {},
   "source": [
    "# Load context-free grammar by path\n",
    "\n",
    "We can load the classic context-free grammar along the specified path using function `cfg_from_txt`."
   ]
  },
  {
   "cell_type": "code",
   "execution_count": 11,
   "id": "c0e28354",
   "metadata": {
    "execution": {
     "iopub.execute_input": "2022-11-29T09:31:24.443171Z",
     "iopub.status.busy": "2022-11-29T09:31:24.442552Z",
     "iopub.status.idle": "2022-11-29T09:31:24.449103Z",
     "shell.execute_reply": "2022-11-29T09:31:24.448481Z"
    }
   },
   "outputs": [
    {
     "name": "stderr",
     "output_type": "stream",
     "text": [
      "[2022-11-29 09:31:24]>INFO>Turn cfg=<pyformlang.cfg.cfg.CFG object at 0x7f9fa1651ee0> into text='S -> a S b S\\nS -> a b'\n"
     ]
    },
    {
     "name": "stderr",
     "output_type": "stream",
     "text": [
      "[2022-11-29 09:31:24]>INFO>Save cfg=<pyformlang.cfg.cfg.CFG object at 0x7f9fa1651ee0> to dest=PosixPath('/home/runner/work/CFPQ_Data/CFPQ_Data/docs/test.txt')\n"
     ]
    },
    {
     "name": "stderr",
     "output_type": "stream",
     "text": [
      "[2022-11-29 09:31:24]>INFO>Create cfg=<pyformlang.cfg.cfg.CFG object at 0x7f9f749d7a00> from text='S -> a S b S\\nS -> a b', start_symbol=Variable(S)\n"
     ]
    },
    {
     "name": "stderr",
     "output_type": "stream",
     "text": [
      "[2022-11-29 09:31:24]>INFO>Create cfg=<pyformlang.cfg.cfg.CFG object at 0x7f9f749d7a00> from path=PosixPath('/home/runner/work/CFPQ_Data/CFPQ_Data/docs/test.txt'), start_symbol=Variable(S)\n"
     ]
    }
   ],
   "source": [
    "path = cfpq_data.cfg_to_txt(cfg, \"test.txt\")\n",
    "cfg_by_path = cfpq_data.cfg_from_txt(path)"
   ]
  },
  {
   "cell_type": "markdown",
   "id": "4f9102b4",
   "metadata": {},
   "source": [
    "Generate grammar\n",
    "\n",
    "We can also generate a grammar for specified template using one of the generators in module Grammar generators.\n",
    "\n",
    "# Generate a Dyck grammar\n",
    "\n",
    "For example, let's generate a Dyck grammar of the balanced strings with `a` as an opening parenthesis, `b` as a closing parenthesis, and without the empty string."
   ]
  },
  {
   "cell_type": "code",
   "execution_count": 12,
   "id": "5f64ee4a",
   "metadata": {
    "execution": {
     "iopub.execute_input": "2022-11-29T09:31:24.452417Z",
     "iopub.status.busy": "2022-11-29T09:31:24.451989Z",
     "iopub.status.idle": "2022-11-29T09:31:24.456073Z",
     "shell.execute_reply": "2022-11-29T09:31:24.455551Z"
    }
   },
   "outputs": [
    {
     "name": "stderr",
     "output_type": "stream",
     "text": [
      "[2022-11-29 09:31:24]>INFO>Create a Dyck cfg=<pyformlang.cfg.cfg.CFG object at 0x7f9f749d7c70> with types=[('a', 'b')], eps=False\n"
     ]
    }
   ],
   "source": [
    "dyck_cfg = cfpq_data.dyck_grammar([(\"a\", \"b\")], eps=False)"
   ]
  },
  {
   "cell_type": "markdown",
   "id": "8b8078e5",
   "metadata": {},
   "source": [
    "# Generate a Java Points-to grammar\n",
    "\n",
    "Also, let's generate a Java Points-to grammar for the field-sensitive analysis of Java programs with field names `f0` and `f1`."
   ]
  },
  {
   "cell_type": "code",
   "execution_count": 13,
   "id": "75a94a30",
   "metadata": {
    "execution": {
     "iopub.execute_input": "2022-11-29T09:31:24.459553Z",
     "iopub.status.busy": "2022-11-29T09:31:24.459132Z",
     "iopub.status.idle": "2022-11-29T09:31:24.463015Z",
     "shell.execute_reply": "2022-11-29T09:31:24.462493Z"
    }
   },
   "outputs": [
    {
     "name": "stderr",
     "output_type": "stream",
     "text": [
      "[2022-11-29 09:31:24]>INFO>Create a Java Points-to cfg=<pyformlang.cfg.cfg.CFG object at 0x7f9f749d7d00> with fields=['f0', 'f1']\n"
     ]
    }
   ],
   "source": [
    "java_pt_cfg = cfpq_data.java_points_to_grammar([\"f0\", \"f1\"])"
   ]
  },
  {
   "cell_type": "markdown",
   "id": "aae3ac45",
   "metadata": {},
   "source": [
    "Benchmarks\n",
    "\n",
    "In addition, one of the prepared benchmarks that contains graphs, queries, other input data, and results for\n",
    "a particular formal-language-constrained path querying problem can be downloaded.\n",
    "\n",
    "Currently, we provide the following benchmarks documented on the Benchmarks page:\n",
    "\n",
    "1. MS_Reachability\n",
    "\n",
    "# Load benchmark archive\n",
    "\n",
    "You can load the archive with the benchmark using function `download_benchmark`."
   ]
  },
  {
   "cell_type": "code",
   "execution_count": 14,
   "id": "11b31d13",
   "metadata": {
    "execution": {
     "iopub.execute_input": "2022-11-29T09:31:24.466150Z",
     "iopub.status.busy": "2022-11-29T09:31:24.465742Z",
     "iopub.status.idle": "2022-11-29T09:31:26.421119Z",
     "shell.execute_reply": "2022-11-29T09:31:26.420231Z"
    }
   },
   "outputs": [
    {
     "name": "stderr",
     "output_type": "stream",
     "text": [
      "[2022-11-29 09:31:24]>INFO>Found benchmark with name='MS_Reachability'\n"
     ]
    },
    {
     "name": "stderr",
     "output_type": "stream",
     "text": [
      "[2022-11-29 09:31:26]>INFO>Load archive benchmark_archive=PosixPath('/opt/hostedtoolcache/Python/3.8.14/x64/lib/python3.8/site-packages/cfpq_data/data/benchmarks/MS_Reachability.tar.gz')\n"
     ]
    },
    {
     "name": "stderr",
     "output_type": "stream",
     "text": [
      "[2022-11-29 09:31:26]>INFO>Unzip benchmark name='MS_Reachability' to directory benchmark=PosixPath('/opt/hostedtoolcache/Python/3.8.14/x64/lib/python3.8/site-packages/cfpq_data/data/benchmarks/MS_Reachability')\n"
     ]
    },
    {
     "name": "stderr",
     "output_type": "stream",
     "text": [
      "[2022-11-29 09:31:26]>INFO>Remove archive benchmark_archive=PosixPath('/opt/hostedtoolcache/Python/3.8.14/x64/lib/python3.8/site-packages/cfpq_data/data/benchmarks/MS_Reachability.tar.gz')\n"
     ]
    }
   ],
   "source": [
    "ms_reachability_path = cfpq_data.download_benchmark(\"MS_Reachability\")"
   ]
  },
  {
   "cell_type": "markdown",
   "id": "22a853a1",
   "metadata": {},
   "source": [
    "# MS_Reachability benchmark\n",
    "\n",
    "MS_Reachability benchmark can be used for the experimental study of the algorithms that solve the multiple-source\n",
    "formal-language-constrained reachability problem. This benchmark is described on the MS_Reachability page.\n",
    "\n",
    "For this benchmark we provide some useful functions from\n",
    "Graph utilities.\n",
    "For example, the set of source vertices can be saved to the TXT file or it can be loaded from benchmark by using\n",
    "functions `multiple_source_from_txt` and\n",
    "`multiple_source_to_txt`."
   ]
  },
  {
   "cell_type": "code",
   "execution_count": 15,
   "id": "6ab56eac",
   "metadata": {
    "execution": {
     "iopub.execute_input": "2022-11-29T09:31:26.426039Z",
     "iopub.status.busy": "2022-11-29T09:31:26.425478Z",
     "iopub.status.idle": "2022-11-29T09:31:26.433781Z",
     "shell.execute_reply": "2022-11-29T09:31:26.433170Z"
    }
   },
   "outputs": [
    {
     "name": "stderr",
     "output_type": "stream",
     "text": [
      "[2022-11-29 09:31:26]>INFO>Save source_vertices={1, 2, 10, 5} to dest=PosixPath('/home/runner/work/CFPQ_Data/CFPQ_Data/docs/test.txt')\n"
     ]
    },
    {
     "name": "stderr",
     "output_type": "stream",
     "text": [
      "[2022-11-29 09:31:26]>INFO>Load source_vertices={1, 2, 10, 5} from path=PosixPath('/home/runner/work/CFPQ_Data/CFPQ_Data/docs/test.txt')\n"
     ]
    }
   ],
   "source": [
    "s = {1, 2, 5, 10}\n",
    "path = cfpq_data.multiple_source_to_txt(s, \"test.txt\")\n",
    "source_vertices = cfpq_data.multiple_source_from_txt(path)"
   ]
  }
 ],
 "metadata": {
  "language_info": {
   "codemirror_mode": {
    "name": "ipython",
    "version": 3
   },
   "file_extension": ".py",
   "mimetype": "text/x-python",
   "name": "python",
   "nbconvert_exporter": "python",
   "pygments_lexer": "ipython3",
   "version": "3.8.14"
  }
 },
 "nbformat": 4,
 "nbformat_minor": 5
}
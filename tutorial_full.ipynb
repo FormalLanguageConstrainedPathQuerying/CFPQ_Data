{
 "cells": [
  {
   "cell_type": "markdown",
   "id": "65a03236",
   "metadata": {},
   "source": [
    "## Tutorial\n",
    "\n",
    "Release\n",
    "\n",
    ":   2.0.0\n",
    "\n",
    "Date\n",
    "\n",
    ":   Nov 07, 2021\n",
    "\n",
    "This guide can help you start working with CFPQ_Data.\n",
    "\n",
    "**You can download this tutorial as a Jupyter Notebook from the link at the end of the page.**\n",
    "\n",
    "### Import\n",
    "\n",
    "First you need to import the package."
   ]
  },
  {
   "cell_type": "code",
   "execution_count": 1,
   "id": "fb10c253",
   "metadata": {
    "execution": {
     "iopub.execute_input": "2021-11-07T03:11:36.540869Z",
     "iopub.status.busy": "2021-11-07T03:11:36.539403Z",
     "iopub.status.idle": "2021-11-07T03:11:37.141763Z",
     "shell.execute_reply": "2021-11-07T03:11:37.140768Z"
    }
   },
   "outputs": [],
   "source": [
    "import cfpq_data"
   ]
  },
  {
   "cell_type": "markdown",
   "id": "89cfdef9",
   "metadata": {},
   "source": [
    "# Load graph\n",
    "\n",
    "After the package is imported, we can load the graphs.\n",
    "\n",
    "## Load graph archive from Dataset\n",
    "\n",
    "We can load the archive with the graph using function `download`."
   ]
  },
  {
   "cell_type": "code",
   "execution_count": 2,
   "id": "4c660d86",
   "metadata": {
    "execution": {
     "iopub.execute_input": "2021-11-07T03:11:37.147354Z",
     "iopub.status.busy": "2021-11-07T03:11:37.146716Z",
     "iopub.status.idle": "2021-11-07T03:11:37.517638Z",
     "shell.execute_reply": "2021-11-07T03:11:37.518145Z"
    }
   },
   "outputs": [
    {
     "name": "stderr",
     "output_type": "stream",
     "text": [
      "[2021-11-07 03:11:37]>INFO>Found graph with name='bzip'\n"
     ]
    },
    {
     "name": "stderr",
     "output_type": "stream",
     "text": [
      "[2021-11-07 03:11:37]>INFO>Load archive graph_archive=PosixPath('/opt/hostedtoolcache/Python/3.8.12/x64/lib/python3.8/site-packages/cfpq_data/data/bzip.tar.gz')\n"
     ]
    },
    {
     "name": "stderr",
     "output_type": "stream",
     "text": [
      "[2021-11-07 03:11:37]>INFO>Unzip graph name='bzip' to file graph=PosixPath('/opt/hostedtoolcache/Python/3.8.12/x64/lib/python3.8/site-packages/cfpq_data/data/bzip/bzip.csv')\n"
     ]
    },
    {
     "name": "stderr",
     "output_type": "stream",
     "text": [
      "[2021-11-07 03:11:37]>INFO>Remove archive graph_archive=PosixPath('/opt/hostedtoolcache/Python/3.8.12/x64/lib/python3.8/site-packages/cfpq_data/data/bzip.tar.gz')\n"
     ]
    }
   ],
   "source": [
    "bzip_path = cfpq_data.download(\"bzip\")"
   ]
  },
  {
   "cell_type": "markdown",
   "id": "3b8f238a",
   "metadata": {},
   "source": [
    "# Load graph by path\n",
    "\n",
    "We can load the graph along the specified path using function `graph_from_csv`."
   ]
  },
  {
   "cell_type": "code",
   "execution_count": 3,
   "id": "3ff5d8c0",
   "metadata": {
    "execution": {
     "iopub.execute_input": "2021-11-07T03:11:37.523661Z",
     "iopub.status.busy": "2021-11-07T03:11:37.520779Z",
     "iopub.status.idle": "2021-11-07T03:11:37.538427Z",
     "shell.execute_reply": "2021-11-07T03:11:37.538942Z"
    }
   },
   "outputs": [
    {
     "name": "stderr",
     "output_type": "stream",
     "text": [
      "[2021-11-07 03:11:37]>INFO>Load graph=<networkx.classes.multidigraph.MultiDiGraph object at 0x7f7eeed99100> from path=PosixPath('/opt/hostedtoolcache/Python/3.8.12/x64/lib/python3.8/site-packages/cfpq_data/data/bzip/bzip.csv')\n"
     ]
    }
   ],
   "source": [
    "bzip = cfpq_data.graph_from_csv(bzip_path)"
   ]
  },
  {
   "cell_type": "markdown",
   "id": "50c1ee02",
   "metadata": {},
   "source": [
    "Create graph\n",
    "\n",
    "We can also create a synthetic graph using one of the generators in module Graph generators.\n",
    "\n",
    "# Create a one cycle graph\n",
    "\n",
    "For example, let's create a one cycle graph, with 5 nodes, the edges of which are marked with the letter `a`."
   ]
  },
  {
   "cell_type": "code",
   "execution_count": 4,
   "id": "b47194d4",
   "metadata": {
    "execution": {
     "iopub.execute_input": "2021-11-07T03:11:37.544788Z",
     "iopub.status.busy": "2021-11-07T03:11:37.542275Z",
     "iopub.status.idle": "2021-11-07T03:11:37.547657Z",
     "shell.execute_reply": "2021-11-07T03:11:37.548522Z"
    }
   },
   "outputs": [
    {
     "name": "stderr",
     "output_type": "stream",
     "text": [
      "[2021-11-07 03:11:37]>INFO>Create a cycle graph=<networkx.classes.multidigraph.MultiDiGraph object at 0x7f7f200745b0> with n=5, label='a'\n"
     ]
    }
   ],
   "source": [
    "cycle = cfpq_data.labeled_cycle_graph(5, label=\"a\")"
   ]
  },
  {
   "cell_type": "markdown",
   "id": "f63a89b3",
   "metadata": {},
   "source": [
    "Change edges\n",
    "\n",
    "We can change the specified graph labels by using function `change_edges`\n",
    "from Graph utilities."
   ]
  },
  {
   "cell_type": "code",
   "execution_count": 5,
   "id": "5ce2f00c",
   "metadata": {
    "execution": {
     "iopub.execute_input": "2021-11-07T03:11:37.557355Z",
     "iopub.status.busy": "2021-11-07T03:11:37.555881Z",
     "iopub.status.idle": "2021-11-07T03:11:37.560109Z",
     "shell.execute_reply": "2021-11-07T03:11:37.559398Z"
    }
   },
   "outputs": [
    {
     "name": "stderr",
     "output_type": "stream",
     "text": [
      "[2021-11-07 03:11:37]>INFO>Change labels in graph=<networkx.classes.multidigraph.MultiDiGraph object at 0x7f7f200745b0> with mapping={'a': 'b'} to new_graph=<networkx.classes.multidigraph.MultiDiGraph object at 0x7f7f20074220>\n"
     ]
    }
   ],
   "source": [
    "new_cycle = cfpq_data.change_edges(cycle, {\"a\": \"b\"})"
   ]
  },
  {
   "cell_type": "markdown",
   "id": "633dafac",
   "metadata": {},
   "source": [
    "Now the labels `a` have changed to `b`.\n",
    "\n",
    "# Grammars\n",
    "\n",
    "You can create your own context-free grammar (CFG) or use a predefined one.\n",
    "Now we have three representations of CFG documented on the Grammars page:\n",
    "\n",
    "1. [Classic](https://en.wikipedia.org/wiki/Context-free_grammar#Formal_definitions)\n",
    "\n",
    "1. [Chomsky Normal Form](https://en.wikipedia.org/wiki/Chomsky_normal_form)\n",
    "\n",
    "1. [Recursive State Machine](https://link.springer.com/chapter/10.1007/978-3-030-54832-2_6#Sec2)\n",
    "\n",
    "## Create a context-free grammar\n",
    "\n",
    "You can create context-free grammar by using function `cfg_from_text`\n",
    "from Reading and writing grammars."
   ]
  },
  {
   "cell_type": "code",
   "execution_count": 6,
   "id": "e7480def",
   "metadata": {
    "execution": {
     "iopub.execute_input": "2021-11-07T03:11:37.567102Z",
     "iopub.status.busy": "2021-11-07T03:11:37.565622Z",
     "iopub.status.idle": "2021-11-07T03:11:37.569758Z",
     "shell.execute_reply": "2021-11-07T03:11:37.569075Z"
    }
   },
   "outputs": [
    {
     "name": "stderr",
     "output_type": "stream",
     "text": [
      "[2021-11-07 03:11:37]>INFO>Create cfg=<pyformlang.cfg.cfg.CFG object at 0x7f7eeed994c0> from text='S -> a S b S | a b', start_symbol=Variable(S)\n"
     ]
    }
   ],
   "source": [
    "cfg = cfpq_data.cfg_from_text(\"S -> a S b S | a b\")"
   ]
  }
 ],
 "metadata": {
  "language_info": {
   "codemirror_mode": {
    "name": "ipython",
    "version": 3
   },
   "file_extension": ".py",
   "mimetype": "text/x-python",
   "name": "python",
   "nbconvert_exporter": "python",
   "pygments_lexer": "ipython3",
   "version": "3.8.12"
  }
 },
 "nbformat": 4,
 "nbformat_minor": 5
}
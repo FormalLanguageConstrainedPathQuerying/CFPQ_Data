{
 "cells": [
  {
   "cell_type": "markdown",
   "id": "97849a8a",
   "metadata": {},
   "source": [
    "## Tutorial\n",
    "\n",
    "Release\n",
    "\n",
    ":   4.0.0\n",
    "\n",
    "Date\n",
    "\n",
    ":   Oct 06, 2022\n",
    "\n",
    "This guide can help you start working with CFPQ_Data.\n",
    "\n",
    "**You can download this tutorial as a Jupyter Notebook from the link at the end of the page.**\n",
    "\n",
    "### Import\n",
    "\n",
    "First you need to import the package."
   ]
  },
  {
   "cell_type": "code",
   "execution_count": 1,
   "id": "8ff6b010",
   "metadata": {
    "execution": {
     "iopub.execute_input": "2022-10-06T12:17:57.650768Z",
     "iopub.status.busy": "2022-10-06T12:17:57.650418Z",
     "iopub.status.idle": "2022-10-06T12:17:58.056542Z",
     "shell.execute_reply": "2022-10-06T12:17:58.055754Z"
    }
   },
   "outputs": [],
   "source": [
    "import cfpq_data"
   ]
  },
  {
   "cell_type": "markdown",
   "id": "1cc2e7ef",
   "metadata": {},
   "source": [
    "# Load graph\n",
    "\n",
    "After the package is imported, we can load the graphs.\n",
    "\n",
    "## Load graph archive from Dataset\n",
    "\n",
    "We can load the archive with the graph using function `download`."
   ]
  },
  {
   "cell_type": "code",
   "execution_count": 2,
   "id": "f9652048",
   "metadata": {
    "execution": {
     "iopub.execute_input": "2022-10-06T12:17:58.061680Z",
     "iopub.status.busy": "2022-10-06T12:17:58.061081Z",
     "iopub.status.idle": "2022-10-06T12:17:58.493970Z",
     "shell.execute_reply": "2022-10-06T12:17:58.493260Z"
    }
   },
   "outputs": [
    {
     "name": "stderr",
     "output_type": "stream",
     "text": [
      "[2022-10-06 12:17:58]>INFO>Found graph with name='bzip'\n"
     ]
    },
    {
     "name": "stderr",
     "output_type": "stream",
     "text": [
      "[2022-10-06 12:17:58]>INFO>Load archive graph_archive=PosixPath('/opt/hostedtoolcache/Python/3.8.14/x64/lib/python3.8/site-packages/cfpq_data/data/bzip.tar.gz')\n"
     ]
    },
    {
     "name": "stderr",
     "output_type": "stream",
     "text": [
      "[2022-10-06 12:17:58]>INFO>Unzip graph name='bzip' to file graph=PosixPath('/opt/hostedtoolcache/Python/3.8.14/x64/lib/python3.8/site-packages/cfpq_data/data/bzip/bzip.csv')\n"
     ]
    },
    {
     "name": "stderr",
     "output_type": "stream",
     "text": [
      "[2022-10-06 12:17:58]>INFO>Remove archive graph_archive=PosixPath('/opt/hostedtoolcache/Python/3.8.14/x64/lib/python3.8/site-packages/cfpq_data/data/bzip.tar.gz')\n"
     ]
    }
   ],
   "source": [
    "bzip_path = cfpq_data.download(\"bzip\")"
   ]
  },
  {
   "cell_type": "markdown",
   "id": "74d041be",
   "metadata": {},
   "source": [
    "# Load graph by path\n",
    "\n",
    "We can load the graph along the specified path using function `graph_from_csv`."
   ]
  },
  {
   "cell_type": "code",
   "execution_count": 3,
   "id": "29b04bd6",
   "metadata": {
    "execution": {
     "iopub.execute_input": "2022-10-06T12:17:58.497388Z",
     "iopub.status.busy": "2022-10-06T12:17:58.497078Z",
     "iopub.status.idle": "2022-10-06T12:17:58.508109Z",
     "shell.execute_reply": "2022-10-06T12:17:58.507204Z"
    }
   },
   "outputs": [
    {
     "name": "stderr",
     "output_type": "stream",
     "text": [
      "[2022-10-06 12:17:58]>INFO>Load graph=<networkx.classes.multidigraph.MultiDiGraph object at 0x7f34bcfc4a00> from path=PosixPath('/opt/hostedtoolcache/Python/3.8.14/x64/lib/python3.8/site-packages/cfpq_data/data/bzip/bzip.csv')\n"
     ]
    }
   ],
   "source": [
    "bzip = cfpq_data.graph_from_csv(bzip_path)"
   ]
  },
  {
   "cell_type": "markdown",
   "id": "4df9d55e",
   "metadata": {},
   "source": [
    "Create graph\n",
    "\n",
    "We can also create a synthetic graph using one of the generators in module Graph generators.\n",
    "\n",
    "# Create a one cycle graph\n",
    "\n",
    "For example, let's create a one cycle graph, with 5 nodes, the edges of which are marked with the letter `a`."
   ]
  },
  {
   "cell_type": "code",
   "execution_count": 4,
   "id": "d0a580ee",
   "metadata": {
    "execution": {
     "iopub.execute_input": "2022-10-06T12:17:58.511403Z",
     "iopub.status.busy": "2022-10-06T12:17:58.511053Z",
     "iopub.status.idle": "2022-10-06T12:17:58.515178Z",
     "shell.execute_reply": "2022-10-06T12:17:58.514584Z"
    }
   },
   "outputs": [
    {
     "name": "stderr",
     "output_type": "stream",
     "text": [
      "[2022-10-06 12:17:58]>INFO>Create a cycle graph=<networkx.classes.multidigraph.MultiDiGraph object at 0x7f34bcfc48b0> with n=5, label='a'\n"
     ]
    }
   ],
   "source": [
    "cycle = cfpq_data.labeled_cycle_graph(5, label=\"a\")"
   ]
  },
  {
   "cell_type": "markdown",
   "id": "92e0c99d",
   "metadata": {},
   "source": [
    "Change edges\n",
    "\n",
    "We can change the specified graph labels by using function `change_edges`\n",
    "from Graph utilities."
   ]
  },
  {
   "cell_type": "code",
   "execution_count": 5,
   "id": "cbdb81d0",
   "metadata": {
    "execution": {
     "iopub.execute_input": "2022-10-06T12:17:58.518776Z",
     "iopub.status.busy": "2022-10-06T12:17:58.518428Z",
     "iopub.status.idle": "2022-10-06T12:17:58.525216Z",
     "shell.execute_reply": "2022-10-06T12:17:58.524537Z"
    }
   },
   "outputs": [
    {
     "name": "stderr",
     "output_type": "stream",
     "text": [
      "[2022-10-06 12:17:58]>INFO>Change labels in graph=<networkx.classes.multidigraph.MultiDiGraph object at 0x7f34bcfc48b0> with mapping={'a': 'b'} to new_graph=<networkx.classes.multidigraph.MultiDiGraph object at 0x7f3494550df0>\n"
     ]
    }
   ],
   "source": [
    "new_cycle = cfpq_data.change_edges(cycle, {\"a\": \"b\"})"
   ]
  },
  {
   "cell_type": "markdown",
   "id": "0e214548",
   "metadata": {},
   "source": [
    "Now the labels `a` have changed to `b`.\n",
    "\n",
    "# Grammars\n",
    "\n",
    "Also, we can create our own grammar or use a predefined one.\n",
    "\n",
    "## Regular grammars\n",
    "\n",
    "Currently, we have one representation of regular grammars documented on the Grammars page:\n",
    "\n",
    "1. [Regular expression](https://en.wikipedia.org/wiki/Regular_expression#Formal_definition)\n",
    "\n",
    "## Create a regular expression\n",
    "\n",
    "A regular expression can be created by using function `regex_from_text`\n",
    "from Reading and writing grammars."
   ]
  },
  {
   "cell_type": "code",
   "execution_count": 6,
   "id": "96a0acb9",
   "metadata": {
    "execution": {
     "iopub.execute_input": "2022-10-06T12:17:58.528530Z",
     "iopub.status.busy": "2022-10-06T12:17:58.528046Z",
     "iopub.status.idle": "2022-10-06T12:17:58.534001Z",
     "shell.execute_reply": "2022-10-06T12:17:58.533364Z"
    }
   },
   "outputs": [
    {
     "name": "stderr",
     "output_type": "stream",
     "text": [
      "[2022-10-06 12:17:58]>INFO>Create regex=(a.(bc|(d)*)) from text='a (bc|d*)'\n"
     ]
    }
   ],
   "source": [
    "regex = cfpq_data.regex_from_text(\"a (bc|d*)\")"
   ]
  },
  {
   "cell_type": "markdown",
   "id": "2ac78026",
   "metadata": {},
   "source": [
    "# Сontext-free grammars\n",
    "\n",
    "Currently, we have three representations of context-free grammars (CFGs) documented on the Grammars page:\n",
    "\n",
    "1. [Classic](https://en.wikipedia.org/wiki/Context-free_grammar#Formal_definitions)\n",
    "\n",
    "1. [Chomsky Normal Form](https://en.wikipedia.org/wiki/Chomsky_normal_form)\n",
    "\n",
    "1. [Recursive State Machine](https://link.springer.com/chapter/10.1007/978-3-030-54832-2_6#Sec2)\n",
    "\n",
    "# Create a context-free grammar\n",
    "\n",
    "A context-free grammar can be created by using function `cfg_from_text`\n",
    "from Reading and writing grammars."
   ]
  },
  {
   "cell_type": "code",
   "execution_count": 7,
   "id": "a7103f85",
   "metadata": {
    "execution": {
     "iopub.execute_input": "2022-10-06T12:17:58.537125Z",
     "iopub.status.busy": "2022-10-06T12:17:58.536760Z",
     "iopub.status.idle": "2022-10-06T12:17:58.540935Z",
     "shell.execute_reply": "2022-10-06T12:17:58.540289Z"
    }
   },
   "outputs": [
    {
     "name": "stderr",
     "output_type": "stream",
     "text": [
      "[2022-10-06 12:17:58]>INFO>Create cfg=<pyformlang.cfg.cfg.CFG object at 0x7f3494464d60> from text='S -> a S b S | a b', start_symbol=Variable(S)\n"
     ]
    }
   ],
   "source": [
    "cfg = cfpq_data.cfg_from_text(\"S -> a S b S | a b\")"
   ]
  },
  {
   "cell_type": "markdown",
   "id": "317000ab",
   "metadata": {},
   "source": [
    "Benchmarks\n",
    "\n",
    "In addition, one of the prepared benchmarks that contains graphs, queries, other input data, and results for\n",
    "a particular formal-language-constrained path querying problem can be downloaded.\n",
    "\n",
    "Currently, we provide the following benchmarks documented on the Benchmarks page:\n",
    "\n",
    "1. MS_Reachability\n",
    "\n",
    "# Load benchmark archive\n",
    "\n",
    "You can load the archive with the benchmark using function `download_benchmark`."
   ]
  },
  {
   "cell_type": "code",
   "execution_count": 8,
   "id": "fc1904a6",
   "metadata": {
    "execution": {
     "iopub.execute_input": "2022-10-06T12:17:58.544771Z",
     "iopub.status.busy": "2022-10-06T12:17:58.544241Z",
     "iopub.status.idle": "2022-10-06T12:18:00.493225Z",
     "shell.execute_reply": "2022-10-06T12:18:00.492539Z"
    }
   },
   "outputs": [
    {
     "name": "stderr",
     "output_type": "stream",
     "text": [
      "[2022-10-06 12:17:58]>INFO>Found benchmark with name='MS_Reachability'\n"
     ]
    },
    {
     "name": "stderr",
     "output_type": "stream",
     "text": [
      "[2022-10-06 12:18:00]>INFO>Load archive benchmark_archive=PosixPath('/opt/hostedtoolcache/Python/3.8.14/x64/lib/python3.8/site-packages/cfpq_data/data/MS_Reachability.tar.gz')\n"
     ]
    },
    {
     "name": "stderr",
     "output_type": "stream",
     "text": [
      "[2022-10-06 12:18:00]>INFO>Unzip benchmark name='MS_Reachability' to directory benchmark=PosixPath('/opt/hostedtoolcache/Python/3.8.14/x64/lib/python3.8/site-packages/cfpq_data/data/MS_Reachability')\n"
     ]
    },
    {
     "name": "stderr",
     "output_type": "stream",
     "text": [
      "[2022-10-06 12:18:00]>INFO>Remove archive benchmark_archive=PosixPath('/opt/hostedtoolcache/Python/3.8.14/x64/lib/python3.8/site-packages/cfpq_data/data/MS_Reachability.tar.gz')\n"
     ]
    }
   ],
   "source": [
    "ms_reachability_path = cfpq_data.download_benchmark(\"MS_Reachability\")"
   ]
  },
  {
   "cell_type": "markdown",
   "id": "d095fab2",
   "metadata": {},
   "source": [
    "# MS_Reachability benchmark\n",
    "\n",
    "MS_Reachability benchmark can be used for the experimental study of the algorithms that solve the multiple-source\n",
    "formal-language-constrained reachability problem. This benchmark is described on the MS_Reachability page.\n",
    "\n",
    "For this benchmark we provide some useful functions from\n",
    "Graph utilities.\n",
    "For example, the set of source vertices can be saved to the TXT file or it can be loaded from benchmark by using\n",
    "functions `multiple_source_from_txt` and\n",
    "`multiple_source_to_txt`."
   ]
  },
  {
   "cell_type": "code",
   "execution_count": 9,
   "id": "bbf9e275",
   "metadata": {
    "execution": {
     "iopub.execute_input": "2022-10-06T12:18:00.496772Z",
     "iopub.status.busy": "2022-10-06T12:18:00.496364Z",
     "iopub.status.idle": "2022-10-06T12:18:00.512613Z",
     "shell.execute_reply": "2022-10-06T12:18:00.510773Z"
    }
   },
   "outputs": [
    {
     "name": "stderr",
     "output_type": "stream",
     "text": [
      "[2022-10-06 12:18:00]>INFO>Save source_vertices={1, 2, 10, 5} to dest=PosixPath('/home/runner/work/CFPQ_Data/CFPQ_Data/docs/test.txt')\n"
     ]
    },
    {
     "name": "stderr",
     "output_type": "stream",
     "text": [
      "[2022-10-06 12:18:00]>INFO>Load source_vertices={1, 2, 10, 5} from path=PosixPath('/home/runner/work/CFPQ_Data/CFPQ_Data/docs/test.txt')\n"
     ]
    }
   ],
   "source": [
    "s = {1, 2, 5, 10}\n",
    "path = cfpq_data.multiple_source_to_txt(s, \"test.txt\")\n",
    "source_vertices = cfpq_data.multiple_source_from_txt(path)"
   ]
  }
 ],
 "metadata": {
  "language_info": {
   "codemirror_mode": {
    "name": "ipython",
    "version": 3
   },
   "file_extension": ".py",
   "mimetype": "text/x-python",
   "name": "python",
   "nbconvert_exporter": "python",
   "pygments_lexer": "ipython3",
   "version": "3.8.14"
  }
 },
 "nbformat": 4,
 "nbformat_minor": 5
}
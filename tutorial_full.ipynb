{
 "cells": [
  {
   "cell_type": "markdown",
   "id": "9f00886f",
   "metadata": {},
   "source": [
    "## Tutorial\n",
    "\n",
    "Release\n",
    "\n",
    ":   1.0.1\n",
    "\n",
    "Date\n",
    "\n",
    ":   May 31, 2021\n",
    "\n",
    "This guide can help you start working with CFPQ_Data.\n",
    "You can download this tutorial as a Jupyter Notebook from the link at the end of the page.\n",
    "\n",
    "All functions are documented on the Reference page.\n",
    "\n",
    "### Graphs\n",
    "\n",
    "You are able to get a synthetic or real-world graph with CFPQ_Data.\n",
    "\n",
    "#### Create a synthetic graph\n",
    "\n",
    "You can create many different synthetic graphs by using functions from Graph generators.\n",
    "\n",
    "For example, let's create a one cycle graph, the edges of which are marked with the letter `a`."
   ]
  },
  {
   "cell_type": "code",
   "execution_count": 1,
   "id": "270df58a",
   "metadata": {
    "execution": {
     "iopub.execute_input": "2021-05-31T10:10:45.216771Z",
     "iopub.status.busy": "2021-05-31T10:10:45.216063Z",
     "iopub.status.idle": "2021-05-31T10:10:45.669520Z",
     "shell.execute_reply": "2021-05-31T10:10:45.670092Z"
    }
   },
   "outputs": [
    {
     "name": "stderr",
     "output_type": "stream",
     "text": [
      "\r",
      "Generation...:   0%|          | 0/5 [00:00<?, ?it/s]"
     ]
    },
    {
     "name": "stderr",
     "output_type": "stream",
     "text": [
      "\r",
      "Generation...: 100%|██████████| 5/5 [00:00<00:00, 30570.73it/s]"
     ]
    },
    {
     "name": "stderr",
     "output_type": "stream",
     "text": [
      "\n"
     ]
    }
   ],
   "source": [
    "import cfpq_data\n",
    "cycle = cfpq_data.labeled_cycle_graph(5, edge_label=\"a\")"
   ]
  },
  {
   "cell_type": "markdown",
   "id": "bdcf0392",
   "metadata": {},
   "source": [
    "# Get a real graph\n",
    "\n",
    "You can get many different real-world graphs from CFPQ_Data Dataset.\n",
    "\n",
    "And present these graphs in convenient formats by using functions from Reading and writing graphs.\n",
    "\n",
    "For example, let's get a `generations` ontology graph."
   ]
  },
  {
   "cell_type": "code",
   "execution_count": 2,
   "id": "c5659e57",
   "metadata": {
    "execution": {
     "iopub.execute_input": "2021-05-31T10:10:45.673999Z",
     "iopub.status.busy": "2021-05-31T10:10:45.673382Z",
     "iopub.status.idle": "2021-05-31T10:10:47.092796Z",
     "shell.execute_reply": "2021-05-31T10:10:47.093263Z"
    }
   },
   "outputs": [
    {
     "name": "stderr",
     "output_type": "stream",
     "text": [
      "\r",
      "Downloading 'generations'...:   0%|          | 0.00/1.29k [00:00<?, ?B/s]"
     ]
    },
    {
     "name": "stderr",
     "output_type": "stream",
     "text": [
      "\r",
      "Downloading 'generations'...: 100%|██████████| 1.29k/1.29k [00:00<00:00, 7.37kB/s]"
     ]
    },
    {
     "name": "stderr",
     "output_type": "stream",
     "text": [
      "\r",
      "Downloading 'generations'...: 100%|██████████| 1.29k/1.29k [00:00<00:00, 7.23kB/s]"
     ]
    },
    {
     "name": "stderr",
     "output_type": "stream",
     "text": [
      "\n"
     ]
    },
    {
     "name": "stderr",
     "output_type": "stream",
     "text": [
      "\r",
      "Loading...:   0%|          | 0/273 [00:00<?, ?it/s]"
     ]
    },
    {
     "name": "stderr",
     "output_type": "stream",
     "text": [
      "\r",
      "Loading...: 100%|██████████| 273/273 [00:00<00:00, 136039.56it/s]"
     ]
    },
    {
     "name": "stderr",
     "output_type": "stream",
     "text": [
      "\n"
     ]
    }
   ],
   "source": [
    "generations = cfpq_data.graph_from_dataset(\"generations\")"
   ]
  },
  {
   "cell_type": "markdown",
   "id": "36daf38f",
   "metadata": {},
   "source": [
    "# Change labels\n",
    "\n",
    "You can change the specified graph labels by using function `cfpq_data.graphs.utils.change_edges()`\n",
    "from Graph utilities."
   ]
  },
  {
   "cell_type": "code",
   "execution_count": 3,
   "id": "a1a99b7c",
   "metadata": {
    "execution": {
     "iopub.execute_input": "2021-05-31T10:10:47.100838Z",
     "iopub.status.busy": "2021-05-31T10:10:47.099365Z",
     "iopub.status.idle": "2021-05-31T10:10:47.104505Z",
     "shell.execute_reply": "2021-05-31T10:10:47.102402Z"
    }
   },
   "outputs": [
    {
     "name": "stderr",
     "output_type": "stream",
     "text": [
      "\r",
      "Generation...:   0%|          | 0/5 [00:00<?, ?it/s]"
     ]
    },
    {
     "name": "stderr",
     "output_type": "stream",
     "text": [
      "\r",
      "Generation...: 100%|██████████| 5/5 [00:00<00:00, 46192.78it/s]"
     ]
    },
    {
     "name": "stderr",
     "output_type": "stream",
     "text": [
      "\n"
     ]
    }
   ],
   "source": [
    "new_cycle = cfpq_data.change_edges(cycle, {\"a\": \"b\"})"
   ]
  },
  {
   "cell_type": "markdown",
   "id": "b1dec388",
   "metadata": {},
   "source": [
    "Now the labels `a` have changed to `b`.\n",
    "\n",
    " Grammars\n",
    "\n",
    "You can create your own context-free grammar (CFG) or use a predefined one.\n",
    "Now we have three representations of CFG documented on the Grammars page:\n",
    "\n",
    "1. [Classic](https://en.wikipedia.org/wiki/Context-free_grammar#Formal_definitions)\n",
    "\n",
    "1. [Chomsky Normal Form](https://en.wikipedia.org/wiki/Chomsky_normal_form)\n",
    "\n",
    "1. [Recursive State Machine](https://link.springer.com/chapter/10.1007/978-3-030-54832-2_6#Sec2)\n",
    "\n",
    "# Create a context-free grammar\n",
    "\n",
    "You can create context-free grammar by using function `cfpq_data.grammars.readwrite.cfg.cfg_from_text()`\n",
    "from Reading and writing grammars."
   ]
  },
  {
   "cell_type": "code",
   "execution_count": 4,
   "id": "ca65337e",
   "metadata": {
    "execution": {
     "iopub.execute_input": "2021-05-31T10:10:47.109349Z",
     "iopub.status.busy": "2021-05-31T10:10:47.108030Z",
     "iopub.status.idle": "2021-05-31T10:10:47.110145Z",
     "shell.execute_reply": "2021-05-31T10:10:47.110636Z"
    }
   },
   "outputs": [],
   "source": [
    "cfg = cfpq_data.cfg_from_text(\"S -> a S b S | a b\")"
   ]
  },
  {
   "cell_type": "markdown",
   "id": "7855dd5b",
   "metadata": {},
   "source": [
    "# Use predefined context-free grammar\n",
    "\n",
    "CFPQ_Data has many predefined grammars documented on the Grammar samples page."
   ]
  },
  {
   "cell_type": "code",
   "execution_count": 5,
   "id": "2b5a8561",
   "metadata": {
    "execution": {
     "iopub.execute_input": "2021-05-31T10:10:47.122137Z",
     "iopub.status.busy": "2021-05-31T10:10:47.118939Z",
     "iopub.status.idle": "2021-05-31T10:10:47.125231Z",
     "shell.execute_reply": "2021-05-31T10:10:47.125708Z"
    }
   },
   "outputs": [
    {
     "data": {
      "text/plain": [
       "'S -> a b\\nS -> a S b\\n'"
      ]
     },
     "execution_count": 1,
     "metadata": {},
     "output_type": "execute_result"
    }
   ],
   "source": [
    "brackets = cfpq_data.brackets\n",
    "brackets.to_text()  # 'S -> a S b\\nS -> a b\\n'"
   ]
  },
  {
   "cell_type": "markdown",
   "id": "7795eb40",
   "metadata": {},
   "source": [
    "# Change terminals\n",
    "\n",
    "You can change the specified grammar terminals by using\n",
    "function `cfpq_data.grammars.utils.change_terminals.change_terminals_in_cfg()`\n",
    "from Grammar utilities."
   ]
  },
  {
   "cell_type": "code",
   "execution_count": 6,
   "id": "993da1c9",
   "metadata": {
    "execution": {
     "iopub.execute_input": "2021-05-31T10:10:47.132298Z",
     "iopub.status.busy": "2021-05-31T10:10:47.130756Z",
     "iopub.status.idle": "2021-05-31T10:10:47.134811Z",
     "shell.execute_reply": "2021-05-31T10:10:47.134152Z"
    }
   },
   "outputs": [
    {
     "data": {
      "text/plain": [
       "'S -> b S c\\nS -> b c\\n'"
      ]
     },
     "execution_count": 1,
     "metadata": {},
     "output_type": "execute_result"
    }
   ],
   "source": [
    "brackets1 = cfpq_data.change_terminals_in_cfg(brackets, {\"a\": \"b\", \"b\": \"c\"})\n",
    "brackets1.to_text()  # 'S -> b S c\\nS -> b c\\n'"
   ]
  }
 ],
 "metadata": {
  "language_info": {
   "codemirror_mode": {
    "name": "ipython",
    "version": 3
   },
   "file_extension": ".py",
   "mimetype": "text/x-python",
   "name": "python",
   "nbconvert_exporter": "python",
   "pygments_lexer": "ipython3",
   "version": "3.8.10"
  }
 },
 "nbformat": 4,
 "nbformat_minor": 5
}
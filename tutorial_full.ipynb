{
 "cells": [
  {
   "cell_type": "markdown",
   "id": "889ef07a",
   "metadata": {},
   "source": [
    "## Tutorial\n",
    "\n",
    "Release\n",
    "\n",
    ":   3.0.0\n",
    "\n",
    "Date\n",
    "\n",
    ":   May 24, 2022\n",
    "\n",
    "This guide can help you start working with CFPQ_Data.\n",
    "\n",
    "**You can download this tutorial as a Jupyter Notebook from the link at the end of the page.**\n",
    "\n",
    "### Import\n",
    "\n",
    "First you need to import the package."
   ]
  },
  {
   "cell_type": "code",
   "execution_count": 1,
   "id": "e5abc2e5",
   "metadata": {
    "execution": {
     "iopub.execute_input": "2022-05-24T18:45:27.223107Z",
     "iopub.status.busy": "2022-05-24T18:45:27.222634Z",
     "iopub.status.idle": "2022-05-24T18:45:27.666120Z",
     "shell.execute_reply": "2022-05-24T18:45:27.664771Z"
    }
   },
   "outputs": [],
   "source": [
    "import cfpq_data"
   ]
  },
  {
   "cell_type": "markdown",
   "id": "60dd00d4",
   "metadata": {},
   "source": [
    "# Load graph\n",
    "\n",
    "After the package is imported, we can load the graphs.\n",
    "\n",
    "## Load graph archive from Dataset\n",
    "\n",
    "We can load the archive with the graph using function `download`."
   ]
  },
  {
   "cell_type": "code",
   "execution_count": 2,
   "id": "9b5e3b03",
   "metadata": {
    "execution": {
     "iopub.execute_input": "2022-05-24T18:45:27.671398Z",
     "iopub.status.busy": "2022-05-24T18:45:27.670909Z",
     "iopub.status.idle": "2022-05-24T18:45:27.779193Z",
     "shell.execute_reply": "2022-05-24T18:45:27.778226Z"
    }
   },
   "outputs": [
    {
     "name": "stderr",
     "output_type": "stream",
     "text": [
      "[2022-05-24 18:45:27]>INFO>Found graph with name='bzip'\n"
     ]
    },
    {
     "name": "stderr",
     "output_type": "stream",
     "text": [
      "[2022-05-24 18:45:27]>INFO>Load archive graph_archive=PosixPath('/opt/hostedtoolcache/Python/3.8.12/x64/lib/python3.8/site-packages/cfpq_data/data/bzip.tar.gz')\n"
     ]
    },
    {
     "name": "stderr",
     "output_type": "stream",
     "text": [
      "[2022-05-24 18:45:27]>INFO>Unzip graph name='bzip' to file graph=PosixPath('/opt/hostedtoolcache/Python/3.8.12/x64/lib/python3.8/site-packages/cfpq_data/data/bzip/bzip.csv')\n"
     ]
    },
    {
     "name": "stderr",
     "output_type": "stream",
     "text": [
      "[2022-05-24 18:45:27]>INFO>Remove archive graph_archive=PosixPath('/opt/hostedtoolcache/Python/3.8.12/x64/lib/python3.8/site-packages/cfpq_data/data/bzip.tar.gz')\n"
     ]
    }
   ],
   "source": [
    "bzip_path = cfpq_data.download(\"bzip\")"
   ]
  },
  {
   "cell_type": "markdown",
   "id": "aaf18899",
   "metadata": {},
   "source": [
    "# Load graph by path\n",
    "\n",
    "We can load the graph along the specified path using function `graph_from_csv`."
   ]
  },
  {
   "cell_type": "code",
   "execution_count": 3,
   "id": "03076239",
   "metadata": {
    "execution": {
     "iopub.execute_input": "2022-05-24T18:45:27.783130Z",
     "iopub.status.busy": "2022-05-24T18:45:27.782899Z",
     "iopub.status.idle": "2022-05-24T18:45:27.794497Z",
     "shell.execute_reply": "2022-05-24T18:45:27.793599Z"
    }
   },
   "outputs": [
    {
     "name": "stderr",
     "output_type": "stream",
     "text": [
      "[2022-05-24 18:45:27]>INFO>Load graph=<networkx.classes.multidigraph.MultiDiGraph object at 0x7fc8048cdca0> from path=PosixPath('/opt/hostedtoolcache/Python/3.8.12/x64/lib/python3.8/site-packages/cfpq_data/data/bzip/bzip.csv')\n"
     ]
    }
   ],
   "source": [
    "bzip = cfpq_data.graph_from_csv(bzip_path)"
   ]
  },
  {
   "cell_type": "markdown",
   "id": "fcf901e3",
   "metadata": {},
   "source": [
    "Create graph\n",
    "\n",
    "We can also create a synthetic graph using one of the generators in module Graph generators.\n",
    "\n",
    "# Create a one cycle graph\n",
    "\n",
    "For example, let's create a one cycle graph, with 5 nodes, the edges of which are marked with the letter `a`."
   ]
  },
  {
   "cell_type": "code",
   "execution_count": 4,
   "id": "56fef42d",
   "metadata": {
    "execution": {
     "iopub.execute_input": "2022-05-24T18:45:27.797912Z",
     "iopub.status.busy": "2022-05-24T18:45:27.797604Z",
     "iopub.status.idle": "2022-05-24T18:45:27.805192Z",
     "shell.execute_reply": "2022-05-24T18:45:27.804369Z"
    }
   },
   "outputs": [
    {
     "name": "stderr",
     "output_type": "stream",
     "text": [
      "[2022-05-24 18:45:27]>INFO>Create a cycle graph=<networkx.classes.multidigraph.MultiDiGraph object at 0x7fc8048cda00> with n=5, label='a'\n"
     ]
    }
   ],
   "source": [
    "cycle = cfpq_data.labeled_cycle_graph(5, label=\"a\")"
   ]
  },
  {
   "cell_type": "markdown",
   "id": "5c93e8e4",
   "metadata": {},
   "source": [
    "Change edges\n",
    "\n",
    "We can change the specified graph labels by using function `change_edges`\n",
    "from Graph utilities."
   ]
  },
  {
   "cell_type": "code",
   "execution_count": 5,
   "id": "942b58c5",
   "metadata": {
    "execution": {
     "iopub.execute_input": "2022-05-24T18:45:27.809104Z",
     "iopub.status.busy": "2022-05-24T18:45:27.808730Z",
     "iopub.status.idle": "2022-05-24T18:45:27.815406Z",
     "shell.execute_reply": "2022-05-24T18:45:27.814516Z"
    }
   },
   "outputs": [
    {
     "name": "stderr",
     "output_type": "stream",
     "text": [
      "[2022-05-24 18:45:27]>INFO>Change labels in graph=<networkx.classes.multidigraph.MultiDiGraph object at 0x7fc8048cda00> with mapping={'a': 'b'} to new_graph=<networkx.classes.multidigraph.MultiDiGraph object at 0x7fc8340144c0>\n"
     ]
    }
   ],
   "source": [
    "new_cycle = cfpq_data.change_edges(cycle, {\"a\": \"b\"})"
   ]
  },
  {
   "cell_type": "markdown",
   "id": "c7477b0e",
   "metadata": {},
   "source": [
    "Now the labels `a` have changed to `b`.\n",
    "\n",
    "# Grammars\n",
    "\n",
    "You can create your own context-free grammar (CFG) or use a predefined one.\n",
    "Now we have three representations of CFG documented on the Grammars page:\n",
    "\n",
    "1. [Classic](https://en.wikipedia.org/wiki/Context-free_grammar#Formal_definitions)\n",
    "\n",
    "1. [Chomsky Normal Form](https://en.wikipedia.org/wiki/Chomsky_normal_form)\n",
    "\n",
    "1. [Recursive State Machine](https://link.springer.com/chapter/10.1007/978-3-030-54832-2_6#Sec2)\n",
    "\n",
    "## Create a context-free grammar\n",
    "\n",
    "You can create context-free grammar by using function `cfg_from_text`\n",
    "from Reading and writing grammars."
   ]
  },
  {
   "cell_type": "code",
   "execution_count": 6,
   "id": "6918753c",
   "metadata": {
    "execution": {
     "iopub.execute_input": "2022-05-24T18:45:27.818673Z",
     "iopub.status.busy": "2022-05-24T18:45:27.818308Z",
     "iopub.status.idle": "2022-05-24T18:45:27.825028Z",
     "shell.execute_reply": "2022-05-24T18:45:27.823928Z"
    }
   },
   "outputs": [
    {
     "name": "stderr",
     "output_type": "stream",
     "text": [
      "[2022-05-24 18:45:27]>INFO>Create cfg=<pyformlang.cfg.cfg.CFG object at 0x7fc83406adc0> from text='S -> a S b S | a b', start_symbol=Variable(S)\n"
     ]
    }
   ],
   "source": [
    "cfg = cfpq_data.cfg_from_text(\"S -> a S b S | a b\")"
   ]
  }
 ],
 "metadata": {
  "language_info": {
   "codemirror_mode": {
    "name": "ipython",
    "version": 3
   },
   "file_extension": ".py",
   "mimetype": "text/x-python",
   "name": "python",
   "nbconvert_exporter": "python",
   "pygments_lexer": "ipython3",
   "version": "3.8.12"
  }
 },
 "nbformat": 4,
 "nbformat_minor": 5
}
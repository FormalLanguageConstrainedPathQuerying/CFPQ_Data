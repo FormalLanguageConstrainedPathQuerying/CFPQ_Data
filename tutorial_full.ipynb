{
 "cells": [
  {
   "cell_type": "markdown",
   "id": "c640f35b",
   "metadata": {},
   "source": [
    "## Tutorial\n",
    "\n",
    "Release\n",
    "\n",
    ":   2.0.0\n",
    "\n",
    "Date\n",
    "\n",
    ":   Nov 09, 2021\n",
    "\n",
    "This guide can help you start working with CFPQ_Data.\n",
    "\n",
    "**You can download this tutorial as a Jupyter Notebook from the link at the end of the page.**\n",
    "\n",
    "### Import\n",
    "\n",
    "First you need to import the package."
   ]
  },
  {
   "cell_type": "code",
   "execution_count": 1,
   "id": "07a93f96",
   "metadata": {
    "execution": {
     "iopub.execute_input": "2021-11-09T12:57:05.195617Z",
     "iopub.status.busy": "2021-11-09T12:57:05.194804Z",
     "iopub.status.idle": "2021-11-09T12:57:05.702082Z",
     "shell.execute_reply": "2021-11-09T12:57:05.701437Z"
    }
   },
   "outputs": [],
   "source": [
    "import cfpq_data"
   ]
  },
  {
   "cell_type": "markdown",
   "id": "cb788992",
   "metadata": {},
   "source": [
    "# Load graph\n",
    "\n",
    "After the package is imported, we can load the graphs.\n",
    "\n",
    "## Load graph archive from Dataset\n",
    "\n",
    "We can load the archive with the graph using function `download`."
   ]
  },
  {
   "cell_type": "code",
   "execution_count": 2,
   "id": "d1fe3af7",
   "metadata": {
    "execution": {
     "iopub.execute_input": "2021-11-09T12:57:05.707207Z",
     "iopub.status.busy": "2021-11-09T12:57:05.706581Z",
     "iopub.status.idle": "2021-11-09T12:57:05.900434Z",
     "shell.execute_reply": "2021-11-09T12:57:05.900950Z"
    }
   },
   "outputs": [
    {
     "name": "stderr",
     "output_type": "stream",
     "text": [
      "[2021-11-09 12:57:05]>INFO>Found graph with name='bzip'\n"
     ]
    },
    {
     "name": "stderr",
     "output_type": "stream",
     "text": [
      "[2021-11-09 12:57:05]>INFO>Load archive graph_archive=PosixPath('/opt/hostedtoolcache/Python/3.8.12/x64/lib/python3.8/site-packages/cfpq_data/data/bzip.tar.gz')\n"
     ]
    },
    {
     "name": "stderr",
     "output_type": "stream",
     "text": [
      "[2021-11-09 12:57:05]>INFO>Unzip graph name='bzip' to file graph=PosixPath('/opt/hostedtoolcache/Python/3.8.12/x64/lib/python3.8/site-packages/cfpq_data/data/bzip/bzip.csv')\n"
     ]
    },
    {
     "name": "stderr",
     "output_type": "stream",
     "text": [
      "[2021-11-09 12:57:05]>INFO>Remove archive graph_archive=PosixPath('/opt/hostedtoolcache/Python/3.8.12/x64/lib/python3.8/site-packages/cfpq_data/data/bzip.tar.gz')\n"
     ]
    }
   ],
   "source": [
    "bzip_path = cfpq_data.download(\"bzip\")"
   ]
  },
  {
   "cell_type": "markdown",
   "id": "df056b23",
   "metadata": {},
   "source": [
    "# Load graph by path\n",
    "\n",
    "We can load the graph along the specified path using function `graph_from_csv`."
   ]
  },
  {
   "cell_type": "code",
   "execution_count": 3,
   "id": "da068a22",
   "metadata": {
    "execution": {
     "iopub.execute_input": "2021-11-09T12:57:05.906699Z",
     "iopub.status.busy": "2021-11-09T12:57:05.906061Z",
     "iopub.status.idle": "2021-11-09T12:57:05.916590Z",
     "shell.execute_reply": "2021-11-09T12:57:05.917108Z"
    }
   },
   "outputs": [
    {
     "name": "stderr",
     "output_type": "stream",
     "text": [
      "[2021-11-09 12:57:05]>INFO>Load graph=<networkx.classes.multidigraph.MultiDiGraph object at 0x7f7330904f40> from path=PosixPath('/opt/hostedtoolcache/Python/3.8.12/x64/lib/python3.8/site-packages/cfpq_data/data/bzip/bzip.csv')\n"
     ]
    }
   ],
   "source": [
    "bzip = cfpq_data.graph_from_csv(bzip_path)"
   ]
  },
  {
   "cell_type": "markdown",
   "id": "f66d98b0",
   "metadata": {},
   "source": [
    "Create graph\n",
    "\n",
    "We can also create a synthetic graph using one of the generators in module Graph generators.\n",
    "\n",
    "# Create a one cycle graph\n",
    "\n",
    "For example, let's create a one cycle graph, with 5 nodes, the edges of which are marked with the letter `a`."
   ]
  },
  {
   "cell_type": "code",
   "execution_count": 4,
   "id": "137a39ac",
   "metadata": {
    "execution": {
     "iopub.execute_input": "2021-11-09T12:57:05.922099Z",
     "iopub.status.busy": "2021-11-09T12:57:05.921380Z",
     "iopub.status.idle": "2021-11-09T12:57:05.927308Z",
     "shell.execute_reply": "2021-11-09T12:57:05.926808Z"
    }
   },
   "outputs": [
    {
     "name": "stderr",
     "output_type": "stream",
     "text": [
      "[2021-11-09 12:57:05]>INFO>Create a cycle graph=<networkx.classes.multidigraph.MultiDiGraph object at 0x7f72fe5c46a0> with n=5, label='a'\n"
     ]
    }
   ],
   "source": [
    "cycle = cfpq_data.labeled_cycle_graph(5, label=\"a\")"
   ]
  },
  {
   "cell_type": "markdown",
   "id": "aeac3af9",
   "metadata": {},
   "source": [
    "Change edges\n",
    "\n",
    "We can change the specified graph labels by using function `change_edges`\n",
    "from Graph utilities."
   ]
  },
  {
   "cell_type": "code",
   "execution_count": 5,
   "id": "6f3de120",
   "metadata": {
    "execution": {
     "iopub.execute_input": "2021-11-09T12:57:05.933765Z",
     "iopub.status.busy": "2021-11-09T12:57:05.932242Z",
     "iopub.status.idle": "2021-11-09T12:57:05.936295Z",
     "shell.execute_reply": "2021-11-09T12:57:05.935662Z"
    }
   },
   "outputs": [
    {
     "name": "stderr",
     "output_type": "stream",
     "text": [
      "[2021-11-09 12:57:05]>INFO>Change labels in graph=<networkx.classes.multidigraph.MultiDiGraph object at 0x7f72fe5c46a0> with mapping={'a': 'b'} to new_graph=<networkx.classes.multidigraph.MultiDiGraph object at 0x7f73308ad3a0>\n"
     ]
    }
   ],
   "source": [
    "new_cycle = cfpq_data.change_edges(cycle, {\"a\": \"b\"})"
   ]
  },
  {
   "cell_type": "markdown",
   "id": "67e75d10",
   "metadata": {},
   "source": [
    "Now the labels `a` have changed to `b`.\n",
    "\n",
    "# Grammars\n",
    "\n",
    "You can create your own context-free grammar (CFG) or use a predefined one.\n",
    "Now we have three representations of CFG documented on the Grammars page:\n",
    "\n",
    "1. [Classic](https://en.wikipedia.org/wiki/Context-free_grammar#Formal_definitions)\n",
    "\n",
    "1. [Chomsky Normal Form](https://en.wikipedia.org/wiki/Chomsky_normal_form)\n",
    "\n",
    "1. [Recursive State Machine](https://link.springer.com/chapter/10.1007/978-3-030-54832-2_6#Sec2)\n",
    "\n",
    "## Create a context-free grammar\n",
    "\n",
    "You can create context-free grammar by using function `cfg_from_text`\n",
    "from Reading and writing grammars."
   ]
  },
  {
   "cell_type": "code",
   "execution_count": 6,
   "id": "575e7695",
   "metadata": {
    "execution": {
     "iopub.execute_input": "2021-11-09T12:57:05.940685Z",
     "iopub.status.busy": "2021-11-09T12:57:05.940083Z",
     "iopub.status.idle": "2021-11-09T12:57:05.943080Z",
     "shell.execute_reply": "2021-11-09T12:57:05.942601Z"
    }
   },
   "outputs": [
    {
     "name": "stderr",
     "output_type": "stream",
     "text": [
      "[2021-11-09 12:57:05]>INFO>Create cfg=<pyformlang.cfg.cfg.CFG object at 0x7f72fe635b50> from text='S -> a S b S | a b', start_symbol=Variable(S)\n"
     ]
    }
   ],
   "source": [
    "cfg = cfpq_data.cfg_from_text(\"S -> a S b S | a b\")"
   ]
  }
 ],
 "metadata": {
  "language_info": {
   "codemirror_mode": {
    "name": "ipython",
    "version": 3
   },
   "file_extension": ".py",
   "mimetype": "text/x-python",
   "name": "python",
   "nbconvert_exporter": "python",
   "pygments_lexer": "ipython3",
   "version": "3.8.12"
  }
 },
 "nbformat": 4,
 "nbformat_minor": 5
}
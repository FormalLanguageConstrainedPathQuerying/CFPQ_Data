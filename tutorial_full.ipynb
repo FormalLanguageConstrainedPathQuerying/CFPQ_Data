{
 "cells": [
  {
   "cell_type": "markdown",
   "id": "4837d584",
   "metadata": {},
   "source": [
    "## Tutorial\n",
    "\n",
    "Release\n",
    "\n",
    ":   4.0.2\n",
    "\n",
    "Date\n",
    "\n",
    ":   Dec 08, 2022\n",
    "\n",
    "This guide can help you start working with CFPQ_Data.\n",
    "\n",
    "**You can download this tutorial as a Jupyter Notebook from the link at the end of the page.**\n",
    "\n",
    "### Import\n",
    "\n",
    "First you need to import the package."
   ]
  },
  {
   "cell_type": "code",
   "execution_count": 1,
   "id": "12255d8c",
   "metadata": {
    "execution": {
     "iopub.execute_input": "2022-12-08T11:49:40.398239Z",
     "iopub.status.busy": "2022-12-08T11:49:40.397981Z",
     "iopub.status.idle": "2022-12-08T11:49:40.762222Z",
     "shell.execute_reply": "2022-12-08T11:49:40.761524Z"
    }
   },
   "outputs": [],
   "source": [
    "import cfpq_data"
   ]
  },
  {
   "cell_type": "markdown",
   "id": "b35e5647",
   "metadata": {},
   "source": [
    "# Load graph\n",
    "\n",
    "After the package is imported, we can load the graphs.\n",
    "\n",
    "## Load graph archive from Dataset\n",
    "\n",
    "We can load the archive with the graph using function `download`."
   ]
  },
  {
   "cell_type": "code",
   "execution_count": 2,
   "id": "522adcdb",
   "metadata": {
    "execution": {
     "iopub.execute_input": "2022-12-08T11:49:40.766701Z",
     "iopub.status.busy": "2022-12-08T11:49:40.765985Z",
     "iopub.status.idle": "2022-12-08T11:49:41.281459Z",
     "shell.execute_reply": "2022-12-08T11:49:41.280803Z"
    }
   },
   "outputs": [
    {
     "name": "stderr",
     "output_type": "stream",
     "text": [
      "[2022-12-08 11:49:40]>INFO>Found graph with name='bzip'\n"
     ]
    },
    {
     "name": "stderr",
     "output_type": "stream",
     "text": [
      "[2022-12-08 11:49:41]>INFO>Load archive graph_archive=PosixPath('/opt/hostedtoolcache/Python/3.8.15/x64/lib/python3.8/site-packages/cfpq_data/data/graphs/bzip.tar.gz')\n"
     ]
    },
    {
     "name": "stderr",
     "output_type": "stream",
     "text": [
      "[2022-12-08 11:49:41]>INFO>Unzip graph name='bzip' to file graph=PosixPath('/opt/hostedtoolcache/Python/3.8.15/x64/lib/python3.8/site-packages/cfpq_data/data/graphs/bzip/bzip.csv')\n"
     ]
    },
    {
     "name": "stderr",
     "output_type": "stream",
     "text": [
      "[2022-12-08 11:49:41]>INFO>Remove archive graph_archive=PosixPath('/opt/hostedtoolcache/Python/3.8.15/x64/lib/python3.8/site-packages/cfpq_data/data/graphs/bzip.tar.gz')\n"
     ]
    }
   ],
   "source": [
    "bzip_path = cfpq_data.download(\"bzip\")"
   ]
  },
  {
   "cell_type": "markdown",
   "id": "1312b119",
   "metadata": {},
   "source": [
    "# Load graph by path\n",
    "\n",
    "We can load the graph along the specified path using function `graph_from_csv`."
   ]
  },
  {
   "cell_type": "code",
   "execution_count": 3,
   "id": "220d4c44",
   "metadata": {
    "execution": {
     "iopub.execute_input": "2022-12-08T11:49:41.284972Z",
     "iopub.status.busy": "2022-12-08T11:49:41.284411Z",
     "iopub.status.idle": "2022-12-08T11:49:41.295499Z",
     "shell.execute_reply": "2022-12-08T11:49:41.294801Z"
    }
   },
   "outputs": [
    {
     "name": "stderr",
     "output_type": "stream",
     "text": [
      "[2022-12-08 11:49:41]>INFO>Load graph=<networkx.classes.multidigraph.MultiDiGraph object at 0x7f6694894ac0> from path=PosixPath('/opt/hostedtoolcache/Python/3.8.15/x64/lib/python3.8/site-packages/cfpq_data/data/graphs/bzip/bzip.csv')\n"
     ]
    }
   ],
   "source": [
    "bzip = cfpq_data.graph_from_csv(bzip_path)"
   ]
  },
  {
   "cell_type": "markdown",
   "id": "2006cdec",
   "metadata": {},
   "source": [
    "Create graph\n",
    "\n",
    "We can also create a synthetic graph using one of the generators in module Graph generators.\n",
    "\n",
    "# Create a one cycle graph\n",
    "\n",
    "For example, let's create a one cycle graph, with 5 nodes, the edges of which are marked with the letter `a`."
   ]
  },
  {
   "cell_type": "code",
   "execution_count": 4,
   "id": "c33da6b3",
   "metadata": {
    "execution": {
     "iopub.execute_input": "2022-12-08T11:49:41.298621Z",
     "iopub.status.busy": "2022-12-08T11:49:41.298085Z",
     "iopub.status.idle": "2022-12-08T11:49:41.302342Z",
     "shell.execute_reply": "2022-12-08T11:49:41.301701Z"
    }
   },
   "outputs": [
    {
     "name": "stderr",
     "output_type": "stream",
     "text": [
      "[2022-12-08 11:49:41]>INFO>Create a cycle graph=<networkx.classes.multidigraph.MultiDiGraph object at 0x7f6665e282b0> with n=5, label='a'\n"
     ]
    }
   ],
   "source": [
    "cycle = cfpq_data.labeled_cycle_graph(5, label=\"a\")"
   ]
  },
  {
   "cell_type": "markdown",
   "id": "9a36b3a1",
   "metadata": {},
   "source": [
    "Change edges\n",
    "\n",
    "We can change the specified graph labels by using function `change_edges`\n",
    "from Graph utilities."
   ]
  },
  {
   "cell_type": "code",
   "execution_count": 5,
   "id": "f5410595",
   "metadata": {
    "execution": {
     "iopub.execute_input": "2022-12-08T11:49:41.306290Z",
     "iopub.status.busy": "2022-12-08T11:49:41.305681Z",
     "iopub.status.idle": "2022-12-08T11:49:41.309807Z",
     "shell.execute_reply": "2022-12-08T11:49:41.309178Z"
    }
   },
   "outputs": [
    {
     "name": "stderr",
     "output_type": "stream",
     "text": [
      "[2022-12-08 11:49:41]>INFO>Change labels in graph=<networkx.classes.multidigraph.MultiDiGraph object at 0x7f6665e282b0> with mapping={'a': 'b'} to new_graph=<networkx.classes.multidigraph.MultiDiGraph object at 0x7f6665e28a30>\n"
     ]
    }
   ],
   "source": [
    "new_cycle = cfpq_data.change_edges(cycle, {\"a\": \"b\"})"
   ]
  },
  {
   "cell_type": "markdown",
   "id": "6646d81e",
   "metadata": {},
   "source": [
    "Now the labels `a` have changed to `b`.\n",
    "\n",
    "# Add reverse edges\n",
    "\n",
    "In addition, we can add reverse edges to the graph by using function `add_reverse_edges`\n",
    "from Graph utilities. This is extremely useful if graph analysis is formulated using such reverse edges."
   ]
  },
  {
   "cell_type": "code",
   "execution_count": 6,
   "id": "8a751181",
   "metadata": {
    "execution": {
     "iopub.execute_input": "2022-12-08T11:49:41.312853Z",
     "iopub.status.busy": "2022-12-08T11:49:41.312500Z",
     "iopub.status.idle": "2022-12-08T11:49:41.316375Z",
     "shell.execute_reply": "2022-12-08T11:49:41.315847Z"
    }
   },
   "outputs": [
    {
     "name": "stderr",
     "output_type": "stream",
     "text": [
      "[2022-12-08 11:49:41]>INFO>Add reverse edges in graph=<networkx.classes.multidigraph.MultiDiGraph object at 0x7f6665e28a30> with mapping=None to new_graph=<networkx.classes.multidigraph.MultiDiGraph object at 0x7f6665e28250>\n"
     ]
    }
   ],
   "source": [
    "new_cycle_with_reversed = cfpq_data.add_reverse_edges(new_cycle)"
   ]
  },
  {
   "cell_type": "markdown",
   "id": "46483f28",
   "metadata": {},
   "source": [
    "Now, for each edge with label `a` this graph contains the reversed edge with label `a_r`.\n",
    "\n",
    "# Load grammar\n",
    "\n",
    "Also, we can load the grammars generated from grammar templates that are described on the Grammars page.\n",
    "\n",
    "## Load grammars archive from Dataset\n",
    "\n",
    "We can load the archive with the grammars for the specified template using function `download_grammars`."
   ]
  },
  {
   "cell_type": "code",
   "execution_count": 7,
   "id": "85cf33b2",
   "metadata": {
    "execution": {
     "iopub.execute_input": "2022-12-08T11:49:41.319502Z",
     "iopub.status.busy": "2022-12-08T11:49:41.318912Z",
     "iopub.status.idle": "2022-12-08T11:49:41.831081Z",
     "shell.execute_reply": "2022-12-08T11:49:41.830317Z"
    }
   },
   "outputs": [
    {
     "name": "stderr",
     "output_type": "stream",
     "text": [
      "[2022-12-08 11:49:41]>INFO>Found grammar template='c_alias'\n"
     ]
    },
    {
     "name": "stderr",
     "output_type": "stream",
     "text": [
      "[2022-12-08 11:49:41]>INFO>Load archive grammar_archive=PosixPath('/opt/hostedtoolcache/Python/3.8.15/x64/lib/python3.8/site-packages/cfpq_data/data/grammars/c_alias.tar.gz')\n"
     ]
    },
    {
     "name": "stderr",
     "output_type": "stream",
     "text": [
      "[2022-12-08 11:49:41]>INFO>Unzip grammars with template='c_alias' for graph with graph_name=None to directory grammars=PosixPath('/opt/hostedtoolcache/Python/3.8.15/x64/lib/python3.8/site-packages/cfpq_data/data/grammars/c_alias')\n"
     ]
    },
    {
     "name": "stderr",
     "output_type": "stream",
     "text": [
      "[2022-12-08 11:49:41]>INFO>Remove archive grammar_archive=PosixPath('/opt/hostedtoolcache/Python/3.8.15/x64/lib/python3.8/site-packages/cfpq_data/data/grammars/c_alias.tar.gz')\n"
     ]
    }
   ],
   "source": [
    "c_alias_path = cfpq_data.download_grammars(\"c_alias\")"
   ]
  },
  {
   "cell_type": "markdown",
   "id": "063cc570",
   "metadata": {},
   "source": [
    "# Load grammars archive for specified graph\n",
    "\n",
    "For some grammar templates we also can load the archive with the grammars for specific graphs."
   ]
  },
  {
   "cell_type": "code",
   "execution_count": 8,
   "id": "a7105c21",
   "metadata": {
    "execution": {
     "iopub.execute_input": "2022-12-08T11:49:41.834483Z",
     "iopub.status.busy": "2022-12-08T11:49:41.833945Z",
     "iopub.status.idle": "2022-12-08T11:49:42.376085Z",
     "shell.execute_reply": "2022-12-08T11:49:42.375462Z"
    }
   },
   "outputs": [
    {
     "name": "stderr",
     "output_type": "stream",
     "text": [
      "[2022-12-08 11:49:41]>INFO>Found graph with graph_name='avrora' and grammar template='java_points_to'\n"
     ]
    },
    {
     "name": "stderr",
     "output_type": "stream",
     "text": [
      "[2022-12-08 11:49:42]>INFO>Load archive grammar_archive=PosixPath('/opt/hostedtoolcache/Python/3.8.15/x64/lib/python3.8/site-packages/cfpq_data/data/grammars/java_points_to_avrora.tar.gz')\n"
     ]
    },
    {
     "name": "stderr",
     "output_type": "stream",
     "text": [
      "[2022-12-08 11:49:42]>INFO>Unzip grammars with template='java_points_to' for graph with graph_name='avrora' to directory grammars=PosixPath('/opt/hostedtoolcache/Python/3.8.15/x64/lib/python3.8/site-packages/cfpq_data/data/grammars/java_points_to_avrora')\n"
     ]
    },
    {
     "name": "stderr",
     "output_type": "stream",
     "text": [
      "[2022-12-08 11:49:42]>INFO>Remove archive grammar_archive=PosixPath('/opt/hostedtoolcache/Python/3.8.15/x64/lib/python3.8/site-packages/cfpq_data/data/grammars/java_points_to_avrora.tar.gz')\n"
     ]
    }
   ],
   "source": [
    "java_pt_avrora_path = cfpq_data.download_grammars(\"java_points_to\", graph_name=\"avrora\")"
   ]
  },
  {
   "cell_type": "markdown",
   "id": "09390264",
   "metadata": {},
   "source": [
    "Regular grammars\n",
    "\n",
    "Currently, we have one representation of regular grammars:\n",
    "\n",
    "1. [Regular expression](https://en.wikipedia.org/wiki/Regular_expression#Formal_definition)\n",
    "\n",
    "# Create a regular expression\n",
    "\n",
    "For example, a regular expression can be created by using function `regex_from_text`\n",
    "from Reading and writing grammars."
   ]
  },
  {
   "cell_type": "code",
   "execution_count": 9,
   "id": "19cc1fde",
   "metadata": {
    "execution": {
     "iopub.execute_input": "2022-12-08T11:49:42.378916Z",
     "iopub.status.busy": "2022-12-08T11:49:42.378673Z",
     "iopub.status.idle": "2022-12-08T11:49:42.382981Z",
     "shell.execute_reply": "2022-12-08T11:49:42.382327Z"
    }
   },
   "outputs": [
    {
     "name": "stderr",
     "output_type": "stream",
     "text": [
      "[2022-12-08 11:49:42]>INFO>Create regex=(a.(bc|(d)*)) from text='a (bc|d*)'\n"
     ]
    }
   ],
   "source": [
    "regex = cfpq_data.regex_from_text(\"a (bc|d*)\")"
   ]
  },
  {
   "cell_type": "markdown",
   "id": "8f10d943",
   "metadata": {},
   "source": [
    "# Load regular expression by path\n",
    "\n",
    "We can load the regular expression along the specified path using function `regex_from_txt`."
   ]
  },
  {
   "cell_type": "code",
   "execution_count": 10,
   "id": "d76307be",
   "metadata": {
    "execution": {
     "iopub.execute_input": "2022-12-08T11:49:42.386123Z",
     "iopub.status.busy": "2022-12-08T11:49:42.385659Z",
     "iopub.status.idle": "2022-12-08T11:49:42.392489Z",
     "shell.execute_reply": "2022-12-08T11:49:42.391855Z"
    }
   },
   "outputs": [
    {
     "name": "stderr",
     "output_type": "stream",
     "text": [
      "[2022-12-08 11:49:42]>INFO>Turn regex=(a.(bc|(d)*)) into text='(a (bc|(d)*))'\n"
     ]
    },
    {
     "name": "stderr",
     "output_type": "stream",
     "text": [
      "[2022-12-08 11:49:42]>INFO>Save regex=(a.(bc|(d)*)) to dest=PosixPath('/home/runner/work/CFPQ_Data/CFPQ_Data/docs/test.txt')\n"
     ]
    },
    {
     "name": "stderr",
     "output_type": "stream",
     "text": [
      "[2022-12-08 11:49:42]>INFO>Create regex=(a.(bc|(d)*)) from text='(a (bc|(d)*))'\n"
     ]
    },
    {
     "name": "stderr",
     "output_type": "stream",
     "text": [
      "[2022-12-08 11:49:42]>INFO>Create regex=(a.(bc|(d)*)) from path=PosixPath('/home/runner/work/CFPQ_Data/CFPQ_Data/docs/test.txt')\n"
     ]
    }
   ],
   "source": [
    "path = cfpq_data.regex_to_txt(regex, \"test.txt\")\n",
    "regex_by_path = cfpq_data.regex_from_txt(path)"
   ]
  },
  {
   "cell_type": "markdown",
   "id": "89b07edf",
   "metadata": {},
   "source": [
    "Сontext-free grammars\n",
    "\n",
    "Currently, we have three representations of context-free grammars (CFGs):\n",
    "\n",
    "1. [Classic](https://en.wikipedia.org/wiki/Context-free_grammar#Formal_definitions)\n",
    "\n",
    "1. [Chomsky Normal Form](https://en.wikipedia.org/wiki/Chomsky_normal_form)\n",
    "\n",
    "1. [Recursive State Machine](https://link.springer.com/chapter/10.1007/978-3-030-54832-2_6#Sec2)\n",
    "\n",
    "# Create a classic context-free grammar\n",
    "\n",
    "A classic context-free grammar can be created by using function `cfg_from_text`\n",
    "from Reading and writing grammars."
   ]
  },
  {
   "cell_type": "code",
   "execution_count": 11,
   "id": "f3d21a8c",
   "metadata": {
    "execution": {
     "iopub.execute_input": "2022-12-08T11:49:42.397254Z",
     "iopub.status.busy": "2022-12-08T11:49:42.397007Z",
     "iopub.status.idle": "2022-12-08T11:49:42.401046Z",
     "shell.execute_reply": "2022-12-08T11:49:42.400439Z"
    }
   },
   "outputs": [
    {
     "name": "stderr",
     "output_type": "stream",
     "text": [
      "[2022-12-08 11:49:42]>INFO>Create cfg=<pyformlang.cfg.cfg.CFG object at 0x7f6665db1d00> from text='S -> a S b S | a b', start_symbol=Variable(S)\n"
     ]
    }
   ],
   "source": [
    "cfg = cfpq_data.cfg_from_text(\"S -> a S b S | a b\")"
   ]
  },
  {
   "cell_type": "markdown",
   "id": "901421f7",
   "metadata": {},
   "source": [
    "# Load context-free grammar by path\n",
    "\n",
    "We can load the classic context-free grammar along the specified path using function `cfg_from_txt`."
   ]
  },
  {
   "cell_type": "code",
   "execution_count": 12,
   "id": "b9eb2d44",
   "metadata": {
    "execution": {
     "iopub.execute_input": "2022-12-08T11:49:42.404551Z",
     "iopub.status.busy": "2022-12-08T11:49:42.404334Z",
     "iopub.status.idle": "2022-12-08T11:49:42.410324Z",
     "shell.execute_reply": "2022-12-08T11:49:42.409682Z"
    }
   },
   "outputs": [
    {
     "name": "stderr",
     "output_type": "stream",
     "text": [
      "[2022-12-08 11:49:42]>INFO>Turn cfg=<pyformlang.cfg.cfg.CFG object at 0x7f6665db1d00> into text='S -> a S b S\\nS -> a b'\n"
     ]
    },
    {
     "name": "stderr",
     "output_type": "stream",
     "text": [
      "[2022-12-08 11:49:42]>INFO>Save cfg=<pyformlang.cfg.cfg.CFG object at 0x7f6665db1d00> to dest=PosixPath('/home/runner/work/CFPQ_Data/CFPQ_Data/docs/test.txt')\n"
     ]
    },
    {
     "name": "stderr",
     "output_type": "stream",
     "text": [
      "[2022-12-08 11:49:42]>INFO>Create cfg=<pyformlang.cfg.cfg.CFG object at 0x7f66948a0940> from text='S -> a S b S\\nS -> a b', start_symbol=Variable(S)\n"
     ]
    },
    {
     "name": "stderr",
     "output_type": "stream",
     "text": [
      "[2022-12-08 11:49:42]>INFO>Create cfg=<pyformlang.cfg.cfg.CFG object at 0x7f66948a0940> from path=PosixPath('/home/runner/work/CFPQ_Data/CFPQ_Data/docs/test.txt'), start_symbol=Variable(S)\n"
     ]
    }
   ],
   "source": [
    "path = cfpq_data.cfg_to_txt(cfg, \"test.txt\")\n",
    "cfg_by_path = cfpq_data.cfg_from_txt(path)"
   ]
  },
  {
   "cell_type": "markdown",
   "id": "35632040",
   "metadata": {},
   "source": [
    "Generate grammar\n",
    "\n",
    "We can also generate a grammar for specified template using one of the generators in module Grammar generators.\n",
    "\n",
    "# Generate a Dyck grammar\n",
    "\n",
    "For example, let's generate a Dyck grammar of the balanced strings with `a` as an opening parenthesis, `b` as a closing parenthesis, and without the empty string."
   ]
  },
  {
   "cell_type": "code",
   "execution_count": 13,
   "id": "7781ce00",
   "metadata": {
    "execution": {
     "iopub.execute_input": "2022-12-08T11:49:42.415589Z",
     "iopub.status.busy": "2022-12-08T11:49:42.415122Z",
     "iopub.status.idle": "2022-12-08T11:49:42.420878Z",
     "shell.execute_reply": "2022-12-08T11:49:42.420274Z"
    }
   },
   "outputs": [
    {
     "name": "stderr",
     "output_type": "stream",
     "text": [
      "[2022-12-08 11:49:42]>INFO>Create a Dyck cfg=<pyformlang.cfg.cfg.CFG object at 0x7f6665ca7310> with types=[('a', 'b')], eps=False\n"
     ]
    }
   ],
   "source": [
    "dyck_cfg = cfpq_data.dyck_grammar([(\"a\", \"b\")], eps=False)"
   ]
  },
  {
   "cell_type": "markdown",
   "id": "87772641",
   "metadata": {},
   "source": [
    "# Generate a Java Points-to grammar\n",
    "\n",
    "Also, let's generate a Java Points-to grammar for the field-sensitive analysis of Java programs with field names `f0` and `f1`."
   ]
  },
  {
   "cell_type": "code",
   "execution_count": 14,
   "id": "3775c1c7",
   "metadata": {
    "execution": {
     "iopub.execute_input": "2022-12-08T11:49:42.423661Z",
     "iopub.status.busy": "2022-12-08T11:49:42.423439Z",
     "iopub.status.idle": "2022-12-08T11:49:42.427437Z",
     "shell.execute_reply": "2022-12-08T11:49:42.426923Z"
    }
   },
   "outputs": [
    {
     "name": "stderr",
     "output_type": "stream",
     "text": [
      "[2022-12-08 11:49:42]>INFO>Create a Java Points-to cfg=<pyformlang.cfg.cfg.CFG object at 0x7f6665ca7df0> with fields=['f0', 'f1']\n"
     ]
    }
   ],
   "source": [
    "java_pt_cfg = cfpq_data.java_points_to_grammar([\"f0\", \"f1\"])"
   ]
  },
  {
   "cell_type": "markdown",
   "id": "72d8e96b",
   "metadata": {},
   "source": [
    "Benchmarks\n",
    "\n",
    "In addition, one of the prepared benchmarks that contains graphs, queries, other input data, and results for\n",
    "a particular formal-language-constrained path querying problem can be downloaded.\n",
    "\n",
    "Currently, we provide the following benchmarks documented on the Benchmarks page:\n",
    "\n",
    "1. MS_Reachability\n",
    "\n",
    "# Load benchmark archive\n",
    "\n",
    "You can load the archive with the benchmark using function `download_benchmark`."
   ]
  },
  {
   "cell_type": "code",
   "execution_count": 15,
   "id": "4ddef56b",
   "metadata": {
    "execution": {
     "iopub.execute_input": "2022-12-08T11:49:42.430371Z",
     "iopub.status.busy": "2022-12-08T11:49:42.429770Z",
     "iopub.status.idle": "2022-12-08T11:49:44.782002Z",
     "shell.execute_reply": "2022-12-08T11:49:44.781373Z"
    }
   },
   "outputs": [
    {
     "name": "stderr",
     "output_type": "stream",
     "text": [
      "[2022-12-08 11:49:42]>INFO>Found benchmark with name='MS_Reachability'\n"
     ]
    },
    {
     "name": "stderr",
     "output_type": "stream",
     "text": [
      "[2022-12-08 11:49:44]>INFO>Load archive benchmark_archive=PosixPath('/opt/hostedtoolcache/Python/3.8.15/x64/lib/python3.8/site-packages/cfpq_data/data/benchmarks/MS_Reachability.tar.gz')\n"
     ]
    },
    {
     "name": "stderr",
     "output_type": "stream",
     "text": [
      "[2022-12-08 11:49:44]>INFO>Unzip benchmark name='MS_Reachability' to directory benchmark=PosixPath('/opt/hostedtoolcache/Python/3.8.15/x64/lib/python3.8/site-packages/cfpq_data/data/benchmarks/MS_Reachability')\n"
     ]
    },
    {
     "name": "stderr",
     "output_type": "stream",
     "text": [
      "[2022-12-08 11:49:44]>INFO>Remove archive benchmark_archive=PosixPath('/opt/hostedtoolcache/Python/3.8.15/x64/lib/python3.8/site-packages/cfpq_data/data/benchmarks/MS_Reachability.tar.gz')\n"
     ]
    }
   ],
   "source": [
    "ms_reachability_path = cfpq_data.download_benchmark(\"MS_Reachability\")"
   ]
  },
  {
   "cell_type": "markdown",
   "id": "9b7ac760",
   "metadata": {},
   "source": [
    "# MS_Reachability benchmark\n",
    "\n",
    "MS_Reachability benchmark can be used for the experimental study of the algorithms that solve the multiple-source\n",
    "formal-language-constrained reachability problem. This benchmark is described on the MS_Reachability page.\n",
    "\n",
    "For this benchmark we provide some useful functions from\n",
    "Graph utilities.\n",
    "For example, the set of source vertices can be saved to the TXT file or it can be loaded from benchmark by using\n",
    "functions `multiple_source_from_txt` and\n",
    "`multiple_source_to_txt`."
   ]
  },
  {
   "cell_type": "code",
   "execution_count": 16,
   "id": "511f24c9",
   "metadata": {
    "execution": {
     "iopub.execute_input": "2022-12-08T11:49:44.784974Z",
     "iopub.status.busy": "2022-12-08T11:49:44.784747Z",
     "iopub.status.idle": "2022-12-08T11:49:44.792004Z",
     "shell.execute_reply": "2022-12-08T11:49:44.791392Z"
    }
   },
   "outputs": [
    {
     "name": "stderr",
     "output_type": "stream",
     "text": [
      "[2022-12-08 11:49:44]>INFO>Save source_vertices={1, 2, 10, 5} to dest=PosixPath('/home/runner/work/CFPQ_Data/CFPQ_Data/docs/test.txt')\n"
     ]
    },
    {
     "name": "stderr",
     "output_type": "stream",
     "text": [
      "[2022-12-08 11:49:44]>INFO>Load source_vertices={1, 2, 10, 5} from path=PosixPath('/home/runner/work/CFPQ_Data/CFPQ_Data/docs/test.txt')\n"
     ]
    }
   ],
   "source": [
    "s = {1, 2, 5, 10}\n",
    "path = cfpq_data.multiple_source_to_txt(s, \"test.txt\")\n",
    "source_vertices = cfpq_data.multiple_source_from_txt(path)"
   ]
  }
 ],
 "metadata": {
  "language_info": {
   "codemirror_mode": {
    "name": "ipython",
    "version": 3
   },
   "file_extension": ".py",
   "mimetype": "text/x-python",
   "name": "python",
   "nbconvert_exporter": "python",
   "pygments_lexer": "ipython3",
   "version": "3.8.15"
  }
 },
 "nbformat": 4,
 "nbformat_minor": 5
}
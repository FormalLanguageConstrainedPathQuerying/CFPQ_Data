{
 "cells": [
  {
   "cell_type": "markdown",
   "id": "fafbf9b9",
   "metadata": {},
   "source": [
    "## Tutorial\n",
    "\n",
    "Release\n",
    "\n",
    ":   2.0.0\n",
    "\n",
    "Date\n",
    "\n",
    ":   Nov 07, 2021\n",
    "\n",
    "This guide can help you start working with CFPQ_Data.\n",
    "\n",
    "**You can download this tutorial as a Jupyter Notebook from the link at the end of the page.**\n",
    "\n",
    "### Import\n",
    "\n",
    "First you need to import the package."
   ]
  },
  {
   "cell_type": "code",
   "execution_count": 1,
   "id": "ff732d3f",
   "metadata": {
    "execution": {
     "iopub.execute_input": "2021-11-07T02:44:52.688330Z",
     "iopub.status.busy": "2021-11-07T02:44:52.687495Z",
     "iopub.status.idle": "2021-11-07T02:44:53.148691Z",
     "shell.execute_reply": "2021-11-07T02:44:53.147997Z"
    }
   },
   "outputs": [],
   "source": [
    "import cfpq_data"
   ]
  },
  {
   "cell_type": "markdown",
   "id": "284500da",
   "metadata": {},
   "source": [
    "# Load graph\n",
    "\n",
    "After the package is imported, we can load the graphs.\n",
    "\n",
    "## Load graph archive from Dataset\n",
    "\n",
    "We can load the archive with the graph using function `download`."
   ]
  },
  {
   "cell_type": "code",
   "execution_count": 2,
   "id": "41ac2cc2",
   "metadata": {
    "execution": {
     "iopub.execute_input": "2021-11-07T02:44:53.153455Z",
     "iopub.status.busy": "2021-11-07T02:44:53.152866Z",
     "iopub.status.idle": "2021-11-07T02:44:53.483515Z",
     "shell.execute_reply": "2021-11-07T02:44:53.483993Z"
    }
   },
   "outputs": [
    {
     "name": "stderr",
     "output_type": "stream",
     "text": [
      "[2021-11-07 02:44:53]>INFO>Found graph with name='bzip'\n"
     ]
    },
    {
     "name": "stderr",
     "output_type": "stream",
     "text": [
      "[2021-11-07 02:44:53]>INFO>Load archive graph_archive=PosixPath('/opt/hostedtoolcache/Python/3.8.12/x64/lib/python3.8/site-packages/cfpq_data/data/bzip.tar.gz')\n"
     ]
    },
    {
     "name": "stderr",
     "output_type": "stream",
     "text": [
      "[2021-11-07 02:44:53]>INFO>Unzip graph name='bzip' to file graph=PosixPath('/opt/hostedtoolcache/Python/3.8.12/x64/lib/python3.8/site-packages/cfpq_data/data/bzip/bzip.csv')\n"
     ]
    },
    {
     "name": "stderr",
     "output_type": "stream",
     "text": [
      "[2021-11-07 02:44:53]>INFO>Remove archive graph_archive=PosixPath('/opt/hostedtoolcache/Python/3.8.12/x64/lib/python3.8/site-packages/cfpq_data/data/bzip.tar.gz')\n"
     ]
    }
   ],
   "source": [
    "bzip_path = cfpq_data.download(\"bzip\")"
   ]
  },
  {
   "cell_type": "markdown",
   "id": "b400409c",
   "metadata": {},
   "source": [
    "# Load graph by path\n",
    "\n",
    "We can load the graph along the specified path using function `graph_from_csv`."
   ]
  },
  {
   "cell_type": "code",
   "execution_count": 3,
   "id": "831b05bb",
   "metadata": {
    "execution": {
     "iopub.execute_input": "2021-11-07T02:44:53.495446Z",
     "iopub.status.busy": "2021-11-07T02:44:53.488811Z",
     "iopub.status.idle": "2021-11-07T02:44:53.499603Z",
     "shell.execute_reply": "2021-11-07T02:44:53.499135Z"
    }
   },
   "outputs": [
    {
     "name": "stderr",
     "output_type": "stream",
     "text": [
      "[2021-11-07 02:44:53]>INFO>Load graph=<networkx.classes.multidigraph.MultiDiGraph object at 0x7f1796c95be0> from path=PosixPath('/opt/hostedtoolcache/Python/3.8.12/x64/lib/python3.8/site-packages/cfpq_data/data/bzip/bzip.csv')\n"
     ]
    }
   ],
   "source": [
    "bzip = cfpq_data.graph_from_csv(bzip_path)"
   ]
  },
  {
   "cell_type": "markdown",
   "id": "60982620",
   "metadata": {},
   "source": [
    "Create graph\n",
    "\n",
    "We can also create a synthetic graph using one of the generators in module Graph generators.\n",
    "\n",
    "# Create a one cycle graph\n",
    "\n",
    "For example, let's create a one cycle graph, with 5 nodes, the edges of which are marked with the letter `a`."
   ]
  },
  {
   "cell_type": "code",
   "execution_count": 4,
   "id": "d1ecdf4b",
   "metadata": {
    "execution": {
     "iopub.execute_input": "2021-11-07T02:44:53.504415Z",
     "iopub.status.busy": "2021-11-07T02:44:53.503811Z",
     "iopub.status.idle": "2021-11-07T02:44:53.506934Z",
     "shell.execute_reply": "2021-11-07T02:44:53.506457Z"
    }
   },
   "outputs": [
    {
     "name": "stderr",
     "output_type": "stream",
     "text": [
      "[2021-11-07 02:44:53]>INFO>Create a cycle graph=<networkx.classes.multidigraph.MultiDiGraph object at 0x7f1796c95e20> with n=5, label='a'\n"
     ]
    }
   ],
   "source": [
    "cycle = cfpq_data.labeled_cycle_graph(5, label=\"a\")"
   ]
  },
  {
   "cell_type": "markdown",
   "id": "af85349f",
   "metadata": {},
   "source": [
    "Change edges\n",
    "\n",
    "We can change the specified graph labels by using function `change_edges`\n",
    "from Graph utilities."
   ]
  },
  {
   "cell_type": "code",
   "execution_count": 5,
   "id": "c7a9d59c",
   "metadata": {
    "execution": {
     "iopub.execute_input": "2021-11-07T02:44:53.511082Z",
     "iopub.status.busy": "2021-11-07T02:44:53.510487Z",
     "iopub.status.idle": "2021-11-07T02:44:53.513426Z",
     "shell.execute_reply": "2021-11-07T02:44:53.512911Z"
    }
   },
   "outputs": [
    {
     "name": "stderr",
     "output_type": "stream",
     "text": [
      "[2021-11-07 02:44:53]>INFO>Change labels in graph=<networkx.classes.multidigraph.MultiDiGraph object at 0x7f1796c95e20> with mapping={'a': 'b'} to new_graph=<networkx.classes.multidigraph.MultiDiGraph object at 0x7f17c8f20070>\n"
     ]
    }
   ],
   "source": [
    "new_cycle = cfpq_data.change_edges(cycle, {\"a\": \"b\"})"
   ]
  },
  {
   "cell_type": "markdown",
   "id": "a48c9fda",
   "metadata": {},
   "source": [
    "Now the labels `a` have changed to `b`.\n",
    "\n",
    "# Grammars\n",
    "\n",
    "You can create your own context-free grammar (CFG) or use a predefined one.\n",
    "Now we have three representations of CFG documented on the Grammars page:\n",
    "\n",
    "1. [Classic](https://en.wikipedia.org/wiki/Context-free_grammar#Formal_definitions)\n",
    "\n",
    "1. [Chomsky Normal Form](https://en.wikipedia.org/wiki/Chomsky_normal_form)\n",
    "\n",
    "1. [Recursive State Machine](https://link.springer.com/chapter/10.1007/978-3-030-54832-2_6#Sec2)\n",
    "\n",
    "## Create a context-free grammar\n",
    "\n",
    "You can create context-free grammar by using function `cfg_from_text`\n",
    "from Reading and writing grammars."
   ]
  },
  {
   "cell_type": "code",
   "execution_count": 6,
   "id": "41395d33",
   "metadata": {
    "execution": {
     "iopub.execute_input": "2021-11-07T02:44:53.517988Z",
     "iopub.status.busy": "2021-11-07T02:44:53.517379Z",
     "iopub.status.idle": "2021-11-07T02:44:53.519811Z",
     "shell.execute_reply": "2021-11-07T02:44:53.520301Z"
    }
   },
   "outputs": [
    {
     "name": "stderr",
     "output_type": "stream",
     "text": [
      "[2021-11-07 02:44:53]>INFO>Create cfg=<pyformlang.cfg.cfg.CFG object at 0x7f17c8f7ff10> from text='S -> a S b S | a b', start_symbol=Variable(S)\n"
     ]
    }
   ],
   "source": [
    "cfg = cfpq_data.cfg_from_text(\"S -> a S b S | a b\")"
   ]
  }
 ],
 "metadata": {
  "language_info": {
   "codemirror_mode": {
    "name": "ipython",
    "version": 3
   },
   "file_extension": ".py",
   "mimetype": "text/x-python",
   "name": "python",
   "nbconvert_exporter": "python",
   "pygments_lexer": "ipython3",
   "version": "3.8.12"
  }
 },
 "nbformat": 4,
 "nbformat_minor": 5
}
{
 "cells": [
  {
   "cell_type": "markdown",
   "id": "5c6b097d",
   "metadata": {},
   "source": [
    "## Tutorial\n",
    "\n",
    "Release\n",
    "\n",
    ":   1.0.0\n",
    "\n",
    "Date\n",
    "\n",
    ":   May 11, 2021\n",
    "\n",
    "This guide can help you start working with CFPQ_Data.\n",
    "\n",
    "We use the NetworkX [MultiDiGraph](https://networkx.org/documentation/latest/reference/classes/multidigraph.html) to represent the labeled graph.\n",
    "To familiarize yourself with this representation, see [NetworkX tutorial](https://networkx.org/documentation/latest/tutorial.html).\n",
    "\n",
    "We use the Pyformlang [CFG](https://pyformlang.readthedocs.io/en/latest/modules/context_free_grammar.html) to represent the\n",
    "context-free grammar.\n",
    "To familiarize yourself with this representation, see [Pyformlang usage](https://pyformlang.readthedocs.io/en/latest/usage.html#context-free-grammar).\n",
    "\n",
    "All functions are documented on the Reference page.\n",
    "\n",
    "### Graphs\n",
    "\n",
    "You are able to get a synthetic or real-world graph with CFPQ_Data.\n",
    "\n",
    "#### Create a synthetic graph\n",
    "\n",
    "You can create many different synthetic graphs by using functions from Graph's generators.\n",
    "\n",
    "For example, let's create a one cycle graph, the edges of which are marked with the letter `a`."
   ]
  },
  {
   "cell_type": "code",
   "execution_count": 1,
   "id": "44f116af",
   "metadata": {
    "execution": {
     "iopub.execute_input": "2021-05-11T13:19:35.139894Z",
     "iopub.status.busy": "2021-05-11T13:19:35.139070Z",
     "iopub.status.idle": "2021-05-11T13:19:35.610134Z",
     "shell.execute_reply": "2021-05-11T13:19:35.609539Z"
    }
   },
   "outputs": [],
   "source": [
    "import cfpq_data\n",
    "cycle = cfpq_data.labeled_cycle_graph(5, edge_label=\"a\")"
   ]
  },
  {
   "cell_type": "markdown",
   "id": "3ab5353d",
   "metadata": {},
   "source": [
    "# Get a real graph\n",
    "\n",
    "You can get many different real-world graphs from CFPQ_Data Dataset.\n",
    "\n",
    "And present these graphs in convenient formats by using functions from Graph's readwrite.\n",
    "\n",
    "For example, let's get a `generations` ontology graph."
   ]
  },
  {
   "cell_type": "code",
   "execution_count": 2,
   "id": "6107cf19",
   "metadata": {
    "execution": {
     "iopub.execute_input": "2021-05-11T13:19:35.619027Z",
     "iopub.status.busy": "2021-05-11T13:19:35.613674Z",
     "iopub.status.idle": "2021-05-11T13:19:36.364385Z",
     "shell.execute_reply": "2021-05-11T13:19:36.364973Z"
    }
   },
   "outputs": [],
   "source": [
    "generations = cfpq_data.graph_from_dataset(\"generations\")"
   ]
  },
  {
   "cell_type": "markdown",
   "id": "4660358e",
   "metadata": {},
   "source": [
    "# Change labels\n",
    "\n",
    "You can change the specified graph labels by using function `cfpq_data.graphs.utils.change_edges()`\n",
    "from Graph's utils."
   ]
  },
  {
   "cell_type": "code",
   "execution_count": 3,
   "id": "5e1ae2de",
   "metadata": {
    "execution": {
     "iopub.execute_input": "2021-05-11T13:19:36.369238Z",
     "iopub.status.busy": "2021-05-11T13:19:36.368692Z",
     "iopub.status.idle": "2021-05-11T13:19:36.372276Z",
     "shell.execute_reply": "2021-05-11T13:19:36.371781Z"
    }
   },
   "outputs": [],
   "source": [
    "new_cycle = cfpq_data.change_edges(cycle, {\"a\": \"b\"})"
   ]
  },
  {
   "cell_type": "markdown",
   "id": "28dc485d",
   "metadata": {},
   "source": [
    "Now the labels `a` have changed to `b`.\n",
    "\n",
    " Grammars\n",
    "\n",
    "You can create your own context-free grammar (CFG) or use a predefined one.\n",
    "We now have three representations of CFG documented on the Grammars page:\n",
    "\n",
    "1. [Classic](https://en.wikipedia.org/wiki/Context-free_grammar#Formal_definitions)\n",
    "\n",
    "1. [Chomsky Normal Form](https://en.wikipedia.org/wiki/Chomsky_normal_form)\n",
    "\n",
    "1. [Recursive State Machine](https://link.springer.com/chapter/10.1007/978-3-030-54832-2_6#Sec2)\n",
    "\n",
    "# Create a context-free grammar\n",
    "\n",
    "You can create context-free grammar by using function `cfpq_data.grammars.readwrite.cfg.cfg_from_text()`\n",
    "from Grammar's readwrite."
   ]
  },
  {
   "cell_type": "code",
   "execution_count": 4,
   "id": "56e79c7d",
   "metadata": {
    "execution": {
     "iopub.execute_input": "2021-05-11T13:19:36.376352Z",
     "iopub.status.busy": "2021-05-11T13:19:36.375681Z",
     "iopub.status.idle": "2021-05-11T13:19:36.379567Z",
     "shell.execute_reply": "2021-05-11T13:19:36.378977Z"
    }
   },
   "outputs": [],
   "source": [
    "cfg = cfpq_data.cfg_from_text(\"S -> a S b S | a b\")"
   ]
  },
  {
   "cell_type": "markdown",
   "id": "e15b4a05",
   "metadata": {},
   "source": [
    "# Use predefined context-free grammar\n",
    "\n",
    "CFPQ_Data has many predefined grammars documented on the Grammar's samples page."
   ]
  },
  {
   "cell_type": "code",
   "execution_count": 5,
   "id": "755de043",
   "metadata": {
    "execution": {
     "iopub.execute_input": "2021-05-11T13:19:36.390004Z",
     "iopub.status.busy": "2021-05-11T13:19:36.389016Z",
     "iopub.status.idle": "2021-05-11T13:19:36.392718Z",
     "shell.execute_reply": "2021-05-11T13:19:36.393303Z"
    }
   },
   "outputs": [
    {
     "data": {
      "text/plain": [
       "'S -> a S b\\nS -> a b\\n'"
      ]
     },
     "execution_count": 1,
     "metadata": {},
     "output_type": "execute_result"
    }
   ],
   "source": [
    "brackets = cfpq_data.brackets\n",
    "brackets.to_text()  # 'S -> a S b\\nS -> a b\\n'"
   ]
  },
  {
   "cell_type": "markdown",
   "id": "39e1f720",
   "metadata": {},
   "source": [
    "# Change terminals\n",
    "\n",
    "You can change the specified grammar terminals by using\n",
    "function `cfpq_data.grammars.utils.change_terminals.change_terminals_in_cfg()`\n",
    "from Grammar's utils."
   ]
  },
  {
   "cell_type": "code",
   "execution_count": 6,
   "id": "078fb225",
   "metadata": {
    "execution": {
     "iopub.execute_input": "2021-05-11T13:19:36.398942Z",
     "iopub.status.busy": "2021-05-11T13:19:36.397889Z",
     "iopub.status.idle": "2021-05-11T13:19:36.401353Z",
     "shell.execute_reply": "2021-05-11T13:19:36.400829Z"
    }
   },
   "outputs": [
    {
     "data": {
      "text/plain": [
       "'S -> b S c\\nS -> b c\\n'"
      ]
     },
     "execution_count": 1,
     "metadata": {},
     "output_type": "execute_result"
    }
   ],
   "source": [
    "brackets1 = cfpq_data.change_terminals_in_cfg(brackets, {\"a\": \"b\", \"b\": \"c\"})\n",
    "brackets1.to_text()  # 'S -> b S c\\nS -> b c\\n'"
   ]
  }
 ],
 "metadata": {
  "language_info": {
   "codemirror_mode": {
    "name": "ipython",
    "version": 3
   },
   "file_extension": ".py",
   "mimetype": "text/x-python",
   "name": "python",
   "nbconvert_exporter": "python",
   "pygments_lexer": "ipython3",
   "version": "3.8.10"
  }
 },
 "nbformat": 4,
 "nbformat_minor": 5
}